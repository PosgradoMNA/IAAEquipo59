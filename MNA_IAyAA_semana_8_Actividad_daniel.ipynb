{
  "nbformat": 4,
  "nbformat_minor": 0,
  "metadata": {
    "colab": {
      "provenance": [],
      "collapsed_sections": [],
      "include_colab_link": true
    },
    "kernelspec": {
      "display_name": "Python 3",
      "name": "python3"
    }
  },
  "cells": [
    {
      "cell_type": "markdown",
      "metadata": {
        "id": "view-in-github",
        "colab_type": "text"
      },
      "source": [
        "<a href=\"https://colab.research.google.com/github/PosgradoMNA/IAAEquipo59/blob/main/MNA_IAyAA_semana_8_Actividad_daniel.ipynb\" target=\"_parent\"><img src=\"https://colab.research.google.com/assets/colab-badge.svg\" alt=\"Open In Colab\"/></a>"
      ]
    },
    {
      "cell_type": "markdown",
      "source": [
        "#**Maestría en Inteligencia Artificial Aplicada**\n",
        "##**Curso: Inteligencia Artificial y Aprendizaje Automático**\n",
        "###Tecnológico de Monterrey\n",
        "###Prof Luis Eduardo Falcón Morales\n",
        "\n",
        "## **Adtividad de la Semana 8**\n",
        "###**Máquina de Vector Soporte - Support Vector Machine(SVM)**\n"
      ],
      "metadata": {
        "id": "VFj0sSM06dYa"
      }
    },
    {
      "cell_type": "markdown",
      "source": [
        "**Nombres y matrículas de los integrantes del equipo:**\n",
        "\n",
        "*   Daniel Roberto Meneses Leon - A01794274\n",
        "*   \n",
        "*   \n",
        "*   \n",
        "*   \n"
      ],
      "metadata": {
        "id": "Qgrvy0RGB9XI"
      }
    },
    {
      "cell_type": "markdown",
      "source": [
        "En cada sección deberás incluir todas las líneas de código necesarias para responder a cada uno de los ejercicios."
      ],
      "metadata": {
        "id": "FrJ2ahMODVj1"
      }
    },
    {
      "cell_type": "code",
      "source": [
        "# Incluye aquí todos módulos, librerías y paquetes que requieras.\n",
        "import pandas as pd\n",
        "import numpy as np\n",
        "import seaborn as sns\n",
        "import matplotlib.pyplot as plt\n",
        "\n",
        "\n",
        "import sklearn as sk\n",
        "from sklearn.model_selection import train_test_split\n",
        "\n",
        "from sklearn.pipeline import Pipeline\n",
        "from sklearn.preprocessing import StandardScaler\n",
        "from sklearn.impute import SimpleImputer\n",
        "from sklearn.preprocessing import OneHotEncoder\n",
        "from sklearn.compose import ColumnTransformer\n",
        "\n",
        "from sklearn.metrics import confusion_matrix\n",
        "from sklearn.metrics import ConfusionMatrixDisplay\n",
        "\n",
        "from sklearn.dummy import DummyClassifier\n",
        "\n",
        "from sklearn.metrics import accuracy_score, precision_score, recall_score, f1_score, classification_report\n",
        "from sklearn.model_selection import  cross_validate,  RepeatedStratifiedKFold, learning_curve, validation_curve \n",
        "\n",
        "from sklearn.svm import SVC\n",
        "from sklearn.metrics import make_scorer\n",
        "\n",
        "from sklearn.model_selection import GridSearchCV, cross_validate, cross_val_score, RepeatedStratifiedKFold\n"
      ],
      "metadata": {
        "id": "exXsscs-Dh-2"
      },
      "execution_count": 43,
      "outputs": []
    },
    {
      "cell_type": "markdown",
      "metadata": {
        "id": "X25brD-gQdZM"
      },
      "source": [
        "#**Ejercicio-1.** "
      ]
    },
    {
      "cell_type": "code",
      "source": [
        "input = \"australian.dat\"\n",
        "df = pd.read_table(input, sep=' ', header=None)\n",
        "df.head()\n",
        "print(df.describe())\n",
        "print(\"=\"*32)\n",
        "print(df.info())"
      ],
      "metadata": {
        "id": "3nU2GuWYCy6C",
        "colab": {
          "base_uri": "https://localhost:8080/"
        },
        "outputId": "e2d7f6f3-582d-4b10-88c0-ee37e9148330"
      },
      "execution_count": 6,
      "outputs": [
        {
          "output_type": "stream",
          "name": "stdout",
          "text": [
            "               0           1           2           3           4           5   \\\n",
            "count  690.000000  690.000000  690.000000  690.000000  690.000000  690.000000   \n",
            "mean     0.678261   31.568203    4.758725    1.766667    7.372464    4.692754   \n",
            "std      0.467482   11.853273    4.978163    0.430063    3.683265    1.992316   \n",
            "min      0.000000   13.750000    0.000000    1.000000    1.000000    1.000000   \n",
            "25%      0.000000   22.670000    1.000000    2.000000    4.000000    4.000000   \n",
            "50%      1.000000   28.625000    2.750000    2.000000    8.000000    4.000000   \n",
            "75%      1.000000   37.707500    7.207500    2.000000   10.000000    5.000000   \n",
            "max      1.000000   80.250000   28.000000    3.000000   14.000000    9.000000   \n",
            "\n",
            "               6           7           8          9           10          11  \\\n",
            "count  690.000000  690.000000  690.000000  690.00000  690.000000  690.000000   \n",
            "mean     2.223406    0.523188    0.427536    2.40000    0.457971    1.928986   \n",
            "std      3.346513    0.499824    0.495080    4.86294    0.498592    0.298813   \n",
            "min      0.000000    0.000000    0.000000    0.00000    0.000000    1.000000   \n",
            "25%      0.165000    0.000000    0.000000    0.00000    0.000000    2.000000   \n",
            "50%      1.000000    1.000000    0.000000    0.00000    0.000000    2.000000   \n",
            "75%      2.625000    1.000000    1.000000    3.00000    1.000000    2.000000   \n",
            "max     28.500000    1.000000    1.000000   67.00000    1.000000    3.000000   \n",
            "\n",
            "                12             13          14  \n",
            "count   690.000000     690.000000  690.000000  \n",
            "mean    184.014493    1018.385507    0.444928  \n",
            "std     172.159274    5210.102598    0.497318  \n",
            "min       0.000000       1.000000    0.000000  \n",
            "25%      80.000000       1.000000    0.000000  \n",
            "50%     160.000000       6.000000    0.000000  \n",
            "75%     272.000000     396.500000    1.000000  \n",
            "max    2000.000000  100001.000000    1.000000  \n",
            "================================\n",
            "<class 'pandas.core.frame.DataFrame'>\n",
            "RangeIndex: 690 entries, 0 to 689\n",
            "Data columns (total 15 columns):\n",
            " #   Column  Non-Null Count  Dtype  \n",
            "---  ------  --------------  -----  \n",
            " 0   0       690 non-null    int64  \n",
            " 1   1       690 non-null    float64\n",
            " 2   2       690 non-null    float64\n",
            " 3   3       690 non-null    int64  \n",
            " 4   4       690 non-null    int64  \n",
            " 5   5       690 non-null    int64  \n",
            " 6   6       690 non-null    float64\n",
            " 7   7       690 non-null    int64  \n",
            " 8   8       690 non-null    int64  \n",
            " 9   9       690 non-null    int64  \n",
            " 10  10      690 non-null    int64  \n",
            " 11  11      690 non-null    int64  \n",
            " 12  12      690 non-null    int64  \n",
            " 13  13      690 non-null    int64  \n",
            " 14  14      690 non-null    int64  \n",
            "dtypes: float64(3), int64(12)\n",
            "memory usage: 81.0 KB\n",
            "None\n"
          ]
        }
      ]
    },
    {
      "cell_type": "code",
      "source": [
        "from google.colab import drive\n",
        "drive.mount('/content/drive')"
      ],
      "metadata": {
        "colab": {
          "base_uri": "https://localhost:8080/"
        },
        "id": "SHaB6K1B9wbo",
        "outputId": "d4658ad9-4af3-4cfb-ee25-0de7a17d42d8"
      },
      "execution_count": 7,
      "outputs": [
        {
          "output_type": "stream",
          "name": "stdout",
          "text": [
            "Mounted at /content/drive\n"
          ]
        }
      ]
    },
    {
      "cell_type": "code",
      "source": [
        "df.columns = ['A1', 'A2', 'A3', 'A4', 'A5', 'A6', 'A7', 'A8', 'A9', 'A10', 'A11', 'A12', 'A13', 'A14', 'A15']\n",
        "df.head()"
      ],
      "metadata": {
        "colab": {
          "base_uri": "https://localhost:8080/",
          "height": 206
        },
        "id": "51cMz6Ii3bFS",
        "outputId": "830f6bbc-7d14-4668-e937-8c83bb6e1369"
      },
      "execution_count": 8,
      "outputs": [
        {
          "output_type": "execute_result",
          "data": {
            "text/plain": [
              "   A1     A2     A3  A4  A5  A6     A7  A8  A9  A10  A11  A12  A13   A14  A15\n",
              "0   1  22.08  11.46   2   4   4  1.585   0   0    0    1    2  100  1213    0\n",
              "1   0  22.67   7.00   2   8   4  0.165   0   0    0    0    2  160     1    0\n",
              "2   0  29.58   1.75   1   4   4  1.250   0   0    0    1    2  280     1    0\n",
              "3   0  21.67  11.50   1   5   3  0.000   1   1   11    1    2    0     1    1\n",
              "4   1  20.17   8.17   2   6   4  1.960   1   1   14    0    2   60   159    1"
            ],
            "text/html": [
              "\n",
              "  <div id=\"df-bea645e3-5310-48eb-99ab-406a34d4c4ea\">\n",
              "    <div class=\"colab-df-container\">\n",
              "      <div>\n",
              "<style scoped>\n",
              "    .dataframe tbody tr th:only-of-type {\n",
              "        vertical-align: middle;\n",
              "    }\n",
              "\n",
              "    .dataframe tbody tr th {\n",
              "        vertical-align: top;\n",
              "    }\n",
              "\n",
              "    .dataframe thead th {\n",
              "        text-align: right;\n",
              "    }\n",
              "</style>\n",
              "<table border=\"1\" class=\"dataframe\">\n",
              "  <thead>\n",
              "    <tr style=\"text-align: right;\">\n",
              "      <th></th>\n",
              "      <th>A1</th>\n",
              "      <th>A2</th>\n",
              "      <th>A3</th>\n",
              "      <th>A4</th>\n",
              "      <th>A5</th>\n",
              "      <th>A6</th>\n",
              "      <th>A7</th>\n",
              "      <th>A8</th>\n",
              "      <th>A9</th>\n",
              "      <th>A10</th>\n",
              "      <th>A11</th>\n",
              "      <th>A12</th>\n",
              "      <th>A13</th>\n",
              "      <th>A14</th>\n",
              "      <th>A15</th>\n",
              "    </tr>\n",
              "  </thead>\n",
              "  <tbody>\n",
              "    <tr>\n",
              "      <th>0</th>\n",
              "      <td>1</td>\n",
              "      <td>22.08</td>\n",
              "      <td>11.46</td>\n",
              "      <td>2</td>\n",
              "      <td>4</td>\n",
              "      <td>4</td>\n",
              "      <td>1.585</td>\n",
              "      <td>0</td>\n",
              "      <td>0</td>\n",
              "      <td>0</td>\n",
              "      <td>1</td>\n",
              "      <td>2</td>\n",
              "      <td>100</td>\n",
              "      <td>1213</td>\n",
              "      <td>0</td>\n",
              "    </tr>\n",
              "    <tr>\n",
              "      <th>1</th>\n",
              "      <td>0</td>\n",
              "      <td>22.67</td>\n",
              "      <td>7.00</td>\n",
              "      <td>2</td>\n",
              "      <td>8</td>\n",
              "      <td>4</td>\n",
              "      <td>0.165</td>\n",
              "      <td>0</td>\n",
              "      <td>0</td>\n",
              "      <td>0</td>\n",
              "      <td>0</td>\n",
              "      <td>2</td>\n",
              "      <td>160</td>\n",
              "      <td>1</td>\n",
              "      <td>0</td>\n",
              "    </tr>\n",
              "    <tr>\n",
              "      <th>2</th>\n",
              "      <td>0</td>\n",
              "      <td>29.58</td>\n",
              "      <td>1.75</td>\n",
              "      <td>1</td>\n",
              "      <td>4</td>\n",
              "      <td>4</td>\n",
              "      <td>1.250</td>\n",
              "      <td>0</td>\n",
              "      <td>0</td>\n",
              "      <td>0</td>\n",
              "      <td>1</td>\n",
              "      <td>2</td>\n",
              "      <td>280</td>\n",
              "      <td>1</td>\n",
              "      <td>0</td>\n",
              "    </tr>\n",
              "    <tr>\n",
              "      <th>3</th>\n",
              "      <td>0</td>\n",
              "      <td>21.67</td>\n",
              "      <td>11.50</td>\n",
              "      <td>1</td>\n",
              "      <td>5</td>\n",
              "      <td>3</td>\n",
              "      <td>0.000</td>\n",
              "      <td>1</td>\n",
              "      <td>1</td>\n",
              "      <td>11</td>\n",
              "      <td>1</td>\n",
              "      <td>2</td>\n",
              "      <td>0</td>\n",
              "      <td>1</td>\n",
              "      <td>1</td>\n",
              "    </tr>\n",
              "    <tr>\n",
              "      <th>4</th>\n",
              "      <td>1</td>\n",
              "      <td>20.17</td>\n",
              "      <td>8.17</td>\n",
              "      <td>2</td>\n",
              "      <td>6</td>\n",
              "      <td>4</td>\n",
              "      <td>1.960</td>\n",
              "      <td>1</td>\n",
              "      <td>1</td>\n",
              "      <td>14</td>\n",
              "      <td>0</td>\n",
              "      <td>2</td>\n",
              "      <td>60</td>\n",
              "      <td>159</td>\n",
              "      <td>1</td>\n",
              "    </tr>\n",
              "  </tbody>\n",
              "</table>\n",
              "</div>\n",
              "      <button class=\"colab-df-convert\" onclick=\"convertToInteractive('df-bea645e3-5310-48eb-99ab-406a34d4c4ea')\"\n",
              "              title=\"Convert this dataframe to an interactive table.\"\n",
              "              style=\"display:none;\">\n",
              "        \n",
              "  <svg xmlns=\"http://www.w3.org/2000/svg\" height=\"24px\"viewBox=\"0 0 24 24\"\n",
              "       width=\"24px\">\n",
              "    <path d=\"M0 0h24v24H0V0z\" fill=\"none\"/>\n",
              "    <path d=\"M18.56 5.44l.94 2.06.94-2.06 2.06-.94-2.06-.94-.94-2.06-.94 2.06-2.06.94zm-11 1L8.5 8.5l.94-2.06 2.06-.94-2.06-.94L8.5 2.5l-.94 2.06-2.06.94zm10 10l.94 2.06.94-2.06 2.06-.94-2.06-.94-.94-2.06-.94 2.06-2.06.94z\"/><path d=\"M17.41 7.96l-1.37-1.37c-.4-.4-.92-.59-1.43-.59-.52 0-1.04.2-1.43.59L10.3 9.45l-7.72 7.72c-.78.78-.78 2.05 0 2.83L4 21.41c.39.39.9.59 1.41.59.51 0 1.02-.2 1.41-.59l7.78-7.78 2.81-2.81c.8-.78.8-2.07 0-2.86zM5.41 20L4 18.59l7.72-7.72 1.47 1.35L5.41 20z\"/>\n",
              "  </svg>\n",
              "      </button>\n",
              "      \n",
              "  <style>\n",
              "    .colab-df-container {\n",
              "      display:flex;\n",
              "      flex-wrap:wrap;\n",
              "      gap: 12px;\n",
              "    }\n",
              "\n",
              "    .colab-df-convert {\n",
              "      background-color: #E8F0FE;\n",
              "      border: none;\n",
              "      border-radius: 50%;\n",
              "      cursor: pointer;\n",
              "      display: none;\n",
              "      fill: #1967D2;\n",
              "      height: 32px;\n",
              "      padding: 0 0 0 0;\n",
              "      width: 32px;\n",
              "    }\n",
              "\n",
              "    .colab-df-convert:hover {\n",
              "      background-color: #E2EBFA;\n",
              "      box-shadow: 0px 1px 2px rgba(60, 64, 67, 0.3), 0px 1px 3px 1px rgba(60, 64, 67, 0.15);\n",
              "      fill: #174EA6;\n",
              "    }\n",
              "\n",
              "    [theme=dark] .colab-df-convert {\n",
              "      background-color: #3B4455;\n",
              "      fill: #D2E3FC;\n",
              "    }\n",
              "\n",
              "    [theme=dark] .colab-df-convert:hover {\n",
              "      background-color: #434B5C;\n",
              "      box-shadow: 0px 1px 3px 1px rgba(0, 0, 0, 0.15);\n",
              "      filter: drop-shadow(0px 1px 2px rgba(0, 0, 0, 0.3));\n",
              "      fill: #FFFFFF;\n",
              "    }\n",
              "  </style>\n",
              "\n",
              "      <script>\n",
              "        const buttonEl =\n",
              "          document.querySelector('#df-bea645e3-5310-48eb-99ab-406a34d4c4ea button.colab-df-convert');\n",
              "        buttonEl.style.display =\n",
              "          google.colab.kernel.accessAllowed ? 'block' : 'none';\n",
              "\n",
              "        async function convertToInteractive(key) {\n",
              "          const element = document.querySelector('#df-bea645e3-5310-48eb-99ab-406a34d4c4ea');\n",
              "          const dataTable =\n",
              "            await google.colab.kernel.invokeFunction('convertToInteractive',\n",
              "                                                     [key], {});\n",
              "          if (!dataTable) return;\n",
              "\n",
              "          const docLinkHtml = 'Like what you see? Visit the ' +\n",
              "            '<a target=\"_blank\" href=https://colab.research.google.com/notebooks/data_table.ipynb>data table notebook</a>'\n",
              "            + ' to learn more about interactive tables.';\n",
              "          element.innerHTML = '';\n",
              "          dataTable['output_type'] = 'display_data';\n",
              "          await google.colab.output.renderOutput(dataTable, element);\n",
              "          const docLink = document.createElement('div');\n",
              "          docLink.innerHTML = docLinkHtml;\n",
              "          element.appendChild(docLink);\n",
              "        }\n",
              "      </script>\n",
              "    </div>\n",
              "  </div>\n",
              "  "
            ]
          },
          "metadata": {},
          "execution_count": 8
        }
      ]
    },
    {
      "cell_type": "code",
      "source": [
        "X = df.iloc[:, 1:]\n",
        "Y = df.iloc[:, 0]\n",
        "\n",
        "#Partición de datos\n",
        "Xtrain, Xtest, Ytrain, Ytest = train_test_split(X, Y, test_size = 0.15, random_state = 0)"
      ],
      "metadata": {
        "id": "0ulkqXVGCy97"
      },
      "execution_count": 9,
      "outputs": []
    },
    {
      "cell_type": "markdown",
      "source": [
        "#**Ejercicio-2.**\n",
        "## Clasificacion de variables"
      ],
      "metadata": {
        "id": "xZhr2hkECzVv"
      }
    },
    {
      "cell_type": "code",
      "source": [
        "num_pipeline = Pipeline(steps = [('ipmean', SimpleImputer(strategy='mean')),\n",
        "                                  ('scalaNum', StandardScaler())])\n",
        "num_pipeline_names = ['A2', 'A3', 'A7', 'A10', 'A13', 'A14']\n",
        "\n",
        "# Declaramos el pipeline para los datos categóricos.\n",
        "cat_pipeline = Pipeline(steps = [('impModa', SimpleImputer(strategy='most_frequent'))])  \n",
        "cat_pipeline_names = ['A4', 'A5', 'A6', 'A12', 'A15']\n",
        "\n",
        "# Declaramos el pipeline para los datos binarios.\n",
        "cat_bin_pipeline = Pipeline(steps = [('OneHotE', OneHotEncoder(drop='first', handle_unknown='ignore'))]) \n",
        "cat_bin_pipeline_names = [ 'A8', 'A9', 'A11']"
      ],
      "metadata": {
        "id": "kGfAoOPkC1PP"
      },
      "execution_count": 10,
      "outputs": []
    },
    {
      "cell_type": "code",
      "source": [
        "columnTransformer = ColumnTransformer(transformers = [('num', num_pipeline, num_pipeline_names),\n",
        "                                                    ('cat', cat_pipeline, cat_pipeline_names),\n",
        "                                                    ('cat_bin', cat_bin_pipeline, cat_bin_pipeline_names)],\n",
        "                                                    remainder = 'passthrough')\n",
        "\n"
      ],
      "metadata": {
        "id": "GOydw5OGC1MJ"
      },
      "execution_count": 11,
      "outputs": []
    },
    {
      "cell_type": "markdown",
      "source": [
        "#**Ejercicio-3.**\n",
        "## Entrenamiento del classificador Dummy"
      ],
      "metadata": {
        "id": "NCunuooTC2W3"
      }
    },
    {
      "cell_type": "code",
      "source": [
        "dummy_clf = DummyClassifier(strategy = 'stratified')\n",
        "dummy_clf.fit(Xtrain, Ytrain)\n",
        "Ytest_predicted = dummy_clf.predict(Xtest)"
      ],
      "metadata": {
        "id": "YXlcSWA-C4Dj"
      },
      "execution_count": 12,
      "outputs": []
    },
    {
      "cell_type": "code",
      "source": [
        "# Matriz de confusión.\n",
        "cmp = ConfusionMatrixDisplay.from_estimator(dummy_clf, Xtest, Ytest, normalize='true', cmap='Blues')\n",
        "cmp.ax_.set_title('Matriz de confusión')\n",
        "plt.show()"
      ],
      "metadata": {
        "id": "BKI80-YdC4HN",
        "colab": {
          "base_uri": "https://localhost:8080/",
          "height": 295
        },
        "outputId": "1226bcf1-5eb8-4432-8571-47cbbdc5d015"
      },
      "execution_count": 13,
      "outputs": [
        {
          "output_type": "display_data",
          "data": {
            "text/plain": [
              "<Figure size 432x288 with 2 Axes>"
            ],
            "image/png": "[encoded data removed]"
          },
          "metadata": {
            "needs_background": "light"
          }
        }
      ]
    },
    {
      "cell_type": "code",
      "source": [
        "from sklearn.metrics import accuracy_score\n",
        "from sklearn.metrics import f1_score\n",
        "from sklearn.metrics import precision_score\n",
        "from sklearn.metrics import recall_score\n",
        "\n",
        "print(\"Accuracy: \", accuracy_score(Ytest, Ytest_predicted))\n",
        "print(\"F1 score: \", f1_score(Ytest, Ytest_predicted))\n",
        "print(\"precision: \", precision_score(Ytest, Ytest_predicted))\n",
        "print(\"recall: \", recall_score(Ytest, Ytest_predicted))"
      ],
      "metadata": {
        "colab": {
          "base_uri": "https://localhost:8080/"
        },
        "id": "D3Dt3RY6CRLB",
        "outputId": "9c65a539-a41e-4de9-c865-82cebd0988c7"
      },
      "execution_count": 14,
      "outputs": [
        {
          "output_type": "stream",
          "name": "stdout",
          "text": [
            "Accuracy:  0.5288461538461539\n",
            "F1 score:  0.6666666666666666\n",
            "precision:  0.620253164556962\n",
            "recall:  0.7205882352941176\n"
          ]
        }
      ]
    },
    {
      "cell_type": "markdown",
      "source": [
        "#**Ejercicio-4.**\n",
        "## SVM"
      ],
      "metadata": {
        "id": "chqk9jIDC5Pq"
      }
    },
    {
      "cell_type": "code",
      "source": [
        "# Declaramos el clasificador SVC.\n",
        "model_SVM = SVC()\n",
        "model_SVM.fit(Xtrain, Ytrain)"
      ],
      "metadata": {
        "id": "RBVSFwK4C6g9",
        "colab": {
          "base_uri": "https://localhost:8080/"
        },
        "outputId": "82b974e5-48a7-4003-98a8-44dbe273ba27"
      },
      "execution_count": 15,
      "outputs": [
        {
          "output_type": "execute_result",
          "data": {
            "text/plain": [
              "SVC()"
            ]
          },
          "metadata": {},
          "execution_count": 15
        }
      ]
    },
    {
      "cell_type": "code",
      "source": [
        "param_grid = {'C': [0.1, 1, 10, 100, 1000], \n",
        "              'gamma': [1, 0.1, 0.01, 0.001, 0.0001],\n",
        "              'kernel': ['rbf']}                                # kernel = 'rbf' es el kernel por defecto, si le pones otros tarda muchisimo. \n",
        "  \n",
        "grid = GridSearchCV(model_SVM, param_grid, refit = True, verbose = 3)\n",
        "  \n",
        "# Ajustamos el modelo a los datos de entrenamiento.\n",
        "grid.fit(Xtrain, Ytrain)"
      ],
      "metadata": {
        "id": "7KXnlNzAC69Y",
        "colab": {
          "base_uri": "https://localhost:8080/"
        },
        "outputId": "be824bf5-a246-4395-d23f-80fb520046e0"
      },
      "execution_count": 16,
      "outputs": [
        {
          "output_type": "stream",
          "name": "stdout",
          "text": [
            "Fitting 5 folds for each of 25 candidates, totalling 125 fits\n",
            "[CV 1/5] END ........C=0.1, gamma=1, kernel=rbf;, score=0.678 total time=   0.0s\n",
            "[CV 2/5] END ........C=0.1, gamma=1, kernel=rbf;, score=0.684 total time=   0.0s\n",
            "[CV 3/5] END ........C=0.1, gamma=1, kernel=rbf;, score=0.684 total time=   0.0s\n",
            "[CV 4/5] END ........C=0.1, gamma=1, kernel=rbf;, score=0.684 total time=   0.0s\n",
            "[CV 5/5] END ........C=0.1, gamma=1, kernel=rbf;, score=0.684 total time=   0.0s\n",
            "[CV 1/5] END ......C=0.1, gamma=0.1, kernel=rbf;, score=0.678 total time=   0.0s\n",
            "[CV 2/5] END ......C=0.1, gamma=0.1, kernel=rbf;, score=0.684 total time=   0.0s\n",
            "[CV 3/5] END ......C=0.1, gamma=0.1, kernel=rbf;, score=0.684 total time=   0.0s\n",
            "[CV 4/5] END ......C=0.1, gamma=0.1, kernel=rbf;, score=0.684 total time=   0.0s\n",
            "[CV 5/5] END ......C=0.1, gamma=0.1, kernel=rbf;, score=0.684 total time=   0.0s\n",
            "[CV 1/5] END .....C=0.1, gamma=0.01, kernel=rbf;, score=0.678 total time=   0.0s\n",
            "[CV 2/5] END .....C=0.1, gamma=0.01, kernel=rbf;, score=0.684 total time=   0.0s\n",
            "[CV 3/5] END .....C=0.1, gamma=0.01, kernel=rbf;, score=0.684 total time=   0.0s\n",
            "[CV 4/5] END .....C=0.1, gamma=0.01, kernel=rbf;, score=0.684 total time=   0.0s\n",
            "[CV 5/5] END .....C=0.1, gamma=0.01, kernel=rbf;, score=0.684 total time=   0.0s\n",
            "[CV 1/5] END ....C=0.1, gamma=0.001, kernel=rbf;, score=0.678 total time=   0.0s\n",
            "[CV 2/5] END ....C=0.1, gamma=0.001, kernel=rbf;, score=0.684 total time=   0.0s\n",
            "[CV 3/5] END ....C=0.1, gamma=0.001, kernel=rbf;, score=0.684 total time=   0.0s\n",
            "[CV 4/5] END ....C=0.1, gamma=0.001, kernel=rbf;, score=0.684 total time=   0.0s\n",
            "[CV 5/5] END ....C=0.1, gamma=0.001, kernel=rbf;, score=0.684 total time=   0.0s\n",
            "[CV 1/5] END ...C=0.1, gamma=0.0001, kernel=rbf;, score=0.678 total time=   0.0s\n",
            "[CV 2/5] END ...C=0.1, gamma=0.0001, kernel=rbf;, score=0.684 total time=   0.0s\n",
            "[CV 3/5] END ...C=0.1, gamma=0.0001, kernel=rbf;, score=0.684 total time=   0.0s\n",
            "[CV 4/5] END ...C=0.1, gamma=0.0001, kernel=rbf;, score=0.684 total time=   0.0s\n",
            "[CV 5/5] END ...C=0.1, gamma=0.0001, kernel=rbf;, score=0.684 total time=   0.0s\n",
            "[CV 1/5] END ..........C=1, gamma=1, kernel=rbf;, score=0.678 total time=   0.0s\n",
            "[CV 2/5] END ..........C=1, gamma=1, kernel=rbf;, score=0.684 total time=   0.0s\n",
            "[CV 3/5] END ..........C=1, gamma=1, kernel=rbf;, score=0.684 total time=   0.0s\n",
            "[CV 4/5] END ..........C=1, gamma=1, kernel=rbf;, score=0.684 total time=   0.0s\n",
            "[CV 5/5] END ..........C=1, gamma=1, kernel=rbf;, score=0.684 total time=   0.0s\n",
            "[CV 1/5] END ........C=1, gamma=0.1, kernel=rbf;, score=0.678 total time=   0.0s\n",
            "[CV 2/5] END ........C=1, gamma=0.1, kernel=rbf;, score=0.675 total time=   0.0s\n",
            "[CV 3/5] END ........C=1, gamma=0.1, kernel=rbf;, score=0.692 total time=   0.0s\n",
            "[CV 4/5] END ........C=1, gamma=0.1, kernel=rbf;, score=0.675 total time=   0.0s\n",
            "[CV 5/5] END ........C=1, gamma=0.1, kernel=rbf;, score=0.684 total time=   0.0s\n",
            "[CV 1/5] END .......C=1, gamma=0.01, kernel=rbf;, score=0.661 total time=   0.0s\n",
            "[CV 2/5] END .......C=1, gamma=0.01, kernel=rbf;, score=0.658 total time=   0.0s\n",
            "[CV 3/5] END .......C=1, gamma=0.01, kernel=rbf;, score=0.667 total time=   0.0s\n",
            "[CV 4/5] END .......C=1, gamma=0.01, kernel=rbf;, score=0.650 total time=   0.0s\n",
            "[CV 5/5] END .......C=1, gamma=0.01, kernel=rbf;, score=0.675 total time=   0.0s\n",
            "[CV 1/5] END ......C=1, gamma=0.001, kernel=rbf;, score=0.661 total time=   0.0s\n",
            "[CV 2/5] END ......C=1, gamma=0.001, kernel=rbf;, score=0.675 total time=   0.0s\n",
            "[CV 3/5] END ......C=1, gamma=0.001, kernel=rbf;, score=0.684 total time=   0.0s\n",
            "[CV 4/5] END ......C=1, gamma=0.001, kernel=rbf;, score=0.641 total time=   0.0s\n",
            "[CV 5/5] END ......C=1, gamma=0.001, kernel=rbf;, score=0.667 total time=   0.0s\n",
            "[CV 1/5] END .....C=1, gamma=0.0001, kernel=rbf;, score=0.661 total time=   0.0s\n",
            "[CV 2/5] END .....C=1, gamma=0.0001, kernel=rbf;, score=0.692 total time=   0.0s\n",
            "[CV 3/5] END .....C=1, gamma=0.0001, kernel=rbf;, score=0.675 total time=   0.0s\n",
            "[CV 4/5] END .....C=1, gamma=0.0001, kernel=rbf;, score=0.658 total time=   0.0s\n",
            "[CV 5/5] END .....C=1, gamma=0.0001, kernel=rbf;, score=0.667 total time=   0.0s\n",
            "[CV 1/5] END .........C=10, gamma=1, kernel=rbf;, score=0.678 total time=   0.0s\n",
            "[CV 2/5] END .........C=10, gamma=1, kernel=rbf;, score=0.684 total time=   0.0s\n",
            "[CV 3/5] END .........C=10, gamma=1, kernel=rbf;, score=0.684 total time=   0.0s\n",
            "[CV 4/5] END .........C=10, gamma=1, kernel=rbf;, score=0.684 total time=   0.0s\n",
            "[CV 5/5] END .........C=10, gamma=1, kernel=rbf;, score=0.684 total time=   0.0s\n",
            "[CV 1/5] END .......C=10, gamma=0.1, kernel=rbf;, score=0.686 total time=   0.0s\n",
            "[CV 2/5] END .......C=10, gamma=0.1, kernel=rbf;, score=0.667 total time=   0.0s\n",
            "[CV 3/5] END .......C=10, gamma=0.1, kernel=rbf;, score=0.667 total time=   0.0s\n",
            "[CV 4/5] END .......C=10, gamma=0.1, kernel=rbf;, score=0.675 total time=   0.0s\n",
            "[CV 5/5] END .......C=10, gamma=0.1, kernel=rbf;, score=0.684 total time=   0.0s\n",
            "[CV 1/5] END ......C=10, gamma=0.01, kernel=rbf;, score=0.661 total time=   0.0s\n",
            "[CV 2/5] END ......C=10, gamma=0.01, kernel=rbf;, score=0.607 total time=   0.0s\n",
            "[CV 3/5] END ......C=10, gamma=0.01, kernel=rbf;, score=0.624 total time=   0.0s\n",
            "[CV 4/5] END ......C=10, gamma=0.01, kernel=rbf;, score=0.564 total time=   0.0s\n",
            "[CV 5/5] END ......C=10, gamma=0.01, kernel=rbf;, score=0.632 total time=   0.0s\n",
            "[CV 1/5] END .....C=10, gamma=0.001, kernel=rbf;, score=0.644 total time=   0.0s\n",
            "[CV 2/5] END .....C=10, gamma=0.001, kernel=rbf;, score=0.632 total time=   0.0s\n",
            "[CV 3/5] END .....C=10, gamma=0.001, kernel=rbf;, score=0.624 total time=   0.0s\n",
            "[CV 4/5] END .....C=10, gamma=0.001, kernel=rbf;, score=0.650 total time=   0.0s\n",
            "[CV 5/5] END .....C=10, gamma=0.001, kernel=rbf;, score=0.650 total time=   0.0s\n",
            "[CV 1/5] END ....C=10, gamma=0.0001, kernel=rbf;, score=0.644 total time=   0.0s\n",
            "[CV 2/5] END ....C=10, gamma=0.0001, kernel=rbf;, score=0.632 total time=   0.0s\n",
            "[CV 3/5] END ....C=10, gamma=0.0001, kernel=rbf;, score=0.615 total time=   0.0s\n",
            "[CV 4/5] END ....C=10, gamma=0.0001, kernel=rbf;, score=0.632 total time=   0.0s\n",
            "[CV 5/5] END ....C=10, gamma=0.0001, kernel=rbf;, score=0.658 total time=   0.0s\n",
            "[CV 1/5] END ........C=100, gamma=1, kernel=rbf;, score=0.678 total time=   0.0s\n",
            "[CV 2/5] END ........C=100, gamma=1, kernel=rbf;, score=0.684 total time=   0.0s\n",
            "[CV 3/5] END ........C=100, gamma=1, kernel=rbf;, score=0.684 total time=   0.0s\n",
            "[CV 4/5] END ........C=100, gamma=1, kernel=rbf;, score=0.684 total time=   0.0s\n",
            "[CV 5/5] END ........C=100, gamma=1, kernel=rbf;, score=0.684 total time=   0.0s\n",
            "[CV 1/5] END ......C=100, gamma=0.1, kernel=rbf;, score=0.686 total time=   0.0s\n",
            "[CV 2/5] END ......C=100, gamma=0.1, kernel=rbf;, score=0.667 total time=   0.0s\n",
            "[CV 3/5] END ......C=100, gamma=0.1, kernel=rbf;, score=0.667 total time=   0.0s\n",
            "[CV 4/5] END ......C=100, gamma=0.1, kernel=rbf;, score=0.675 total time=   0.0s\n",
            "[CV 5/5] END ......C=100, gamma=0.1, kernel=rbf;, score=0.684 total time=   0.0s\n",
            "[CV 1/5] END .....C=100, gamma=0.01, kernel=rbf;, score=0.636 total time=   0.0s\n",
            "[CV 2/5] END .....C=100, gamma=0.01, kernel=rbf;, score=0.624 total time=   0.0s\n",
            "[CV 3/5] END .....C=100, gamma=0.01, kernel=rbf;, score=0.624 total time=   0.0s\n",
            "[CV 4/5] END .....C=100, gamma=0.01, kernel=rbf;, score=0.581 total time=   0.0s\n",
            "[CV 5/5] END .....C=100, gamma=0.01, kernel=rbf;, score=0.650 total time=   0.0s\n",
            "[CV 1/5] END ....C=100, gamma=0.001, kernel=rbf;, score=0.610 total time=   0.0s\n",
            "[CV 2/5] END ....C=100, gamma=0.001, kernel=rbf;, score=0.590 total time=   0.0s\n",
            "[CV 3/5] END ....C=100, gamma=0.001, kernel=rbf;, score=0.598 total time=   0.0s\n",
            "[CV 4/5] END ....C=100, gamma=0.001, kernel=rbf;, score=0.581 total time=   0.0s\n",
            "[CV 5/5] END ....C=100, gamma=0.001, kernel=rbf;, score=0.658 total time=   0.0s\n",
            "[CV 1/5] END ...C=100, gamma=0.0001, kernel=rbf;, score=0.619 total time=   0.0s\n",
            "[CV 2/5] END ...C=100, gamma=0.0001, kernel=rbf;, score=0.692 total time=   0.0s\n",
            "[CV 3/5] END ...C=100, gamma=0.0001, kernel=rbf;, score=0.624 total time=   0.0s\n",
            "[CV 4/5] END ...C=100, gamma=0.0001, kernel=rbf;, score=0.650 total time=   0.0s\n",
            "[CV 5/5] END ...C=100, gamma=0.0001, kernel=rbf;, score=0.675 total time=   0.0s\n",
            "[CV 1/5] END .......C=1000, gamma=1, kernel=rbf;, score=0.678 total time=   0.0s\n",
            "[CV 2/5] END .......C=1000, gamma=1, kernel=rbf;, score=0.684 total time=   0.0s\n",
            "[CV 3/5] END .......C=1000, gamma=1, kernel=rbf;, score=0.684 total time=   0.0s\n",
            "[CV 4/5] END .......C=1000, gamma=1, kernel=rbf;, score=0.684 total time=   0.0s\n",
            "[CV 5/5] END .......C=1000, gamma=1, kernel=rbf;, score=0.684 total time=   0.0s\n",
            "[CV 1/5] END .....C=1000, gamma=0.1, kernel=rbf;, score=0.686 total time=   0.0s\n",
            "[CV 2/5] END .....C=1000, gamma=0.1, kernel=rbf;, score=0.667 total time=   0.0s\n",
            "[CV 3/5] END .....C=1000, gamma=0.1, kernel=rbf;, score=0.667 total time=   0.0s\n",
            "[CV 4/5] END .....C=1000, gamma=0.1, kernel=rbf;, score=0.675 total time=   0.0s\n",
            "[CV 5/5] END .....C=1000, gamma=0.1, kernel=rbf;, score=0.684 total time=   0.0s\n",
            "[CV 1/5] END ....C=1000, gamma=0.01, kernel=rbf;, score=0.636 total time=   0.0s\n",
            "[CV 2/5] END ....C=1000, gamma=0.01, kernel=rbf;, score=0.624 total time=   0.0s\n",
            "[CV 3/5] END ....C=1000, gamma=0.01, kernel=rbf;, score=0.624 total time=   0.0s\n",
            "[CV 4/5] END ....C=1000, gamma=0.01, kernel=rbf;, score=0.581 total time=   0.0s\n",
            "[CV 5/5] END ....C=1000, gamma=0.01, kernel=rbf;, score=0.650 total time=   0.0s\n",
            "[CV 1/5] END ...C=1000, gamma=0.001, kernel=rbf;, score=0.568 total time=   0.0s\n",
            "[CV 2/5] END ...C=1000, gamma=0.001, kernel=rbf;, score=0.556 total time=   0.0s\n",
            "[CV 3/5] END ...C=1000, gamma=0.001, kernel=rbf;, score=0.581 total time=   0.0s\n",
            "[CV 4/5] END ...C=1000, gamma=0.001, kernel=rbf;, score=0.581 total time=   0.0s\n",
            "[CV 5/5] END ...C=1000, gamma=0.001, kernel=rbf;, score=0.658 total time=   0.1s\n",
            "[CV 1/5] END ..C=1000, gamma=0.0001, kernel=rbf;, score=0.627 total time=   0.1s\n",
            "[CV 2/5] END ..C=1000, gamma=0.0001, kernel=rbf;, score=0.658 total time=   0.1s\n",
            "[CV 3/5] END ..C=1000, gamma=0.0001, kernel=rbf;, score=0.624 total time=   0.1s\n",
            "[CV 4/5] END ..C=1000, gamma=0.0001, kernel=rbf;, score=0.641 total time=   0.1s\n",
            "[CV 5/5] END ..C=1000, gamma=0.0001, kernel=rbf;, score=0.726 total time=   0.1s\n"
          ]
        },
        {
          "output_type": "execute_result",
          "data": {
            "text/plain": [
              "GridSearchCV(estimator=SVC(),\n",
              "             param_grid={'C': [0.1, 1, 10, 100, 1000],\n",
              "                         'gamma': [1, 0.1, 0.01, 0.001, 0.0001],\n",
              "                         'kernel': ['rbf']},\n",
              "             verbose=3)"
            ]
          },
          "metadata": {},
          "execution_count": 16
        }
      ]
    },
    {
      "cell_type": "code",
      "source": [
        "# Mejores parámetros.\n",
        "print(\"Mejores params: \", grid.best_params_)\n",
        "\n",
        "# Mejor modelo.\n",
        "print(\"Mejor estimador:\" , grid.best_estimator_)\n",
        "\n"
      ],
      "metadata": {
        "colab": {
          "base_uri": "https://localhost:8080/"
        },
        "id": "lXq31bXCE0r_",
        "outputId": "56ba3ab0-851c-4ed7-fcc7-abd26f537e64"
      },
      "execution_count": 17,
      "outputs": [
        {
          "output_type": "stream",
          "name": "stdout",
          "text": [
            "Mejores params:  {'C': 0.1, 'gamma': 1, 'kernel': 'rbf'}\n",
            "Mejor estimador: SVC(C=0.1, gamma=1)\n"
          ]
        }
      ]
    },
    {
      "cell_type": "code",
      "source": [
        "# Predicción con el mejor modelo.\n",
        "Ypred = grid.predict(Xtest)\n",
        "report = classification_report(Ytest, Ypred, target_names=['False', 'True'],zero_division=0)\n",
        "print(report)\n",
        "\n",
        "print(\"Accuracy: \", accuracy_score(Ytest, Ypred))\n",
        "print(\"F1 score: \", f1_score(Ytest, Ypred))\n",
        "print(\"precision: \", precision_score(Ytest, Ypred))\n",
        "print(\"recall: \", recall_score(Ytest, Ypred))"
      ],
      "metadata": {
        "colab": {
          "base_uri": "https://localhost:8080/"
        },
        "id": "NnfiULfiE6iN",
        "outputId": "6acc9247-03d9-4bd4-bb85-ed41b6aea587"
      },
      "execution_count": 18,
      "outputs": [
        {
          "output_type": "stream",
          "name": "stdout",
          "text": [
            "              precision    recall  f1-score   support\n",
            "\n",
            "       False       0.00      0.00      0.00        36\n",
            "        True       0.65      1.00      0.79        68\n",
            "\n",
            "    accuracy                           0.65       104\n",
            "   macro avg       0.33      0.50      0.40       104\n",
            "weighted avg       0.43      0.65      0.52       104\n",
            "\n",
            "Accuracy:  0.6538461538461539\n",
            "F1 score:  0.7906976744186047\n",
            "precision:  0.6538461538461539\n",
            "recall:  1.0\n"
          ]
        }
      ]
    },
    {
      "cell_type": "markdown",
      "source": [
        "#**Ejercicio-5.**"
      ],
      "metadata": {
        "id": "Rv7KFq-mC7PS"
      }
    },
    {
      "cell_type": "code",
      "source": [
        "\n",
        "# Incluye aquí las líneas de código que definan a la función: mi_RMSE:\n",
        "def mi_RMSE(y_true, y_pred):\n",
        "    return (np.mean(np.square(y_true - y_pred)))**(1/2)\n",
        "\n",
        "\n",
        "# Incluye aquí las líneas de código que definan a la función: mi_MAE:\n",
        "def mi_MAE(y_true, y_pred): \n",
        "    return np.mean(np.abs(y_true - y_pred))\n",
        "\n",
        "\n",
        "# Incluye aquí las líneas de código que definan a la función: mi_MAPE:\n",
        "def mi_MAPE(y_true, y_pred):\n",
        "    return (np.mean((np.abs(y_true - y_pred)/y_true)))*100\n",
        "\n"
      ],
      "metadata": {
        "id": "XnurYbjNOpIk"
      },
      "execution_count": 19,
      "outputs": []
    },
    {
      "cell_type": "code",
      "source": [
        "modelos=list([DummyClassifier(strategy = 'stratified'), SVC(kernel='rbf', C=0.1, gamma=1)])\n",
        "resultados=list()\n",
        "for i in range(len(modelos)):\n",
        "    \n",
        "    pipeline = Pipeline(steps=[('ct', columnTransformer),\n",
        "                               ('m', modelos[i])])\n",
        "    kfold = RepeatedStratifiedKFold(n_splits=5, n_repeats=3, random_state=0)\n",
        "    \n",
        "    mismetricas = {'RMSE': make_scorer(mi_RMSE),\n",
        "               'MAE': make_scorer(mi_MAE),\n",
        "               'MAPE': make_scorer(mi_MAPE)}\n",
        "                        \n",
        "    resultadosImp = cross_validate(pipeline,\n",
        "                                   Xtrain, Ytrain,\n",
        "                                   scoring=mismetricas,\n",
        "                                   cv=kfold,\n",
        "                                   return_train_score=True)\n",
        "\n",
        "    resultados.append(resultadosImp)\n",
        "\n",
        "    print(\"***** Entrenamiento *****\", resultadosImp)"
      ],
      "metadata": {
        "colab": {
          "base_uri": "https://localhost:8080/"
        },
        "id": "V_j0wS4sNmDH",
        "outputId": "41451433-a280-4d24-f102-3873e3a25193"
      },
      "execution_count": 20,
      "outputs": [
        {
          "output_type": "stream",
          "name": "stdout",
          "text": [
            "***** Entrenamiento ***** {'fit_time': array([0.02391958, 0.02167869, 0.01452756, 0.01440668, 0.01592994,\n",
            "       0.01484466, 0.01421762, 0.02433848, 0.0140276 , 0.01461267,\n",
            "       0.01388454, 0.01412272, 0.01410341, 0.01478887, 0.01438427]), 'score_time': array([0.01078057, 0.01487112, 0.01033163, 0.00962901, 0.00833559,\n",
            "       0.00812864, 0.00807786, 0.00881386, 0.00941944, 0.00846577,\n",
            "       0.00817823, 0.00835347, 0.01628184, 0.00843072, 0.00902057]), 'test_RMSE': array([0.6377928 , 0.63380549, 0.66666667, 0.68562779, 0.66022529,\n",
            "       0.73068345, 0.67936622, 0.61324414, 0.64715023, 0.6730464 ,\n",
            "       0.7535228 , 0.66666667, 0.61324414, 0.67936622, 0.65372045]), 'train_RMSE': array([0.64715023, 0.638161  , 0.64645994, 0.69263564, 0.63144333,\n",
            "       0.66022529, 0.67074093, 0.64645994, 0.65790259, 0.64149346,\n",
            "       0.62702663, 0.64810697, 0.65465367, 0.65628014, 0.63481105]), 'test_MAE': array([0.40677966, 0.4017094 , 0.44444444, 0.47008547, 0.43589744,\n",
            "       0.53389831, 0.46153846, 0.37606838, 0.41880342, 0.45299145,\n",
            "       0.56779661, 0.44444444, 0.37606838, 0.46153846, 0.42735043]), 'train_MAE': array([0.41880342, 0.40724947, 0.41791045, 0.47974414, 0.39872068,\n",
            "       0.43589744, 0.44989339, 0.41791045, 0.43283582, 0.41151386,\n",
            "       0.39316239, 0.42004264, 0.42857143, 0.43070362, 0.40298507]), 'test_MAPE': array([inf, inf, inf, inf, inf, inf, inf, inf, inf, inf, inf, inf, inf,\n",
            "       inf, inf]), 'train_MAPE': array([inf, inf, inf, inf, inf, inf, inf, inf, inf, inf, inf, inf, inf,\n",
            "       inf, inf])}\n",
            "***** Entrenamiento ***** {'fit_time': array([0.03076005, 0.02924991, 0.03131223, 0.03022504, 0.03252697,\n",
            "       0.03663135, 0.03043628, 0.03150463, 0.03037238, 0.03199005,\n",
            "       0.03090835, 0.03096032, 0.03127289, 0.03035045, 0.05042267]), 'score_time': array([0.01271868, 0.01275015, 0.01348686, 0.01308322, 0.01323175,\n",
            "       0.01973081, 0.01403856, 0.01352477, 0.01329374, 0.01278639,\n",
            "       0.01590347, 0.01291656, 0.01357102, 0.0130558 , 0.01336384]), 'test_RMSE': array([0.56748031, 0.56235159, 0.56235159, 0.56235159, 0.56235159,\n",
            "       0.56748031, 0.56235159, 0.56235159, 0.56235159, 0.56235159,\n",
            "       0.56748031, 0.56235159, 0.56235159, 0.56235159, 0.56235159]), 'train_RMSE': array([0.56235159, 0.56364637, 0.56364637, 0.56364637, 0.56364637,\n",
            "       0.56235159, 0.56364637, 0.56364637, 0.56364637, 0.56364637,\n",
            "       0.56235159, 0.56364637, 0.56364637, 0.56364637, 0.56364637]), 'test_MAE': array([0.3220339 , 0.31623932, 0.31623932, 0.31623932, 0.31623932,\n",
            "       0.3220339 , 0.31623932, 0.31623932, 0.31623932, 0.31623932,\n",
            "       0.3220339 , 0.31623932, 0.31623932, 0.31623932, 0.31623932]), 'train_MAE': array([0.31623932, 0.31769723, 0.31769723, 0.31769723, 0.31769723,\n",
            "       0.31623932, 0.31769723, 0.31769723, 0.31769723, 0.31769723,\n",
            "       0.31623932, 0.31769723, 0.31769723, 0.31769723, 0.31769723]), 'test_MAPE': array([inf, inf, inf, inf, inf, inf, inf, inf, inf, inf, inf, inf, inf,\n",
            "       inf, inf]), 'train_MAPE': array([inf, inf, inf, inf, inf, inf, inf, inf, inf, inf, inf, inf, inf,\n",
            "       inf, inf])}\n"
          ]
        }
      ]
    },
    {
      "cell_type": "code",
      "source": [
        "sns.set(rc={'figure.figsize':(13,7)})\n",
        "bpRecall=list()\n",
        "labels=list()\n",
        "\n",
        "models_name = ['Dummy ','SVM ']\n",
        "\n",
        "for i in range(len(resultados)):\n",
        "  for m in ['train_RMSE', 'train_MAE']:\n",
        "    bpRecall.append(resultados[i][m])\n",
        "    labels.append(models_name[i] + m)\n",
        "\n",
        "print(bpRecall)\n",
        "plt.boxplot(bpRecall, labels=labels, showmeans=True)\n",
        " \n",
        "# show plot\n",
        "plt.show()"
      ],
      "metadata": {
        "id": "jaDj3kawC9B6",
        "colab": {
          "base_uri": "https://localhost:8080/",
          "height": 597
        },
        "outputId": "4f5f81de-aec7-4c32-a781-cd7e4c3f88f1"
      },
      "execution_count": 21,
      "outputs": [
        {
          "output_type": "stream",
          "name": "stdout",
          "text": [
            "[array([0.64715023, 0.638161  , 0.64645994, 0.69263564, 0.63144333,\n",
            "       0.66022529, 0.67074093, 0.64645994, 0.65790259, 0.64149346,\n",
            "       0.62702663, 0.64810697, 0.65465367, 0.65628014, 0.63481105]), array([0.41880342, 0.40724947, 0.41791045, 0.47974414, 0.39872068,\n",
            "       0.43589744, 0.44989339, 0.41791045, 0.43283582, 0.41151386,\n",
            "       0.39316239, 0.42004264, 0.42857143, 0.43070362, 0.40298507]), array([0.56235159, 0.56364637, 0.56364637, 0.56364637, 0.56364637,\n",
            "       0.56235159, 0.56364637, 0.56364637, 0.56364637, 0.56364637,\n",
            "       0.56235159, 0.56364637, 0.56364637, 0.56364637, 0.56364637]), array([0.31623932, 0.31769723, 0.31769723, 0.31769723, 0.31769723,\n",
            "       0.31623932, 0.31769723, 0.31769723, 0.31769723, 0.31769723,\n",
            "       0.31623932, 0.31769723, 0.31769723, 0.31769723, 0.31769723])]\n"
          ]
        },
        {
          "output_type": "display_data",
          "data": {
            "text/plain": [
              "<Figure size 936x504 with 1 Axes>"
            ],
            "image/png": "[encoded data removed]"
          },
          "metadata": {}
        }
      ]
    },
    {
      "cell_type": "code",
      "source": [
        "# Conclusiones"
      ],
      "metadata": {
        "id": "4tQxQROVC9Us"
      },
      "execution_count": 22,
      "outputs": []
    },
    {
      "cell_type": "markdown",
      "source": [
        "#**Ejercicio-6.**\n",
        "## Verificacion:\n",
        "Verifica que el modelo no esté subentrenado o sobreentrenado mediante alguna de las gráficas de\n",
        "curvas de entrenamiento (aumentando la complejidad o aumentando el conjunto de entrenamiento,\n",
        "la que consideres más adecuada). De ser necesario, realiza los ajustes necesarios para evitar alguno\n",
        "de estos problemas"
      ],
      "metadata": {
        "id": "W2S7LI0NC9wE"
      }
    },
    {
      "cell_type": "code",
      "source": [
        "#Definición de función para graficar\n",
        "\n",
        "def mi_LearningCurvePlot(train_sizes, train_scores, val_scores,i):\n",
        "\n",
        "    # Argumentos de entrada de la función mi_LearningCurvePlot:\n",
        "    #      train_sizes : número de observaciones en el conjunto de entrenamiento.\n",
        "    #      train_scores : Exactitud de cada partición en el proceso de Validación-Cruzada (VC) en los datos de entrenamiento.\n",
        "    #                     La dimensión de este conjunto es (pxq) \n",
        "    #                                     donde p=\"número de particiones de manera incremental del conjunto de entrenamiento\".\n",
        "    #                                           q=\"número de particiones de VC\" * \"número de repeticiones de VC con RepitedStratifiedCV\"\n",
        "    #      val_scores : Exactitud de cada partición en el proceso de Validación-Cruzada en los datos de validación.\n",
        "    #                   Es de la misma dimensión que los train_scores. \n",
        "    # Output: la salida es el gráfico con las curvas de aprendizaje.\n",
        "\n",
        "    # Obtenemos los promedios y desviaciones estándar de cada renglón de los resultados de entrenamiento y validación\n",
        "    # La dimensión de cada uno es p=\"número de particiones de manera incremental del conjunto de entrenamiento\".\n",
        "    train_mean = np.mean(train_scores, axis=1)\n",
        "    train_std = np.std(train_scores, axis=1)\n",
        "    val_mean = np.mean(val_scores, axis=1)\n",
        "    val_std = np.std(val_scores, axis=1)\n",
        "\n",
        "    # Graficamos las curvas de aprendizaje incluyendo una región indicando la desviación estándar.\n",
        "    plt.figure(figsize=(10,7))\n",
        "    plt.plot(train_sizes, train_mean, color='blue', marker='o', markersize=5, label='Training')\n",
        "    plt.fill_between(train_sizes, train_mean + train_std, train_mean - train_std, alpha=0.1, color='blue')\n",
        "    \n",
        "    plt.plot(train_sizes, val_mean, color='red', marker='+', markersize=5, linestyle='--', label='Validation')\n",
        "    plt.fill_between(train_sizes, val_mean + val_std, val_mean - val_std, alpha=0.1, color='red')\n",
        "    \n",
        "    plt.title('Curvas de Aprendizaje incrementando el tamaño de la muestra')\n",
        "    plt.xlabel('Tamaño del conjunto de entrenamiento')\n",
        "    if(i<2):\n",
        "       plt.ylabel('f1_score')\n",
        "    else:\n",
        "       plt.ylabel('recall') \n",
        "    plt.grid()\n",
        "    plt.legend(loc='lower left')\n",
        "    plt.show()"
      ],
      "metadata": {
        "id": "pp9y5s8aFjlc"
      },
      "execution_count": 66,
      "outputs": []
    },
    {
      "cell_type": "code",
      "source": [
        "#Definición de función para encontrar las curvas de Validación\n",
        "\n",
        "def mi_ValidationCurvePlot(train_sizes, train_scores, val_scores,i):\n",
        "\n",
        "    # Argumentos de entrada de la función mi_LearningCurvePlot:\n",
        "    #      train_sizes : número de observaciones en el conjunto de entrenamiento.\n",
        "    #      train_scores : Exactitud de cada partición en el proceso de Validación-Cruzada (VC) en los datos de entrenamiento.\n",
        "    #                     La dimensión de este conjunto es (pxq) \n",
        "    #                                     donde p=\"número de particiones de manera incremental del conjunto de entrenamiento\".\n",
        "    #                                           q=\"número de particiones de VC\" * \"número de repeticiones de VC con RepitedStratifiedCV\"\n",
        "    #      val_scores : Exactitud de cada partición en el proceso de Validación-Cruzada en los datos de validación.\n",
        "    #                   Es de la misma dimensión que los train_scores. \n",
        "    # Output: la salida es el gráfico con las curvas de aprendizaje.\n",
        "\n",
        "    # Obtenemos los promedios y desviaciones estándar de cada renglón de los resultados de entrenamiento y validación\n",
        "    # La dimensión de cada uno es p=\"número de particiones de manera incremental del conjunto de entrenamiento\".\n",
        "    train_mean = np.mean(train_scores, axis=1)\n",
        "    train_std = np.std(train_scores, axis=1)\n",
        "    val_mean = np.mean(val_scores, axis=1)\n",
        "    val_std = np.std(val_scores, axis=1)\n",
        "\n",
        "    # Graficamos las curvas de aprendizaje incluyendo una región indicando la desviación estándar.\n",
        "    plt.figure(figsize=(10,7))\n",
        "    plt.plot(train_sizes, train_mean, color='blue', marker='o', markersize=5, label='Training')\n",
        "    plt.fill_between(train_sizes, train_mean + train_std, train_mean - train_std, alpha=0.1, color='blue')\n",
        "    \n",
        "    plt.plot(train_sizes, val_mean, color='red', marker='+', markersize=5, linestyle='--', label='Validation')\n",
        "    plt.fill_between(train_sizes, val_mean + val_std, val_mean - val_std, alpha=0.1, color='red')\n",
        "    \n",
        "    plt.title('Curva de validación acorde a max_depth')\n",
        "    plt.xlabel('Max_Depth de 1 a 20')\n",
        "    plt.ylabel('f1 score')  \n",
        "\n",
        "    plt.grid()\n",
        "    plt.legend(loc='lower left')\n",
        "    plt.show()"
      ],
      "metadata": {
        "id": "AlIQvTAqGfnt"
      },
      "execution_count": 68,
      "outputs": []
    },
    {
      "cell_type": "code",
      "source": [
        "#Definición para crear la curva de validación en base a los parámetros\n",
        "\n",
        "def create_validation_curve (model, x_val, y_val,cv,param_name,scoring= 'accuracy' ):\n",
        "    \n",
        "    pipe = Pipeline(steps = [\n",
        "      ('cT', columnTransformer ),\n",
        "      ('model', model)\n",
        "  ])\n",
        "    \n",
        "    param_range = np.linspace(1,20,20,dtype=\"int\")\n",
        "\n",
        "    t_scores, v_scores = validation_curve(\n",
        "      estimator= pipe,\n",
        "      X = x_val,\n",
        "      y = y_val,\n",
        "      param_name = f\"model__{param_name}\",\n",
        "      param_range = param_range,\n",
        "      cv = cv,\n",
        "      scoring = scoring,\n",
        "      )\n",
        "\n",
        "    return param_range, t_scores, v_scores"
      ],
      "metadata": {
        "id": "y0DarLYsFjdU"
      },
      "execution_count": 63,
      "outputs": []
    },
    {
      "cell_type": "code",
      "source": [
        "#Función f1-score    \n",
        "def mi_fscore(yreal, ypred):\n",
        "\n",
        "     cm = confusion_matrix(yreal, ypred)\n",
        "     tot = cm.sum()\n",
        "     vn = 100*cm[0,0] / tot\n",
        "     fp = 100*cm[0,1] / tot\n",
        "     fn = 100*cm[1,0] / tot\n",
        "     vp = 100*cm[1,1] / tot   \n",
        "     fscore = (2 * vp) / ((2*vp) + fp + vn)\n",
        "  \n",
        "     return fscore   "
      ],
      "metadata": {
        "id": "lbFFmcEOFjVB"
      },
      "execution_count": 64,
      "outputs": []
    },
    {
      "cell_type": "code",
      "source": [
        "from sklearn import svm\n",
        "modelnol = svm.SVC(kernel='rbf', C=0.1, gamma=0.03)     # intenta con kernel lineal y radial y varios casos de C y gamma\n",
        "                                                     # Recuerda que gammas muy grandes pueden llevar al sobreentrenamiento.\n",
        "modelnol.fit(X, Y)\n",
        "\n",
        "#Acorde a la instrucción, se toman las 5 particiones y las 3 repeticiones\n",
        "cv = RepeatedStratifiedKFold(n_splits=5, n_repeats=3, random_state=0) \n",
        "\n",
        "# for i in range(len(resultados)):\n",
        "    # param_range, train_scores, test_scores = create_validation_curve(modelos[1], Xtrain, Ytrain, cv, 'gamma', make_scorer(mi_fscore))\n",
        "    # mi_LearningCurvePlot(param_range, )\n",
        "param_range, train_scores, test_scores = create_validation_curve(modelos[0], Xtrain, Ytrain, cv, 'strategy', make_scorer(mi_fscore))\n",
        "mi_ValidationCurvePlot(param_range, train_scores, test_scores,i=5)\n",
        "\n",
        "param_range, train_scores, test_scores = create_validation_curve(modelos[1], Xtrain, Ytrain, cv, 'gamma', make_scorer(mi_fscore))\n",
        "mi_ValidationCurvePlot(param_range, train_scores, test_scores,i=5)"
      ],
      "metadata": {
        "id": "x6uBleJUC_AU",
        "colab": {
          "base_uri": "https://localhost:8080/",
          "height": 911
        },
        "outputId": "0d11be7b-c8f7-4e4f-e7e3-e1bfb200a8f6"
      },
      "execution_count": 74,
      "outputs": [
        {
          "output_type": "display_data",
          "data": {
            "text/plain": [
              "<Figure size 720x504 with 1 Axes>"
            ],
            "image/png": "[encoded data removed]"
          },
          "metadata": {}
        },
        {
          "output_type": "display_data",
          "data": {
            "text/plain": [
              "<Figure size 720x504 with 1 Axes>"
            ],
            "image/png": "[encoded data removed]"
          },
          "metadata": {}
        }
      ]
    },
    {
      "cell_type": "markdown",
      "source": [
        "#**Ejercicio-7.**\n",
        "## Curva ROC y su área bajo la curva."
      ],
      "metadata": {
        "id": "iCNGx4TQ8CFI"
      }
    },
    {
      "cell_type": "code",
      "source": [
        "from sklearn import metrics\n",
        "modeloSVM = SVC(kernel='rbf', C=0.1, gamma=1) # {'C': 0.1, 'gamma': 1, 'kernel': 'rbf'}\n",
        "modeloSVM.fit(Xtest, Ytest)\n",
        "print(\"score: \", modeloSVM.score(Xtest, Ytest))\n",
        "\n",
        "metrics.RocCurveDisplay.from_estimator(modeloSVM, Xtest, Ytest)\n",
        "\n",
        "# Obtenemos las predicciones del modelo:\n",
        "yhat = modeloSVM.predict(Xtest)\n",
        "\n",
        "# Obtenemos la tasa de falsos positivos (fpr) y la tasa de verdaderos positivos (tpr):\n",
        "fpr, tpr, _ = metrics.roc_curve(Ytest, yhat)\n",
        "\n",
        "plt.plot([0,0,1,0],[0,1,1,0], 'y--')\n",
        "\n",
        "plt.hlines(tpr, 0, fpr, colors='r', linestyles='dotted')  # Se calcula TPrate y FPrate con base a threshold=0.5\n",
        "plt.vlines(fpr, 0, tpr, colors='r', linestyles='dotted')  # como valor predeteminado\n",
        "plt.show() "
      ],
      "metadata": {
        "id": "ewvwUcJX78y1",
        "colab": {
          "base_uri": "https://localhost:8080/",
          "height": 466
        },
        "outputId": "38b29549-faf4-42a3-f159-49c902174d53"
      },
      "execution_count": 76,
      "outputs": [
        {
          "output_type": "stream",
          "name": "stdout",
          "text": [
            "score:  0.6538461538461539\n"
          ]
        },
        {
          "output_type": "display_data",
          "data": {
            "text/plain": [
              "<Figure size 936x504 with 1 Axes>"
            ],
            "image/png": "[encoded data removed]"
          },
          "metadata": {}
        }
      ]
    },
    {
      "cell_type": "code",
      "source": [],
      "metadata": {
        "id": "F1aW0dQX8BLL"
      },
      "execution_count": null,
      "outputs": []
    },
    {
      "cell_type": "markdown",
      "source": [
        "#**Ejercicio-8.**"
      ],
      "metadata": {
        "id": "tzQn5NR78GFg"
      }
    },
    {
      "cell_type": "code",
      "source": [
        "None"
      ],
      "metadata": {
        "id": "EBKcp0278IQV"
      },
      "execution_count": null,
      "outputs": []
    },
    {
      "cell_type": "code",
      "source": [],
      "metadata": {
        "id": "vp8S0PFs8IMR"
      },
      "execution_count": null,
      "outputs": []
    },
    {
      "cell_type": "markdown",
      "source": [
        "#**Ejercicio-9.**"
      ],
      "metadata": {
        "id": "mASNrZWs8JTh"
      }
    },
    {
      "cell_type": "code",
      "source": [
        "None"
      ],
      "metadata": {
        "id": "X6HJP9hb8LCp"
      },
      "execution_count": null,
      "outputs": []
    },
    {
      "cell_type": "code",
      "source": [],
      "metadata": {
        "id": "Xr6oe1VF8K_A"
      },
      "execution_count": null,
      "outputs": []
    },
    {
      "cell_type": "markdown",
      "source": [
        "#**Ejercicio-10.**"
      ],
      "metadata": {
        "id": "VUIcDshs8MzG"
      }
    },
    {
      "cell_type": "code",
      "source": [
        "None"
      ],
      "metadata": {
        "id": "0lKNJNIt8N88"
      },
      "execution_count": null,
      "outputs": []
    },
    {
      "cell_type": "code",
      "source": [],
      "metadata": {
        "id": "Inkq5YQe8PED"
      },
      "execution_count": null,
      "outputs": []
    },
    {
      "cell_type": "markdown",
      "source": [
        "###**Fin de la Actividad de la semana 8.**"
      ],
      "metadata": {
        "id": "7ql_r2G-DB_m"
      }
    }
  ]
}