{
  "cells": [
    {
      "cell_type": "markdown",
      "metadata": {
        "id": "VFj0sSM06dYa"
      },
      "source": [
        "#**Maestría en Inteligencia Artificial Aplicada**\n",
        "##**Curso: Inteligencia Artificial y Aprendizaje Automático**\n",
        "###Tecnológico de Monterrey\n",
        "###Prof Luis Eduardo Falcón Morales\n",
        "\n",
        "## **Adtividad de la Semana 7**\n",
        "###**Red Neuronal Artificial - Perceptrón Multicapa : Multilayer Perceptrón (MLP)**\n"
      ]
    },
    {
      "cell_type": "markdown",
      "metadata": {
        "id": "Qgrvy0RGB9XI"
      },
      "source": [
        "**Nombres y matrículas de los integrantes del equipo:**\n",
        "\n",
        "*   José Francisco Muñoz Del Angel - A01794174\n",
        "*   \n",
        "*   \n",
        "*   \n",
        "*   \n"
      ]
    },
    {
      "cell_type": "markdown",
      "metadata": {
        "id": "FrJ2ahMODVj1"
      },
      "source": [
        "En cada sección deberás incluir todas las líneas de código necesarias para responder a cada uno de los ejercicios."
      ]
    },
    {
      "cell_type": "code",
      "execution_count": 27,
      "metadata": {
        "id": "exXsscs-Dh-2"
      },
      "outputs": [],
      "source": [
        "# Incluye aquí todos módulos, librerías y paquetes que requieras.\n",
        "import pandas as pd\n",
        "import numpy as np\n",
        "import matplotlib.pyplot as plt\n",
        "import requests\n",
        "import zipfile\n",
        "\n",
        "from io import BytesIO\n",
        "\n",
        "from sklearn.model_selection import KFold\n",
        "from sklearn.model_selection import train_test_split \n",
        "\n",
        "from sklearn.linear_model import LinearRegression\n",
        "from sklearn.datasets import make_regression\n",
        "from sklearn.metrics import mean_absolute_error\n",
        "from sklearn.metrics import mean_squared_error\n",
        "\n",
        "from sklearn.impute import SimpleImputer\n",
        "from sklearn.preprocessing import MinMaxScaler  \n",
        "from sklearn.neural_network import MLPRegressor\n",
        "from sklearn.compose import ColumnTransformer\n",
        "from sklearn.preprocessing import power_transform\n",
        "from sklearn.preprocessing import FunctionTransformer\n",
        "\n",
        "from sklearn.dummy import DummyRegressor\n",
        "\n",
        "\n",
        "from sklearn.pipeline import Pipeline\n",
        "\n",
        "\n",
        "\n",
        "\n",
        "\n",
        "\n",
        "\n",
        "\n",
        "\n",
        "\n",
        "\n"
      ]
    },
    {
      "cell_type": "markdown",
      "metadata": {
        "id": "siA2PNS7_PmY"
      },
      "source": [
        "Citation Request:\n",
        "\n",
        "   This dataset is public available for research. The details are described in (Moro et al., 2016).\n",
        "   Please include this citation if you plan to use this database: \n",
        "\n",
        "   (Moro et al., 2016) S. Moro, P. Rita and B. Vala. Predicting social media performance metrics and evaluation \n",
        "   of the impact on brand building: A data mining approach. Journal of Business Research, Elsevier, In press.\n",
        " \n",
        "   Available at: http://dx.doi.org/10.1016/j.jbusres.2016.02.010\n",
        "\n",
        "\n",
        "1. Title: Facebook performance metrics\n",
        "\n",
        "2. Sources\n",
        "   Created by: Sérgio Moro, Paulo Rita and Bernardo Vala (ISCTE-IUL) @ 2016\n",
        "   \n",
        "3. Past Usage:\n",
        "\n",
        "   The full dataset was described and analyzed in:\n",
        "\n",
        "   S. Moro, P. Rita and B. Vala. Predicting social media performance metrics and evaluation of the impact on \n",
        "   brand building: A data mining approach. Journal of Business Research, Elsevier, In press, Available online \n",
        "   since 28 February 2016.\n",
        "\n",
        "4. Relevant Information:\n",
        "\n",
        "   The data is related to posts' published during the year of 2014 on the Facebook's page of a renowned cosmetics brand.\n",
        "   This dataset contains 500 of the 790 rows and part of the features analyzed by Moro et al. (2016). The remaining were \n",
        "   omitted due to confidentiality issues.\n",
        "\n",
        "\n",
        "5. Number of Instances: 500\n",
        "\n",
        "6. Number of Attributes: 19\n",
        "\n",
        "7. Attribute information:\n",
        "\n",
        "   It includes 7 features known prior to post publication and 12 features for evaluating post impact (see Tables 2 and 3 \n",
        "   from Moro et al., 2016 - complete reference in the \"Citation Request\")\n",
        "\n",
        "8. Missing Attribute Values: None\n"
      ]
    },
    {
      "cell_type": "markdown",
      "metadata": {
        "id": "X25brD-gQdZM"
      },
      "source": [
        "#**Ejercicio-1.** "
      ]
    },
    {
      "cell_type": "code",
      "execution_count": 28,
      "metadata": {
        "colab": {
          "base_uri": "https://localhost:8080/",
          "height": 337
        },
        "id": "0ulkqXVGCy97",
        "outputId": "f36446bf-1f24-4919-8603-bdde74fb069a"
      },
      "outputs": [
        {
          "data": {
            "text/html": [
              "<div>\n",
              "<style scoped>\n",
              "    .dataframe tbody tr th:only-of-type {\n",
              "        vertical-align: middle;\n",
              "    }\n",
              "\n",
              "    .dataframe tbody tr th {\n",
              "        vertical-align: top;\n",
              "    }\n",
              "\n",
              "    .dataframe thead th {\n",
              "        text-align: right;\n",
              "    }\n",
              "</style>\n",
              "<table border=\"1\" class=\"dataframe\">\n",
              "  <thead>\n",
              "    <tr style=\"text-align: right;\">\n",
              "      <th></th>\n",
              "      <th>Page total likes</th>\n",
              "      <th>Type</th>\n",
              "      <th>Category</th>\n",
              "      <th>Post Month</th>\n",
              "      <th>Post Weekday</th>\n",
              "      <th>Post Hour</th>\n",
              "      <th>Paid</th>\n",
              "      <th>Lifetime Post Total Reach</th>\n",
              "      <th>Lifetime Post Total Impressions</th>\n",
              "      <th>Lifetime Engaged Users</th>\n",
              "      <th>Lifetime Post Consumers</th>\n",
              "      <th>Lifetime Post Consumptions</th>\n",
              "      <th>Lifetime Post Impressions by people who have liked your Page</th>\n",
              "      <th>Lifetime Post reach by people who like your Page</th>\n",
              "      <th>Lifetime People who have liked your Page and engaged with your post</th>\n",
              "      <th>comment</th>\n",
              "      <th>like</th>\n",
              "      <th>share</th>\n",
              "      <th>Total Interactions</th>\n",
              "    </tr>\n",
              "  </thead>\n",
              "  <tbody>\n",
              "    <tr>\n",
              "      <th>0</th>\n",
              "      <td>139441</td>\n",
              "      <td>Photo</td>\n",
              "      <td>2</td>\n",
              "      <td>12</td>\n",
              "      <td>4</td>\n",
              "      <td>3</td>\n",
              "      <td>0.0</td>\n",
              "      <td>2752</td>\n",
              "      <td>5091</td>\n",
              "      <td>178</td>\n",
              "      <td>109</td>\n",
              "      <td>159</td>\n",
              "      <td>3078</td>\n",
              "      <td>1640</td>\n",
              "      <td>119</td>\n",
              "      <td>4</td>\n",
              "      <td>79.0</td>\n",
              "      <td>17.0</td>\n",
              "      <td>100</td>\n",
              "    </tr>\n",
              "    <tr>\n",
              "      <th>1</th>\n",
              "      <td>139441</td>\n",
              "      <td>Status</td>\n",
              "      <td>2</td>\n",
              "      <td>12</td>\n",
              "      <td>3</td>\n",
              "      <td>10</td>\n",
              "      <td>0.0</td>\n",
              "      <td>10460</td>\n",
              "      <td>19057</td>\n",
              "      <td>1457</td>\n",
              "      <td>1361</td>\n",
              "      <td>1674</td>\n",
              "      <td>11710</td>\n",
              "      <td>6112</td>\n",
              "      <td>1108</td>\n",
              "      <td>5</td>\n",
              "      <td>130.0</td>\n",
              "      <td>29.0</td>\n",
              "      <td>164</td>\n",
              "    </tr>\n",
              "    <tr>\n",
              "      <th>2</th>\n",
              "      <td>139441</td>\n",
              "      <td>Photo</td>\n",
              "      <td>3</td>\n",
              "      <td>12</td>\n",
              "      <td>3</td>\n",
              "      <td>3</td>\n",
              "      <td>0.0</td>\n",
              "      <td>2413</td>\n",
              "      <td>4373</td>\n",
              "      <td>177</td>\n",
              "      <td>113</td>\n",
              "      <td>154</td>\n",
              "      <td>2812</td>\n",
              "      <td>1503</td>\n",
              "      <td>132</td>\n",
              "      <td>0</td>\n",
              "      <td>66.0</td>\n",
              "      <td>14.0</td>\n",
              "      <td>80</td>\n",
              "    </tr>\n",
              "    <tr>\n",
              "      <th>3</th>\n",
              "      <td>139441</td>\n",
              "      <td>Photo</td>\n",
              "      <td>2</td>\n",
              "      <td>12</td>\n",
              "      <td>2</td>\n",
              "      <td>10</td>\n",
              "      <td>1.0</td>\n",
              "      <td>50128</td>\n",
              "      <td>87991</td>\n",
              "      <td>2211</td>\n",
              "      <td>790</td>\n",
              "      <td>1119</td>\n",
              "      <td>61027</td>\n",
              "      <td>32048</td>\n",
              "      <td>1386</td>\n",
              "      <td>58</td>\n",
              "      <td>1572.0</td>\n",
              "      <td>147.0</td>\n",
              "      <td>1777</td>\n",
              "    </tr>\n",
              "    <tr>\n",
              "      <th>4</th>\n",
              "      <td>139441</td>\n",
              "      <td>Photo</td>\n",
              "      <td>2</td>\n",
              "      <td>12</td>\n",
              "      <td>2</td>\n",
              "      <td>3</td>\n",
              "      <td>0.0</td>\n",
              "      <td>7244</td>\n",
              "      <td>13594</td>\n",
              "      <td>671</td>\n",
              "      <td>410</td>\n",
              "      <td>580</td>\n",
              "      <td>6228</td>\n",
              "      <td>3200</td>\n",
              "      <td>396</td>\n",
              "      <td>19</td>\n",
              "      <td>325.0</td>\n",
              "      <td>49.0</td>\n",
              "      <td>393</td>\n",
              "    </tr>\n",
              "  </tbody>\n",
              "</table>\n",
              "</div>"
            ],
            "text/plain": [
              "   Page total likes    Type  Category  Post Month  Post Weekday  Post Hour  \\\n",
              "0            139441   Photo         2          12             4          3   \n",
              "1            139441  Status         2          12             3         10   \n",
              "2            139441   Photo         3          12             3          3   \n",
              "3            139441   Photo         2          12             2         10   \n",
              "4            139441   Photo         2          12             2          3   \n",
              "\n",
              "   Paid  Lifetime Post Total Reach  Lifetime Post Total Impressions  \\\n",
              "0   0.0                       2752                             5091   \n",
              "1   0.0                      10460                            19057   \n",
              "2   0.0                       2413                             4373   \n",
              "3   1.0                      50128                            87991   \n",
              "4   0.0                       7244                            13594   \n",
              "\n",
              "   Lifetime Engaged Users  Lifetime Post Consumers  \\\n",
              "0                     178                      109   \n",
              "1                    1457                     1361   \n",
              "2                     177                      113   \n",
              "3                    2211                      790   \n",
              "4                     671                      410   \n",
              "\n",
              "   Lifetime Post Consumptions  \\\n",
              "0                         159   \n",
              "1                        1674   \n",
              "2                         154   \n",
              "3                        1119   \n",
              "4                         580   \n",
              "\n",
              "   Lifetime Post Impressions by people who have liked your Page  \\\n",
              "0                                               3078              \n",
              "1                                              11710              \n",
              "2                                               2812              \n",
              "3                                              61027              \n",
              "4                                               6228              \n",
              "\n",
              "   Lifetime Post reach by people who like your Page  \\\n",
              "0                                              1640   \n",
              "1                                              6112   \n",
              "2                                              1503   \n",
              "3                                             32048   \n",
              "4                                              3200   \n",
              "\n",
              "   Lifetime People who have liked your Page and engaged with your post  \\\n",
              "0                                                119                     \n",
              "1                                               1108                     \n",
              "2                                                132                     \n",
              "3                                               1386                     \n",
              "4                                                396                     \n",
              "\n",
              "   comment    like  share  Total Interactions  \n",
              "0        4    79.0   17.0                 100  \n",
              "1        5   130.0   29.0                 164  \n",
              "2        0    66.0   14.0                  80  \n",
              "3       58  1572.0  147.0                1777  \n",
              "4       19   325.0   49.0                 393  "
            ]
          },
          "execution_count": 28,
          "metadata": {},
          "output_type": "execute_result"
        }
      ],
      "source": [
        "# Importación de datos\n",
        "url = 'https://archive.ics.uci.edu/ml/machine-learning-databases/00368/Facebook_metrics.zip'\n",
        "r = requests.get(url)\n",
        "buf1 = BytesIO(r.content)\n",
        "with zipfile.ZipFile(buf1, \"r\") as f:\n",
        "    for name in f.namelist():\n",
        "        if name.endswith('.csv'):\n",
        "            with f.open(name) as zd:\n",
        "                df = pd.read_csv(zd, encoding='latin1', sep=';')\n",
        "            break\n",
        "df.head()"
      ]
    },
    {
      "cell_type": "code",
      "execution_count": 29,
      "metadata": {
        "colab": {
          "base_uri": "https://localhost:8080/",
          "height": 320
        },
        "id": "MbBbzWrTDyGJ",
        "outputId": "cc38bf5a-f66a-4738-f2e6-14f75801e5c0"
      },
      "outputs": [
        {
          "data": {
            "text/html": [
              "<div>\n",
              "<style scoped>\n",
              "    .dataframe tbody tr th:only-of-type {\n",
              "        vertical-align: middle;\n",
              "    }\n",
              "\n",
              "    .dataframe tbody tr th {\n",
              "        vertical-align: top;\n",
              "    }\n",
              "\n",
              "    .dataframe thead th {\n",
              "        text-align: right;\n",
              "    }\n",
              "</style>\n",
              "<table border=\"1\" class=\"dataframe\">\n",
              "  <thead>\n",
              "    <tr style=\"text-align: right;\">\n",
              "      <th></th>\n",
              "      <th>Page total likes</th>\n",
              "      <th>Type</th>\n",
              "      <th>Category</th>\n",
              "      <th>Post Month</th>\n",
              "      <th>Post Weekday</th>\n",
              "      <th>Post Hour</th>\n",
              "      <th>Paid</th>\n",
              "      <th>Lifetime Post Total Reach</th>\n",
              "      <th>Lifetime Post Total Impressions</th>\n",
              "      <th>Lifetime Engaged Users</th>\n",
              "      <th>Lifetime Post Consumers</th>\n",
              "      <th>Lifetime Post Consumptions</th>\n",
              "      <th>Lifetime Post Impressions by people who have liked your Page</th>\n",
              "      <th>Lifetime Post reach by people who like your Page</th>\n",
              "      <th>LPE</th>\n",
              "      <th>comment</th>\n",
              "      <th>like</th>\n",
              "      <th>share</th>\n",
              "      <th>Total Interactions</th>\n",
              "    </tr>\n",
              "  </thead>\n",
              "  <tbody>\n",
              "    <tr>\n",
              "      <th>0</th>\n",
              "      <td>139441</td>\n",
              "      <td>Photo</td>\n",
              "      <td>2</td>\n",
              "      <td>12</td>\n",
              "      <td>4</td>\n",
              "      <td>3</td>\n",
              "      <td>0.0</td>\n",
              "      <td>2752</td>\n",
              "      <td>5091</td>\n",
              "      <td>178</td>\n",
              "      <td>109</td>\n",
              "      <td>159</td>\n",
              "      <td>3078</td>\n",
              "      <td>1640</td>\n",
              "      <td>119</td>\n",
              "      <td>4</td>\n",
              "      <td>79.0</td>\n",
              "      <td>17.0</td>\n",
              "      <td>100</td>\n",
              "    </tr>\n",
              "    <tr>\n",
              "      <th>1</th>\n",
              "      <td>139441</td>\n",
              "      <td>Status</td>\n",
              "      <td>2</td>\n",
              "      <td>12</td>\n",
              "      <td>3</td>\n",
              "      <td>10</td>\n",
              "      <td>0.0</td>\n",
              "      <td>10460</td>\n",
              "      <td>19057</td>\n",
              "      <td>1457</td>\n",
              "      <td>1361</td>\n",
              "      <td>1674</td>\n",
              "      <td>11710</td>\n",
              "      <td>6112</td>\n",
              "      <td>1108</td>\n",
              "      <td>5</td>\n",
              "      <td>130.0</td>\n",
              "      <td>29.0</td>\n",
              "      <td>164</td>\n",
              "    </tr>\n",
              "    <tr>\n",
              "      <th>2</th>\n",
              "      <td>139441</td>\n",
              "      <td>Photo</td>\n",
              "      <td>3</td>\n",
              "      <td>12</td>\n",
              "      <td>3</td>\n",
              "      <td>3</td>\n",
              "      <td>0.0</td>\n",
              "      <td>2413</td>\n",
              "      <td>4373</td>\n",
              "      <td>177</td>\n",
              "      <td>113</td>\n",
              "      <td>154</td>\n",
              "      <td>2812</td>\n",
              "      <td>1503</td>\n",
              "      <td>132</td>\n",
              "      <td>0</td>\n",
              "      <td>66.0</td>\n",
              "      <td>14.0</td>\n",
              "      <td>80</td>\n",
              "    </tr>\n",
              "    <tr>\n",
              "      <th>3</th>\n",
              "      <td>139441</td>\n",
              "      <td>Photo</td>\n",
              "      <td>2</td>\n",
              "      <td>12</td>\n",
              "      <td>2</td>\n",
              "      <td>10</td>\n",
              "      <td>1.0</td>\n",
              "      <td>50128</td>\n",
              "      <td>87991</td>\n",
              "      <td>2211</td>\n",
              "      <td>790</td>\n",
              "      <td>1119</td>\n",
              "      <td>61027</td>\n",
              "      <td>32048</td>\n",
              "      <td>1386</td>\n",
              "      <td>58</td>\n",
              "      <td>1572.0</td>\n",
              "      <td>147.0</td>\n",
              "      <td>1777</td>\n",
              "    </tr>\n",
              "    <tr>\n",
              "      <th>4</th>\n",
              "      <td>139441</td>\n",
              "      <td>Photo</td>\n",
              "      <td>2</td>\n",
              "      <td>12</td>\n",
              "      <td>2</td>\n",
              "      <td>3</td>\n",
              "      <td>0.0</td>\n",
              "      <td>7244</td>\n",
              "      <td>13594</td>\n",
              "      <td>671</td>\n",
              "      <td>410</td>\n",
              "      <td>580</td>\n",
              "      <td>6228</td>\n",
              "      <td>3200</td>\n",
              "      <td>396</td>\n",
              "      <td>19</td>\n",
              "      <td>325.0</td>\n",
              "      <td>49.0</td>\n",
              "      <td>393</td>\n",
              "    </tr>\n",
              "  </tbody>\n",
              "</table>\n",
              "</div>"
            ],
            "text/plain": [
              "   Page total likes    Type  Category  Post Month  Post Weekday  Post Hour  \\\n",
              "0            139441   Photo         2          12             4          3   \n",
              "1            139441  Status         2          12             3         10   \n",
              "2            139441   Photo         3          12             3          3   \n",
              "3            139441   Photo         2          12             2         10   \n",
              "4            139441   Photo         2          12             2          3   \n",
              "\n",
              "   Paid  Lifetime Post Total Reach  Lifetime Post Total Impressions  \\\n",
              "0   0.0                       2752                             5091   \n",
              "1   0.0                      10460                            19057   \n",
              "2   0.0                       2413                             4373   \n",
              "3   1.0                      50128                            87991   \n",
              "4   0.0                       7244                            13594   \n",
              "\n",
              "   Lifetime Engaged Users  Lifetime Post Consumers  \\\n",
              "0                     178                      109   \n",
              "1                    1457                     1361   \n",
              "2                     177                      113   \n",
              "3                    2211                      790   \n",
              "4                     671                      410   \n",
              "\n",
              "   Lifetime Post Consumptions  \\\n",
              "0                         159   \n",
              "1                        1674   \n",
              "2                         154   \n",
              "3                        1119   \n",
              "4                         580   \n",
              "\n",
              "   Lifetime Post Impressions by people who have liked your Page  \\\n",
              "0                                               3078              \n",
              "1                                              11710              \n",
              "2                                               2812              \n",
              "3                                              61027              \n",
              "4                                               6228              \n",
              "\n",
              "   Lifetime Post reach by people who like your Page   LPE  comment    like  \\\n",
              "0                                              1640   119        4    79.0   \n",
              "1                                              6112  1108        5   130.0   \n",
              "2                                              1503   132        0    66.0   \n",
              "3                                             32048  1386       58  1572.0   \n",
              "4                                              3200   396       19   325.0   \n",
              "\n",
              "   share  Total Interactions  \n",
              "0   17.0                 100  \n",
              "1   29.0                 164  \n",
              "2   14.0                  80  \n",
              "3  147.0                1777  \n",
              "4   49.0                 393  "
            ]
          },
          "execution_count": 29,
          "metadata": {},
          "output_type": "execute_result"
        }
      ],
      "source": [
        "# Renombramiento de columna.\n",
        "df.rename(columns = {'Lifetime People who have liked your Page and engaged with your post':'LPE'}, inplace = True)\n",
        "df.head()"
      ]
    },
    {
      "cell_type": "code",
      "execution_count": 30,
      "metadata": {
        "id": "zsKIleWcCT29"
      },
      "outputs": [],
      "source": [
        "# Definimos nuestros datos de entrada y salida.                \n",
        "X = df[['Category', 'Page total likes',    # Variables de entrada\n",
        "        'Post Month', 'Post Hour',\n",
        "        'Post Weekday', 'Paid']]         \n",
        "Y = df[['LPE']]                            # Variable de salida    "
      ]
    },
    {
      "cell_type": "code",
      "execution_count": 31,
      "metadata": {},
      "outputs": [
        {
          "name": "stdout",
          "output_type": "stream",
          "text": [
            "(10000, 8) (10000,)\n"
          ]
        }
      ],
      "source": [
        "X, Y, cc = make_regression(n_samples=10000,   # total de observaciones a generar\n",
        "                          n_features=8,       # número de factores a generar, tanto informativos, como redundantes\n",
        "                          n_informative=4,    # número de factores informativos o independientes a generar\n",
        "                          noise=0.5,          # desviación estándar del ruido gaussiano agregado a la variable de salida.\n",
        "                          coef=True,          # nos regresa los coeficientes reales del modelo subyacente generado.\n",
        "                          random_state=0      # semilla\n",
        "                          )\n",
        "\n",
        "\n",
        "print(X.shape, Y.shape)"
      ]
    },
    {
      "cell_type": "code",
      "execution_count": 32,
      "metadata": {},
      "outputs": [
        {
          "data": {
            "text/plain": [
              "array([ 0.        , 19.70974426, 81.80596544,  0.        , 14.19514662,\n",
              "        0.        ,  0.        , 70.4253197 ])"
            ]
          },
          "execution_count": 32,
          "metadata": {},
          "output_type": "execute_result"
        }
      ],
      "source": [
        "cc"
      ]
    },
    {
      "cell_type": "markdown",
      "metadata": {
        "id": "xZhr2hkECzVv"
      },
      "source": [
        "#**Ejercicio-2.**"
      ]
    },
    {
      "cell_type": "code",
      "execution_count": 33,
      "metadata": {
        "colab": {
          "base_uri": "https://localhost:8080/"
        },
        "id": "kGfAoOPkC1PP",
        "outputId": "0aafbbd8-e4b8-4654-af7b-c886e0800024"
      },
      "outputs": [
        {
          "name": "stdout",
          "output_type": "stream",
          "text": [
            "(8000, 8) : Dimensión de datos de entrada para entrenamiento.\n",
            "(2000, 8) : Dimensión de datos de entrada para prueba.\n",
            "(8000,) : Dimensión de variable de salida para entrenamiento.\n",
            "(2000,) : Dimensión de variable de salida para prueba.\n"
          ]
        }
      ],
      "source": [
        "# Se realiza la particón de datos, en un grupo de 100 de prueba y 400 se repartirán entre entrenamiento y validación.\n",
        "Xtrain, Xtest, Ytrain, Ytest = train_test_split(X, Y, test_size = 0.2, random_state = 7)\n",
        "print(Xtrain.shape, ': Dimensión de datos de entrada para entrenamiento.')\n",
        "print(Xtest.shape, ': Dimensión de datos de entrada para prueba.')  \n",
        "print(Ytrain.shape, ': Dimensión de variable de salida para entrenamiento.')\n",
        "print(Ytest.shape, ': Dimensión de variable de salida para prueba.')"
      ]
    },
    {
      "cell_type": "markdown",
      "metadata": {
        "id": "NCunuooTC2W3"
      },
      "source": [
        "#**Ejercicio-3.**"
      ]
    },
    {
      "cell_type": "code",
      "execution_count": 34,
      "metadata": {
        "colab": {
          "base_uri": "https://localhost:8080/",
          "height": 236
        },
        "id": "IYKaTCH2vZsW",
        "outputId": "081ddea3-3b24-41f8-f579-b45362bf9eba"
      },
      "outputs": [
        {
          "name": "stdout",
          "output_type": "stream",
          "text": [
            "El valor de MAE es de  0.39404541443211716\n",
            "El valor de RMSE es de  0.49577966817256713\n",
            "El valor de MAPE es de  2.1035604184601944\n"
          ]
        }
      ],
      "source": [
        "# Realizamos un modelo de regresión líneal para poder predecir un valor Y. \n",
        "LRmodel = LinearRegression()\n",
        "LRmodel.fit(Xtrain, Ytrain)\n",
        "Ypred = LRmodel.predict(Xtest)\n",
        "\n",
        "# Calculo de MAE.\n",
        "MAE = mean_absolute_error(Ytest, Ypred)\n",
        "print(\"El valor de MAE es de \", MAE)\n",
        "\n",
        "# Calculos de RMSE.\n",
        "RMSE = np.sqrt(mean_squared_error(Ytest, Ypred))\n",
        "print(\"El valor de RMSE es de \", RMSE)\n",
        "\n",
        "# Calculo de MAPE.\n",
        "MAPE = np.mean(np.abs((Ytest - Ypred) / Ytest)) * 100\n",
        "print(\"El valor de MAPE es de \", MAPE)"
      ]
    },
    {
      "cell_type": "markdown",
      "metadata": {
        "id": "chqk9jIDC5Pq"
      },
      "source": [
        "#**Ejercicio-4.**"
      ]
    },
    {
      "cell_type": "code",
      "execution_count": 35,
      "metadata": {
        "id": "RBVSFwK4C6g9"
      },
      "outputs": [],
      "source": [
        "# Transformaciones a factores cualitativos de entrada y salida:\n",
        "#Se usa la mediana para imputar ya que se trata de variables numéricas en caso de que haya valores perdidos\n",
        "numeric_pipeline = Pipeline(steps = [('impMediana', SimpleImputer(strategy='median')),                      # Medio de imputación media.\n",
        "                                 ('escalaNum', MinMaxScaler(feature_range=(0,1)))])                         # Variables numéricas se colocan en rango.\n",
        "numeric_pipeline_nombres = ['Page total likes', 'Post Month', 'Post Hour','Post Weekday', 'Paid', 'LPE']    # Transformacion de categóricas númericas/continuas.\n",
        "\n",
        "# Transformaciones a factores categoricos de entrada:\n",
        "#Se usa la moda para imputar ya que se trata de variables categóricas en caso de que haya valores perdidos\n",
        "categ_pipeline = Pipeline(steps = [('impModa', SimpleImputer(strategy='most_frequent'))])                   #Datos perdidos categóricos se usa la moda.\n",
        "categ_pipeline_nombres = ['Category']"
      ]
    },
    {
      "cell_type": "markdown",
      "metadata": {},
      "source": [
        "Justificación: \n",
        "\n"
      ]
    },
    {
      "cell_type": "code",
      "execution_count": 36,
      "metadata": {},
      "outputs": [],
      "source": [
        "columnasTransformer = ColumnTransformer(transformers = [('numpipe', numeric_pipeline, numeric_pipeline_nombres),        # Se juntan las transformaciones numéricas.\n",
        "                                                        ('categpipe', categ_pipeline, categ_pipeline_nombres)],         # Se juntan las transformaciones categoricas.\n",
        "                                        remainder='passthrough') "
      ]
    },
    {
      "cell_type": "markdown",
      "metadata": {
        "id": "Rv7KFq-mC7PS"
      },
      "source": [
        "#**Ejercicio-5.**"
      ]
    },
    {
      "cell_type": "code",
      "execution_count": null,
      "metadata": {
        "id": "4tQxQROVC9Us"
      },
      "outputs": [],
      "source": [
        "# Se hace un modelo Dummy con regresion para poderla comparar con el ejercicio 3. \n",
        "dummy_regr = DummyRegressor(strategy=\"mean\")\n",
        "dummy_regr.fit(Xtrain, Ytrain)\n",
        "Ypred_dummy = dummy_regr.predict(Xtest)\n",
        "\n",
        "# Calculo de MAE.\n",
        "MAE = mean_absolute_error(Ytest, Ypred)\n",
        "print(\"El valor de MAE es de \", MAE)\n",
        "\n",
        "# Calculos de RMSE.\n",
        "RMSE = np.sqrt(mean_squared_error(Ytest, Ypred))\n",
        "print(\"El valor de RMSE es de \", RMSE)\n",
        "\n",
        "# Calculo de MAPE.\n",
        "MAPE = np.mean(np.abs((Ytest - Ypred) / Ytest)) * 100\n",
        "print(\"El valor de MAPE es de \", MAPE) "
      ]
    },
    {
      "cell_type": "markdown",
      "metadata": {
        "id": "W2S7LI0NC9wE"
      },
      "source": [
        "#**Ejercicio-6.**"
      ]
    },
    {
      "cell_type": "code",
      "execution_count": 37,
      "metadata": {
        "id": "x6uBleJUC_AU"
      },
      "outputs": [],
      "source": [
        "None"
      ]
    },
    {
      "cell_type": "code",
      "execution_count": null,
      "metadata": {
        "id": "n0P_AcyjC_Dh"
      },
      "outputs": [],
      "source": []
    },
    {
      "cell_type": "markdown",
      "metadata": {
        "id": "iCNGx4TQ8CFI"
      },
      "source": [
        "#**Ejercicio-7.**"
      ]
    },
    {
      "cell_type": "code",
      "execution_count": 38,
      "metadata": {
        "id": "ewvwUcJX78y1"
      },
      "outputs": [],
      "source": [
        "None"
      ]
    },
    {
      "cell_type": "code",
      "execution_count": null,
      "metadata": {
        "id": "F1aW0dQX8BLL"
      },
      "outputs": [],
      "source": []
    },
    {
      "cell_type": "markdown",
      "metadata": {
        "id": "tzQn5NR78GFg"
      },
      "source": [
        "#**Ejercicio-8.**"
      ]
    },
    {
      "cell_type": "code",
      "execution_count": 39,
      "metadata": {
        "id": "EBKcp0278IQV"
      },
      "outputs": [],
      "source": [
        "None"
      ]
    },
    {
      "cell_type": "code",
      "execution_count": null,
      "metadata": {
        "id": "vp8S0PFs8IMR"
      },
      "outputs": [],
      "source": []
    },
    {
      "cell_type": "markdown",
      "metadata": {
        "id": "mASNrZWs8JTh"
      },
      "source": [
        "#**Ejercicio-9.**"
      ]
    },
    {
      "cell_type": "code",
      "execution_count": 40,
      "metadata": {
        "id": "X6HJP9hb8LCp"
      },
      "outputs": [],
      "source": [
        "None"
      ]
    },
    {
      "cell_type": "code",
      "execution_count": null,
      "metadata": {
        "id": "Xr6oe1VF8K_A"
      },
      "outputs": [],
      "source": []
    },
    {
      "cell_type": "markdown",
      "metadata": {
        "id": "VUIcDshs8MzG"
      },
      "source": [
        "#**Ejercicio-10.**"
      ]
    },
    {
      "cell_type": "code",
      "execution_count": 41,
      "metadata": {
        "id": "0lKNJNIt8N88"
      },
      "outputs": [],
      "source": [
        "None"
      ]
    },
    {
      "cell_type": "code",
      "execution_count": null,
      "metadata": {
        "id": "Inkq5YQe8PED"
      },
      "outputs": [],
      "source": []
    },
    {
      "cell_type": "markdown",
      "metadata": {
        "id": "5LJl6oql8Pc8"
      },
      "source": [
        "#**Ejercicio-11.**"
      ]
    },
    {
      "cell_type": "code",
      "execution_count": 42,
      "metadata": {
        "id": "-YiSnt9t8RfN"
      },
      "outputs": [],
      "source": [
        "None"
      ]
    },
    {
      "cell_type": "code",
      "execution_count": null,
      "metadata": {
        "id": "2iRA78ZC8Rbm"
      },
      "outputs": [],
      "source": []
    },
    {
      "cell_type": "markdown",
      "metadata": {
        "id": "IKW72uyk8Sbc"
      },
      "source": [
        "#**Ejercicio-12.**"
      ]
    },
    {
      "cell_type": "code",
      "execution_count": 43,
      "metadata": {
        "id": "gwpz77W38Uq0"
      },
      "outputs": [],
      "source": [
        "None"
      ]
    },
    {
      "cell_type": "code",
      "execution_count": null,
      "metadata": {
        "id": "8v8HL02W8UmW"
      },
      "outputs": [],
      "source": []
    },
    {
      "cell_type": "markdown",
      "metadata": {
        "id": "7ql_r2G-DB_m"
      },
      "source": [
        "###**Fin de la Actividad de la semana 7.**"
      ]
    }
  ],
  "metadata": {
    "colab": {
      "collapsed_sections": [],
      "provenance": []
    },
    "kernelspec": {
      "display_name": "Python 3.9.12 ('base')",
      "language": "python",
      "name": "python3"
    },
    "language_info": {
      "codemirror_mode": {
        "name": "ipython",
        "version": 3
      },
      "file_extension": ".py",
      "mimetype": "text/x-python",
      "name": "python",
      "nbconvert_exporter": "python",
      "pygments_lexer": "ipython3",
      "version": "3.9.12"
    },
    "vscode": {
      "interpreter": {
        "hash": "e03b612d84ba21ce95ed447e81b3062e1eb99b56c6d885cdab4aaa12f1b8e240"
      }
    }
  },
  "nbformat": 4,
  "nbformat_minor": 0
}
