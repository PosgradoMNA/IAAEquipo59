{
 "cells": [
  {
   "cell_type": "markdown",
   "metadata": {
    "id": "VFj0sSM06dYa"
   },
   "source": [
    "#**Maestría en Inteligencia Artificial Aplicada**\n",
    "##**Curso: Inteligencia Artificial y Aprendizaje Automático**\n",
    "###Tecnológico de Monterrey\n",
    "###Prof Luis Eduardo Falcón Morales\n",
    "\n",
    "## **Adtividad de la Semana 10**\n",
    "###**Reducción de Dimensionalidad - Descomposición en Valores Singulares (SVD) y Sistemas de Recomendación**\n"
   ]
  },
  {
   "cell_type": "markdown",
   "metadata": {
    "id": "Qgrvy0RGB9XI"
   },
   "source": [
    "**Nombres y matrículas de los integrantes del equipo:**\n",
    "\n",
    "*   Elber Aguilar Pérez - A01793568\n",
    "*   José Francisco Muñoz Del Angel - A01794174\n",
    "*   Daniel Roberto Meneses Leon - A01794274\n",
    "*   \n",
    "*   \n"
   ]
  },
  {
   "cell_type": "markdown",
   "metadata": {
    "id": "FrJ2ahMODVj1"
   },
   "source": [
    "En cada sección deberás incluir todas las líneas de código necesarias para responder a cada uno de los ejercicios."
   ]
  },
  {
   "cell_type": "code",
   "execution_count": 100,
   "metadata": {
    "id": "exXsscs-Dh-2"
   },
   "outputs": [],
   "source": [
    "# Incluye aquí todos módulos, librerías y paquetes que requieras.\n",
    "import pandas as pd\n",
    "import numpy as np\n",
    "import matplotlib.pyplot as plt\n",
    "\n",
    "from sklearn.decomposition import TruncatedSVD"
   ]
  },
  {
   "cell_type": "markdown",
   "metadata": {
    "id": "X25brD-gQdZM"
   },
   "source": [
    "#**Ejercicio-1.** "
   ]
  },
  {
   "cell_type": "code",
   "execution_count": 101,
   "metadata": {
    "id": "3nU2GuWYCy6C"
   },
   "outputs": [
    {
     "name": "stdout",
     "output_type": "stream",
     "text": [
      "ratings:  (1161, 5)\n"
     ]
    },
    {
     "data": {
      "text/html": [
       "<div>\n",
       "<style scoped>\n",
       "    .dataframe tbody tr th:only-of-type {\n",
       "        vertical-align: middle;\n",
       "    }\n",
       "\n",
       "    .dataframe tbody tr th {\n",
       "        vertical-align: top;\n",
       "    }\n",
       "\n",
       "    .dataframe thead th {\n",
       "        text-align: right;\n",
       "    }\n",
       "</style>\n",
       "<table border=\"1\" class=\"dataframe\">\n",
       "  <thead>\n",
       "    <tr style=\"text-align: right;\">\n",
       "      <th></th>\n",
       "      <th>userID</th>\n",
       "      <th>placeID</th>\n",
       "      <th>rating</th>\n",
       "      <th>food_rating</th>\n",
       "      <th>service_rating</th>\n",
       "    </tr>\n",
       "  </thead>\n",
       "  <tbody>\n",
       "    <tr>\n",
       "      <th>0</th>\n",
       "      <td>U1077</td>\n",
       "      <td>135085</td>\n",
       "      <td>2</td>\n",
       "      <td>2</td>\n",
       "      <td>2</td>\n",
       "    </tr>\n",
       "    <tr>\n",
       "      <th>1</th>\n",
       "      <td>U1077</td>\n",
       "      <td>135038</td>\n",
       "      <td>2</td>\n",
       "      <td>2</td>\n",
       "      <td>1</td>\n",
       "    </tr>\n",
       "    <tr>\n",
       "      <th>2</th>\n",
       "      <td>U1077</td>\n",
       "      <td>132825</td>\n",
       "      <td>2</td>\n",
       "      <td>2</td>\n",
       "      <td>2</td>\n",
       "    </tr>\n",
       "    <tr>\n",
       "      <th>3</th>\n",
       "      <td>U1077</td>\n",
       "      <td>135060</td>\n",
       "      <td>1</td>\n",
       "      <td>2</td>\n",
       "      <td>2</td>\n",
       "    </tr>\n",
       "    <tr>\n",
       "      <th>4</th>\n",
       "      <td>U1068</td>\n",
       "      <td>135104</td>\n",
       "      <td>1</td>\n",
       "      <td>1</td>\n",
       "      <td>2</td>\n",
       "    </tr>\n",
       "  </tbody>\n",
       "</table>\n",
       "</div>"
      ],
      "text/plain": [
       "  userID  placeID  rating  food_rating  service_rating\n",
       "0  U1077   135085       2            2               2\n",
       "1  U1077   135038       2            2               1\n",
       "2  U1077   132825       2            2               2\n",
       "3  U1077   135060       1            2               2\n",
       "4  U1068   135104       1            1               2"
      ]
     },
     "execution_count": 101,
     "metadata": {},
     "output_type": "execute_result"
    }
   ],
   "source": [
    "ratings_url=\"https://raw.githubusercontent.com/PosgradoMNA/IAAEquipo59/main/rating_final.csv?token=GHSAT0AAAAAABW3GV3I5XETEVXZID5CG3D2Y34FGOQ\"\n",
    "geoplaces_url=\"https://raw.githubusercontent.com/PosgradoMNA/IAAEquipo59/main/geoplaces2.csv?token=GHSAT0AAAAAABW3GV3I5XETEVXZID5CG3D2Y34FGOQ\"\n",
    "df_ratings = pd.read_csv(ratings_url)\n",
    "df_geoplaces = pd.read_csv(geoplaces_url, encoding=\"latin-1\")\n",
    "print('ratings: ', df_ratings.shape)\n",
    "df_ratings.head()\n"
   ]
  },
  {
   "cell_type": "code",
   "execution_count": 102,
   "metadata": {
    "collapsed": false
   },
   "outputs": [
    {
     "name": "stdout",
     "output_type": "stream",
     "text": [
      "geoplaces:  (130, 21)\n"
     ]
    },
    {
     "data": {
      "text/html": [
       "<div>\n",
       "<style scoped>\n",
       "    .dataframe tbody tr th:only-of-type {\n",
       "        vertical-align: middle;\n",
       "    }\n",
       "\n",
       "    .dataframe tbody tr th {\n",
       "        vertical-align: top;\n",
       "    }\n",
       "\n",
       "    .dataframe thead th {\n",
       "        text-align: right;\n",
       "    }\n",
       "</style>\n",
       "<table border=\"1\" class=\"dataframe\">\n",
       "  <thead>\n",
       "    <tr style=\"text-align: right;\">\n",
       "      <th></th>\n",
       "      <th>placeID</th>\n",
       "      <th>latitude</th>\n",
       "      <th>longitude</th>\n",
       "      <th>the_geom_meter</th>\n",
       "      <th>name</th>\n",
       "      <th>address</th>\n",
       "      <th>city</th>\n",
       "      <th>state</th>\n",
       "      <th>country</th>\n",
       "      <th>fax</th>\n",
       "      <th>...</th>\n",
       "      <th>alcohol</th>\n",
       "      <th>smoking_area</th>\n",
       "      <th>dress_code</th>\n",
       "      <th>accessibility</th>\n",
       "      <th>price</th>\n",
       "      <th>url</th>\n",
       "      <th>Rambience</th>\n",
       "      <th>franchise</th>\n",
       "      <th>area</th>\n",
       "      <th>other_services</th>\n",
       "    </tr>\n",
       "  </thead>\n",
       "  <tbody>\n",
       "    <tr>\n",
       "      <th>0</th>\n",
       "      <td>134999</td>\n",
       "      <td>18.915421</td>\n",
       "      <td>-99.184871</td>\n",
       "      <td>0101000020957F000088568DE356715AC138C0A525FC46...</td>\n",
       "      <td>Kiku Cuernavaca</td>\n",
       "      <td>Revolucion</td>\n",
       "      <td>Cuernavaca</td>\n",
       "      <td>Morelos</td>\n",
       "      <td>Mexico</td>\n",
       "      <td>?</td>\n",
       "      <td>...</td>\n",
       "      <td>No_Alcohol_Served</td>\n",
       "      <td>none</td>\n",
       "      <td>informal</td>\n",
       "      <td>no_accessibility</td>\n",
       "      <td>medium</td>\n",
       "      <td>kikucuernavaca.com.mx</td>\n",
       "      <td>familiar</td>\n",
       "      <td>f</td>\n",
       "      <td>closed</td>\n",
       "      <td>none</td>\n",
       "    </tr>\n",
       "    <tr>\n",
       "      <th>1</th>\n",
       "      <td>132825</td>\n",
       "      <td>22.147392</td>\n",
       "      <td>-100.983092</td>\n",
       "      <td>0101000020957F00001AD016568C4858C1243261274BA5...</td>\n",
       "      <td>puesto de tacos</td>\n",
       "      <td>esquina santos degollado y leon guzman</td>\n",
       "      <td>s.l.p.</td>\n",
       "      <td>s.l.p.</td>\n",
       "      <td>mexico</td>\n",
       "      <td>?</td>\n",
       "      <td>...</td>\n",
       "      <td>No_Alcohol_Served</td>\n",
       "      <td>none</td>\n",
       "      <td>informal</td>\n",
       "      <td>completely</td>\n",
       "      <td>low</td>\n",
       "      <td>?</td>\n",
       "      <td>familiar</td>\n",
       "      <td>f</td>\n",
       "      <td>open</td>\n",
       "      <td>none</td>\n",
       "    </tr>\n",
       "    <tr>\n",
       "      <th>2</th>\n",
       "      <td>135106</td>\n",
       "      <td>22.149709</td>\n",
       "      <td>-100.976093</td>\n",
       "      <td>0101000020957F0000649D6F21634858C119AE9BF528A3...</td>\n",
       "      <td>El Rincón de San Francisco</td>\n",
       "      <td>Universidad 169</td>\n",
       "      <td>San Luis Potosi</td>\n",
       "      <td>San Luis Potosi</td>\n",
       "      <td>Mexico</td>\n",
       "      <td>?</td>\n",
       "      <td>...</td>\n",
       "      <td>Wine-Beer</td>\n",
       "      <td>only at bar</td>\n",
       "      <td>informal</td>\n",
       "      <td>partially</td>\n",
       "      <td>medium</td>\n",
       "      <td>?</td>\n",
       "      <td>familiar</td>\n",
       "      <td>f</td>\n",
       "      <td>open</td>\n",
       "      <td>none</td>\n",
       "    </tr>\n",
       "    <tr>\n",
       "      <th>3</th>\n",
       "      <td>132667</td>\n",
       "      <td>23.752697</td>\n",
       "      <td>-99.163359</td>\n",
       "      <td>0101000020957F00005D67BCDDED8157C1222A2DC8D84D...</td>\n",
       "      <td>little pizza Emilio Portes Gil</td>\n",
       "      <td>calle emilio portes gil</td>\n",
       "      <td>victoria</td>\n",
       "      <td>tamaulipas</td>\n",
       "      <td>?</td>\n",
       "      <td>?</td>\n",
       "      <td>...</td>\n",
       "      <td>No_Alcohol_Served</td>\n",
       "      <td>none</td>\n",
       "      <td>informal</td>\n",
       "      <td>completely</td>\n",
       "      <td>low</td>\n",
       "      <td>?</td>\n",
       "      <td>familiar</td>\n",
       "      <td>t</td>\n",
       "      <td>closed</td>\n",
       "      <td>none</td>\n",
       "    </tr>\n",
       "    <tr>\n",
       "      <th>4</th>\n",
       "      <td>132613</td>\n",
       "      <td>23.752903</td>\n",
       "      <td>-99.165076</td>\n",
       "      <td>0101000020957F00008EBA2D06DC8157C194E03B7B504E...</td>\n",
       "      <td>carnitas_mata</td>\n",
       "      <td>lic. Emilio portes gil</td>\n",
       "      <td>victoria</td>\n",
       "      <td>Tamaulipas</td>\n",
       "      <td>Mexico</td>\n",
       "      <td>?</td>\n",
       "      <td>...</td>\n",
       "      <td>No_Alcohol_Served</td>\n",
       "      <td>permitted</td>\n",
       "      <td>informal</td>\n",
       "      <td>completely</td>\n",
       "      <td>medium</td>\n",
       "      <td>?</td>\n",
       "      <td>familiar</td>\n",
       "      <td>t</td>\n",
       "      <td>closed</td>\n",
       "      <td>none</td>\n",
       "    </tr>\n",
       "  </tbody>\n",
       "</table>\n",
       "<p>5 rows × 21 columns</p>\n",
       "</div>"
      ],
      "text/plain": [
       "   placeID   latitude   longitude  \\\n",
       "0   134999  18.915421  -99.184871   \n",
       "1   132825  22.147392 -100.983092   \n",
       "2   135106  22.149709 -100.976093   \n",
       "3   132667  23.752697  -99.163359   \n",
       "4   132613  23.752903  -99.165076   \n",
       "\n",
       "                                      the_geom_meter  \\\n",
       "0  0101000020957F000088568DE356715AC138C0A525FC46...   \n",
       "1  0101000020957F00001AD016568C4858C1243261274BA5...   \n",
       "2  0101000020957F0000649D6F21634858C119AE9BF528A3...   \n",
       "3  0101000020957F00005D67BCDDED8157C1222A2DC8D84D...   \n",
       "4  0101000020957F00008EBA2D06DC8157C194E03B7B504E...   \n",
       "\n",
       "                             name                                 address  \\\n",
       "0                 Kiku Cuernavaca                              Revolucion   \n",
       "1                 puesto de tacos  esquina santos degollado y leon guzman   \n",
       "2      El Rincón de San Francisco                         Universidad 169   \n",
       "3  little pizza Emilio Portes Gil                 calle emilio portes gil   \n",
       "4                   carnitas_mata                  lic. Emilio portes gil   \n",
       "\n",
       "              city            state country fax  ...            alcohol  \\\n",
       "0       Cuernavaca          Morelos  Mexico   ?  ...  No_Alcohol_Served   \n",
       "1           s.l.p.           s.l.p.  mexico   ?  ...  No_Alcohol_Served   \n",
       "2  San Luis Potosi  San Luis Potosi  Mexico   ?  ...          Wine-Beer   \n",
       "3        victoria        tamaulipas       ?   ?  ...  No_Alcohol_Served   \n",
       "4         victoria       Tamaulipas  Mexico   ?  ...  No_Alcohol_Served   \n",
       "\n",
       "  smoking_area dress_code     accessibility   price                    url  \\\n",
       "0         none   informal  no_accessibility  medium  kikucuernavaca.com.mx   \n",
       "1         none   informal        completely     low                      ?   \n",
       "2  only at bar   informal         partially  medium                      ?   \n",
       "3         none   informal        completely     low                      ?   \n",
       "4    permitted   informal        completely  medium                      ?   \n",
       "\n",
       "  Rambience franchise    area other_services  \n",
       "0  familiar         f  closed           none  \n",
       "1  familiar         f    open           none  \n",
       "2  familiar         f    open           none  \n",
       "3  familiar         t  closed           none  \n",
       "4  familiar         t  closed           none  \n",
       "\n",
       "[5 rows x 21 columns]"
      ]
     },
     "execution_count": 102,
     "metadata": {},
     "output_type": "execute_result"
    }
   ],
   "source": [
    "print('geoplaces: ', df_geoplaces.shape)\n",
    "df_geoplaces.head()"
   ]
  },
  {
   "cell_type": "code",
   "execution_count": 103,
   "metadata": {
    "id": "0ulkqXVGCy97"
   },
   "outputs": [
    {
     "name": "stdout",
     "output_type": "stream",
     "text": [
      "(1161, 4)\n"
     ]
    },
    {
     "data": {
      "text/html": [
       "<div>\n",
       "<style scoped>\n",
       "    .dataframe tbody tr th:only-of-type {\n",
       "        vertical-align: middle;\n",
       "    }\n",
       "\n",
       "    .dataframe tbody tr th {\n",
       "        vertical-align: top;\n",
       "    }\n",
       "\n",
       "    .dataframe thead th {\n",
       "        text-align: right;\n",
       "    }\n",
       "</style>\n",
       "<table border=\"1\" class=\"dataframe\">\n",
       "  <thead>\n",
       "    <tr style=\"text-align: right;\">\n",
       "      <th></th>\n",
       "      <th>users</th>\n",
       "      <th>place_id</th>\n",
       "      <th>names</th>\n",
       "      <th>food_rating</th>\n",
       "    </tr>\n",
       "  </thead>\n",
       "  <tbody>\n",
       "    <tr>\n",
       "      <th>0</th>\n",
       "      <td>U1077</td>\n",
       "      <td>135085</td>\n",
       "      <td>Kiku Cuernavaca</td>\n",
       "      <td>2</td>\n",
       "    </tr>\n",
       "    <tr>\n",
       "      <th>1</th>\n",
       "      <td>U1077</td>\n",
       "      <td>135038</td>\n",
       "      <td>Kiku Cuernavaca</td>\n",
       "      <td>2</td>\n",
       "    </tr>\n",
       "    <tr>\n",
       "      <th>2</th>\n",
       "      <td>U1077</td>\n",
       "      <td>132825</td>\n",
       "      <td>Kiku Cuernavaca</td>\n",
       "      <td>2</td>\n",
       "    </tr>\n",
       "    <tr>\n",
       "      <th>3</th>\n",
       "      <td>U1077</td>\n",
       "      <td>135060</td>\n",
       "      <td>Kiku Cuernavaca</td>\n",
       "      <td>2</td>\n",
       "    </tr>\n",
       "    <tr>\n",
       "      <th>4</th>\n",
       "      <td>U1068</td>\n",
       "      <td>135104</td>\n",
       "      <td>Kiku Cuernavaca</td>\n",
       "      <td>1</td>\n",
       "    </tr>\n",
       "  </tbody>\n",
       "</table>\n",
       "</div>"
      ],
      "text/plain": [
       "   users  place_id            names  food_rating\n",
       "0  U1077    135085  Kiku Cuernavaca            2\n",
       "1  U1077    135038  Kiku Cuernavaca            2\n",
       "2  U1077    132825  Kiku Cuernavaca            2\n",
       "3  U1077    135060  Kiku Cuernavaca            2\n",
       "4  U1068    135104  Kiku Cuernavaca            1"
      ]
     },
     "execution_count": 103,
     "metadata": {},
     "output_type": "execute_result"
    }
   ],
   "source": [
    "# merge df_geoplaces into df_ratings using the placeID in order to obtain the name\n",
    "df = pd.DataFrame()\n",
    "df['users'] = df_ratings[['userID']]\n",
    "df['place_id'] = df_ratings[['placeID']]\n",
    "df['names'] = df_geoplaces.merge(df_ratings, on='placeID')[['name']]\n",
    "df['food_rating'] = df_ratings[['food_rating']]\n",
    "print(df.shape)\n",
    "\n",
    "df.head()"
   ]
  },
  {
   "cell_type": "code",
   "execution_count": null,
   "metadata": {},
   "outputs": [],
   "source": [
    "\n"
   ]
  },
  {
   "cell_type": "markdown",
   "metadata": {
    "id": "xZhr2hkECzVv"
   },
   "source": [
    "#**Ejercicio-2.**"
   ]
  },
  {
   "cell_type": "code",
   "execution_count": 104,
   "metadata": {
    "id": "kGfAoOPkC1PP"
   },
   "outputs": [
    {
     "data": {
      "text/html": [
       "<div>\n",
       "<style scoped>\n",
       "    .dataframe tbody tr th:only-of-type {\n",
       "        vertical-align: middle;\n",
       "    }\n",
       "\n",
       "    .dataframe tbody tr th {\n",
       "        vertical-align: top;\n",
       "    }\n",
       "\n",
       "    .dataframe thead th {\n",
       "        text-align: right;\n",
       "    }\n",
       "</style>\n",
       "<table border=\"1\" class=\"dataframe\">\n",
       "  <thead>\n",
       "    <tr style=\"text-align: right;\">\n",
       "      <th>names</th>\n",
       "      <th>Abondance Restaurante Bar</th>\n",
       "      <th>Arrachela Grill</th>\n",
       "      <th>Cabana Huasteca</th>\n",
       "      <th>Cafe Chaires</th>\n",
       "      <th>Cafeteria cenidet</th>\n",
       "      <th>Cafeteria y Restaurant El Pacifico</th>\n",
       "      <th>Carls Jr</th>\n",
       "      <th>Carnitas Mata  Calle 16 de Septiembre</th>\n",
       "      <th>Carreton de Flautas y Migadas</th>\n",
       "      <th>Cenaduria El RincÃ³n de Tlaquepaque</th>\n",
       "      <th>...</th>\n",
       "      <th>puesto de tacos</th>\n",
       "      <th>rockabilly</th>\n",
       "      <th>shi ro ie</th>\n",
       "      <th>sirloin stockade</th>\n",
       "      <th>tacos abi</th>\n",
       "      <th>tacos de barbacoa enfrente del Tec</th>\n",
       "      <th>tacos de la estacion</th>\n",
       "      <th>tacos los volcanes</th>\n",
       "      <th>tortas hawai</th>\n",
       "      <th>vips</th>\n",
       "    </tr>\n",
       "    <tr>\n",
       "      <th>users</th>\n",
       "      <th></th>\n",
       "      <th></th>\n",
       "      <th></th>\n",
       "      <th></th>\n",
       "      <th></th>\n",
       "      <th></th>\n",
       "      <th></th>\n",
       "      <th></th>\n",
       "      <th></th>\n",
       "      <th></th>\n",
       "      <th></th>\n",
       "      <th></th>\n",
       "      <th></th>\n",
       "      <th></th>\n",
       "      <th></th>\n",
       "      <th></th>\n",
       "      <th></th>\n",
       "      <th></th>\n",
       "      <th></th>\n",
       "      <th></th>\n",
       "      <th></th>\n",
       "    </tr>\n",
       "  </thead>\n",
       "  <tbody>\n",
       "    <tr>\n",
       "      <th>U1001</th>\n",
       "      <td>0.0</td>\n",
       "      <td>0</td>\n",
       "      <td>0.0</td>\n",
       "      <td>0.0</td>\n",
       "      <td>0.0</td>\n",
       "      <td>0.000000</td>\n",
       "      <td>0.0</td>\n",
       "      <td>0</td>\n",
       "      <td>0.0</td>\n",
       "      <td>0</td>\n",
       "      <td>...</td>\n",
       "      <td>0.0</td>\n",
       "      <td>0</td>\n",
       "      <td>0.0</td>\n",
       "      <td>0.0</td>\n",
       "      <td>0.0</td>\n",
       "      <td>0</td>\n",
       "      <td>0</td>\n",
       "      <td>0.0</td>\n",
       "      <td>0</td>\n",
       "      <td>0.0</td>\n",
       "    </tr>\n",
       "    <tr>\n",
       "      <th>U1002</th>\n",
       "      <td>0.0</td>\n",
       "      <td>0</td>\n",
       "      <td>0.0</td>\n",
       "      <td>0.0</td>\n",
       "      <td>0.0</td>\n",
       "      <td>1.571429</td>\n",
       "      <td>0.0</td>\n",
       "      <td>0</td>\n",
       "      <td>0.0</td>\n",
       "      <td>0</td>\n",
       "      <td>...</td>\n",
       "      <td>0.0</td>\n",
       "      <td>0</td>\n",
       "      <td>0.0</td>\n",
       "      <td>0.0</td>\n",
       "      <td>0.0</td>\n",
       "      <td>0</td>\n",
       "      <td>0</td>\n",
       "      <td>0.0</td>\n",
       "      <td>0</td>\n",
       "      <td>0.0</td>\n",
       "    </tr>\n",
       "    <tr>\n",
       "      <th>U1003</th>\n",
       "      <td>0.0</td>\n",
       "      <td>0</td>\n",
       "      <td>0.0</td>\n",
       "      <td>1.5</td>\n",
       "      <td>0.0</td>\n",
       "      <td>0.000000</td>\n",
       "      <td>0.0</td>\n",
       "      <td>0</td>\n",
       "      <td>0.0</td>\n",
       "      <td>0</td>\n",
       "      <td>...</td>\n",
       "      <td>0.0</td>\n",
       "      <td>0</td>\n",
       "      <td>0.0</td>\n",
       "      <td>0.0</td>\n",
       "      <td>0.0</td>\n",
       "      <td>0</td>\n",
       "      <td>0</td>\n",
       "      <td>2.0</td>\n",
       "      <td>0</td>\n",
       "      <td>0.0</td>\n",
       "    </tr>\n",
       "    <tr>\n",
       "      <th>U1004</th>\n",
       "      <td>0.0</td>\n",
       "      <td>0</td>\n",
       "      <td>0.0</td>\n",
       "      <td>0.0</td>\n",
       "      <td>0.0</td>\n",
       "      <td>0.000000</td>\n",
       "      <td>0.0</td>\n",
       "      <td>0</td>\n",
       "      <td>0.0</td>\n",
       "      <td>0</td>\n",
       "      <td>...</td>\n",
       "      <td>0.0</td>\n",
       "      <td>0</td>\n",
       "      <td>0.0</td>\n",
       "      <td>0.0</td>\n",
       "      <td>0.0</td>\n",
       "      <td>0</td>\n",
       "      <td>0</td>\n",
       "      <td>0.0</td>\n",
       "      <td>0</td>\n",
       "      <td>0.0</td>\n",
       "    </tr>\n",
       "    <tr>\n",
       "      <th>U1005</th>\n",
       "      <td>0.0</td>\n",
       "      <td>0</td>\n",
       "      <td>0.0</td>\n",
       "      <td>0.0</td>\n",
       "      <td>0.0</td>\n",
       "      <td>0.000000</td>\n",
       "      <td>0.0</td>\n",
       "      <td>0</td>\n",
       "      <td>0.0</td>\n",
       "      <td>0</td>\n",
       "      <td>...</td>\n",
       "      <td>0.0</td>\n",
       "      <td>0</td>\n",
       "      <td>0.0</td>\n",
       "      <td>0.0</td>\n",
       "      <td>0.0</td>\n",
       "      <td>0</td>\n",
       "      <td>0</td>\n",
       "      <td>0.0</td>\n",
       "      <td>0</td>\n",
       "      <td>0.0</td>\n",
       "    </tr>\n",
       "    <tr>\n",
       "      <th>U1006</th>\n",
       "      <td>0.0</td>\n",
       "      <td>0</td>\n",
       "      <td>1.0</td>\n",
       "      <td>0.0</td>\n",
       "      <td>0.0</td>\n",
       "      <td>0.000000</td>\n",
       "      <td>0.0</td>\n",
       "      <td>0</td>\n",
       "      <td>0.0</td>\n",
       "      <td>0</td>\n",
       "      <td>...</td>\n",
       "      <td>0.0</td>\n",
       "      <td>0</td>\n",
       "      <td>0.0</td>\n",
       "      <td>0.0</td>\n",
       "      <td>0.0</td>\n",
       "      <td>0</td>\n",
       "      <td>0</td>\n",
       "      <td>0.0</td>\n",
       "      <td>0</td>\n",
       "      <td>0.0</td>\n",
       "    </tr>\n",
       "    <tr>\n",
       "      <th>U1007</th>\n",
       "      <td>0.0</td>\n",
       "      <td>0</td>\n",
       "      <td>0.0</td>\n",
       "      <td>0.0</td>\n",
       "      <td>0.0</td>\n",
       "      <td>0.000000</td>\n",
       "      <td>0.0</td>\n",
       "      <td>0</td>\n",
       "      <td>0.0</td>\n",
       "      <td>0</td>\n",
       "      <td>...</td>\n",
       "      <td>0.0</td>\n",
       "      <td>0</td>\n",
       "      <td>0.0</td>\n",
       "      <td>0.0</td>\n",
       "      <td>0.0</td>\n",
       "      <td>0</td>\n",
       "      <td>0</td>\n",
       "      <td>0.0</td>\n",
       "      <td>0</td>\n",
       "      <td>0.0</td>\n",
       "    </tr>\n",
       "    <tr>\n",
       "      <th>U1008</th>\n",
       "      <td>0.0</td>\n",
       "      <td>0</td>\n",
       "      <td>0.0</td>\n",
       "      <td>0.0</td>\n",
       "      <td>0.0</td>\n",
       "      <td>0.000000</td>\n",
       "      <td>0.0</td>\n",
       "      <td>0</td>\n",
       "      <td>0.0</td>\n",
       "      <td>0</td>\n",
       "      <td>...</td>\n",
       "      <td>0.0</td>\n",
       "      <td>0</td>\n",
       "      <td>0.0</td>\n",
       "      <td>0.0</td>\n",
       "      <td>0.0</td>\n",
       "      <td>0</td>\n",
       "      <td>0</td>\n",
       "      <td>0.0</td>\n",
       "      <td>0</td>\n",
       "      <td>0.0</td>\n",
       "    </tr>\n",
       "    <tr>\n",
       "      <th>U1009</th>\n",
       "      <td>0.0</td>\n",
       "      <td>0</td>\n",
       "      <td>0.0</td>\n",
       "      <td>0.0</td>\n",
       "      <td>0.0</td>\n",
       "      <td>0.000000</td>\n",
       "      <td>0.0</td>\n",
       "      <td>0</td>\n",
       "      <td>0.0</td>\n",
       "      <td>0</td>\n",
       "      <td>...</td>\n",
       "      <td>0.0</td>\n",
       "      <td>0</td>\n",
       "      <td>0.0</td>\n",
       "      <td>0.0</td>\n",
       "      <td>0.0</td>\n",
       "      <td>0</td>\n",
       "      <td>0</td>\n",
       "      <td>0.0</td>\n",
       "      <td>0</td>\n",
       "      <td>0.0</td>\n",
       "    </tr>\n",
       "    <tr>\n",
       "      <th>U1010</th>\n",
       "      <td>0.0</td>\n",
       "      <td>0</td>\n",
       "      <td>0.0</td>\n",
       "      <td>0.0</td>\n",
       "      <td>0.0</td>\n",
       "      <td>0.000000</td>\n",
       "      <td>0.0</td>\n",
       "      <td>0</td>\n",
       "      <td>0.0</td>\n",
       "      <td>0</td>\n",
       "      <td>...</td>\n",
       "      <td>0.0</td>\n",
       "      <td>0</td>\n",
       "      <td>0.0</td>\n",
       "      <td>0.0</td>\n",
       "      <td>0.0</td>\n",
       "      <td>0</td>\n",
       "      <td>0</td>\n",
       "      <td>0.0</td>\n",
       "      <td>0</td>\n",
       "      <td>0.0</td>\n",
       "    </tr>\n",
       "  </tbody>\n",
       "</table>\n",
       "<p>10 rows × 129 columns</p>\n",
       "</div>"
      ],
      "text/plain": [
       "names  Abondance Restaurante Bar  Arrachela Grill  Cabana Huasteca  \\\n",
       "users                                                                \n",
       "U1001                        0.0                0              0.0   \n",
       "U1002                        0.0                0              0.0   \n",
       "U1003                        0.0                0              0.0   \n",
       "U1004                        0.0                0              0.0   \n",
       "U1005                        0.0                0              0.0   \n",
       "U1006                        0.0                0              1.0   \n",
       "U1007                        0.0                0              0.0   \n",
       "U1008                        0.0                0              0.0   \n",
       "U1009                        0.0                0              0.0   \n",
       "U1010                        0.0                0              0.0   \n",
       "\n",
       "names  Cafe Chaires  Cafeteria cenidet  Cafeteria y Restaurant El Pacifico  \\\n",
       "users                                                                        \n",
       "U1001           0.0                0.0                            0.000000   \n",
       "U1002           0.0                0.0                            1.571429   \n",
       "U1003           1.5                0.0                            0.000000   \n",
       "U1004           0.0                0.0                            0.000000   \n",
       "U1005           0.0                0.0                            0.000000   \n",
       "U1006           0.0                0.0                            0.000000   \n",
       "U1007           0.0                0.0                            0.000000   \n",
       "U1008           0.0                0.0                            0.000000   \n",
       "U1009           0.0                0.0                            0.000000   \n",
       "U1010           0.0                0.0                            0.000000   \n",
       "\n",
       "names  Carls Jr  Carnitas Mata  Calle 16 de Septiembre  \\\n",
       "users                                                    \n",
       "U1001       0.0                                      0   \n",
       "U1002       0.0                                      0   \n",
       "U1003       0.0                                      0   \n",
       "U1004       0.0                                      0   \n",
       "U1005       0.0                                      0   \n",
       "U1006       0.0                                      0   \n",
       "U1007       0.0                                      0   \n",
       "U1008       0.0                                      0   \n",
       "U1009       0.0                                      0   \n",
       "U1010       0.0                                      0   \n",
       "\n",
       "names  Carreton de Flautas y Migadas  Cenaduria El RincÃ³n de Tlaquepaque  \\\n",
       "users                                                                       \n",
       "U1001                            0.0                                    0   \n",
       "U1002                            0.0                                    0   \n",
       "U1003                            0.0                                    0   \n",
       "U1004                            0.0                                    0   \n",
       "U1005                            0.0                                    0   \n",
       "U1006                            0.0                                    0   \n",
       "U1007                            0.0                                    0   \n",
       "U1008                            0.0                                    0   \n",
       "U1009                            0.0                                    0   \n",
       "U1010                            0.0                                    0   \n",
       "\n",
       "names  ...  puesto de tacos  rockabilly   shi ro ie  sirloin stockade  \\\n",
       "users  ...                                                              \n",
       "U1001  ...              0.0            0        0.0               0.0   \n",
       "U1002  ...              0.0            0        0.0               0.0   \n",
       "U1003  ...              0.0            0        0.0               0.0   \n",
       "U1004  ...              0.0            0        0.0               0.0   \n",
       "U1005  ...              0.0            0        0.0               0.0   \n",
       "U1006  ...              0.0            0        0.0               0.0   \n",
       "U1007  ...              0.0            0        0.0               0.0   \n",
       "U1008  ...              0.0            0        0.0               0.0   \n",
       "U1009  ...              0.0            0        0.0               0.0   \n",
       "U1010  ...              0.0            0        0.0               0.0   \n",
       "\n",
       "names  tacos abi  tacos de barbacoa enfrente del Tec  tacos de la estacion  \\\n",
       "users                                                                        \n",
       "U1001        0.0                                   0                     0   \n",
       "U1002        0.0                                   0                     0   \n",
       "U1003        0.0                                   0                     0   \n",
       "U1004        0.0                                   0                     0   \n",
       "U1005        0.0                                   0                     0   \n",
       "U1006        0.0                                   0                     0   \n",
       "U1007        0.0                                   0                     0   \n",
       "U1008        0.0                                   0                     0   \n",
       "U1009        0.0                                   0                     0   \n",
       "U1010        0.0                                   0                     0   \n",
       "\n",
       "names  tacos los volcanes  tortas hawai  vips  \n",
       "users                                          \n",
       "U1001                 0.0             0   0.0  \n",
       "U1002                 0.0             0   0.0  \n",
       "U1003                 2.0             0   0.0  \n",
       "U1004                 0.0             0   0.0  \n",
       "U1005                 0.0             0   0.0  \n",
       "U1006                 0.0             0   0.0  \n",
       "U1007                 0.0             0   0.0  \n",
       "U1008                 0.0             0   0.0  \n",
       "U1009                 0.0             0   0.0  \n",
       "U1010                 0.0             0   0.0  \n",
       "\n",
       "[10 rows x 129 columns]"
      ]
     },
     "execution_count": 104,
     "metadata": {},
     "output_type": "execute_result"
    }
   ],
   "source": [
    "# getting utility matrix using SVD \n",
    "UtMx = df.pivot_table(index='users', columns='names', values='food_rating', fill_value=0)\n",
    "UtMx.head(10)"
   ]
  },
  {
   "cell_type": "code",
   "execution_count": 105,
   "metadata": {
    "id": "GOydw5OGC1MJ"
   },
   "outputs": [
    {
     "data": {
      "text/plain": [
       "(138, 129)"
      ]
     },
     "execution_count": 105,
     "metadata": {},
     "output_type": "execute_result"
    }
   ],
   "source": [
    "UtMx.shape"
   ]
  },
  {
   "cell_type": "code",
   "execution_count": 106,
   "metadata": {},
   "outputs": [
    {
     "data": {
      "text/plain": [
       "(129, 138)"
      ]
     },
     "execution_count": 106,
     "metadata": {},
     "output_type": "execute_result"
    }
   ],
   "source": [
    "X=UtMx.T\n",
    "X.shape"
   ]
  },
  {
   "cell_type": "code",
   "execution_count": 107,
   "metadata": {},
   "outputs": [
    {
     "data": {
      "text/plain": [
       "(129, 129)"
      ]
     },
     "execution_count": 107,
     "metadata": {},
     "output_type": "execute_result"
    }
   ],
   "source": [
    "# SVD\n",
    "SVD = TruncatedSVD(n_components=137, random_state=7)\n",
    "result = SVD.fit_transform(X)\n",
    "result.shape"
   ]
  },
  {
   "cell_type": "code",
   "execution_count": 108,
   "metadata": {},
   "outputs": [
    {
     "data": {
      "text/html": [
       "<div>\n",
       "<style scoped>\n",
       "    .dataframe tbody tr th:only-of-type {\n",
       "        vertical-align: middle;\n",
       "    }\n",
       "\n",
       "    .dataframe tbody tr th {\n",
       "        vertical-align: top;\n",
       "    }\n",
       "\n",
       "    .dataframe thead th {\n",
       "        text-align: right;\n",
       "    }\n",
       "</style>\n",
       "<table border=\"1\" class=\"dataframe\">\n",
       "  <thead>\n",
       "    <tr style=\"text-align: right;\">\n",
       "      <th></th>\n",
       "      <th>0</th>\n",
       "      <th>1</th>\n",
       "      <th>2</th>\n",
       "      <th>3</th>\n",
       "      <th>4</th>\n",
       "      <th>5</th>\n",
       "      <th>6</th>\n",
       "      <th>7</th>\n",
       "      <th>8</th>\n",
       "      <th>9</th>\n",
       "      <th>...</th>\n",
       "      <th>119</th>\n",
       "      <th>120</th>\n",
       "      <th>121</th>\n",
       "      <th>122</th>\n",
       "      <th>123</th>\n",
       "      <th>124</th>\n",
       "      <th>125</th>\n",
       "      <th>126</th>\n",
       "      <th>127</th>\n",
       "      <th>128</th>\n",
       "    </tr>\n",
       "    <tr>\n",
       "      <th>names</th>\n",
       "      <th></th>\n",
       "      <th></th>\n",
       "      <th></th>\n",
       "      <th></th>\n",
       "      <th></th>\n",
       "      <th></th>\n",
       "      <th></th>\n",
       "      <th></th>\n",
       "      <th></th>\n",
       "      <th></th>\n",
       "      <th></th>\n",
       "      <th></th>\n",
       "      <th></th>\n",
       "      <th></th>\n",
       "      <th></th>\n",
       "      <th></th>\n",
       "      <th></th>\n",
       "      <th></th>\n",
       "      <th></th>\n",
       "      <th></th>\n",
       "      <th></th>\n",
       "    </tr>\n",
       "  </thead>\n",
       "  <tbody>\n",
       "    <tr>\n",
       "      <th>Abondance Restaurante Bar</th>\n",
       "      <td>1.422166e-16</td>\n",
       "      <td>-1.766348e-16</td>\n",
       "      <td>-3.731299e-16</td>\n",
       "      <td>-3.050232e-16</td>\n",
       "      <td>5.162869e-16</td>\n",
       "      <td>5.920111e-17</td>\n",
       "      <td>-2.162009e-16</td>\n",
       "      <td>-8.672837e-17</td>\n",
       "      <td>2.706566e-16</td>\n",
       "      <td>-7.599888e-16</td>\n",
       "      <td>...</td>\n",
       "      <td>6.938894e-18</td>\n",
       "      <td>-5.551115e-17</td>\n",
       "      <td>-1.387779e-17</td>\n",
       "      <td>1.387779e-17</td>\n",
       "      <td>-2.081668e-17</td>\n",
       "      <td>-6.938894e-18</td>\n",
       "      <td>-1.734723e-17</td>\n",
       "      <td>2.775558e-17</td>\n",
       "      <td>-7.703720e-34</td>\n",
       "      <td>-1.387779e-17</td>\n",
       "    </tr>\n",
       "    <tr>\n",
       "      <th>Arrachela Grill</th>\n",
       "      <td>4.356184e-03</td>\n",
       "      <td>-1.962324e-03</td>\n",
       "      <td>3.191575e-02</td>\n",
       "      <td>2.955450e-02</td>\n",
       "      <td>-1.911935e-05</td>\n",
       "      <td>4.975730e-05</td>\n",
       "      <td>3.105977e-02</td>\n",
       "      <td>3.059644e-03</td>\n",
       "      <td>-1.932894e-03</td>\n",
       "      <td>1.617761e-02</td>\n",
       "      <td>...</td>\n",
       "      <td>-7.731076e-25</td>\n",
       "      <td>1.796079e-23</td>\n",
       "      <td>-6.135986e-24</td>\n",
       "      <td>-3.296601e-24</td>\n",
       "      <td>1.315068e-23</td>\n",
       "      <td>6.339124e-24</td>\n",
       "      <td>-1.086095e-23</td>\n",
       "      <td>3.508661e-24</td>\n",
       "      <td>6.719869e-30</td>\n",
       "      <td>-5.425870e-17</td>\n",
       "    </tr>\n",
       "    <tr>\n",
       "      <th>Cabana Huasteca</th>\n",
       "      <td>1.469613e-02</td>\n",
       "      <td>-3.687838e-03</td>\n",
       "      <td>-5.336589e-03</td>\n",
       "      <td>-2.183872e-02</td>\n",
       "      <td>1.527005e-05</td>\n",
       "      <td>2.969554e-03</td>\n",
       "      <td>-4.713000e-04</td>\n",
       "      <td>3.757643e-04</td>\n",
       "      <td>-3.258289e-03</td>\n",
       "      <td>3.238584e-02</td>\n",
       "      <td>...</td>\n",
       "      <td>-1.214306e-17</td>\n",
       "      <td>6.938894e-18</td>\n",
       "      <td>-6.938894e-18</td>\n",
       "      <td>3.469447e-18</td>\n",
       "      <td>4.163336e-17</td>\n",
       "      <td>-6.938894e-18</td>\n",
       "      <td>-6.938894e-18</td>\n",
       "      <td>4.336809e-19</td>\n",
       "      <td>1.473375e-29</td>\n",
       "      <td>1.491862e-16</td>\n",
       "    </tr>\n",
       "    <tr>\n",
       "      <th>Cafe Chaires</th>\n",
       "      <td>7.169961e-01</td>\n",
       "      <td>-3.313638e-01</td>\n",
       "      <td>6.586748e-01</td>\n",
       "      <td>1.122478e-01</td>\n",
       "      <td>-5.173801e-05</td>\n",
       "      <td>1.355701e-02</td>\n",
       "      <td>-7.666534e-03</td>\n",
       "      <td>-1.484314e-02</td>\n",
       "      <td>-1.020942e-02</td>\n",
       "      <td>9.232547e-02</td>\n",
       "      <td>...</td>\n",
       "      <td>6.457880e-24</td>\n",
       "      <td>-4.389001e-24</td>\n",
       "      <td>-2.943026e-24</td>\n",
       "      <td>3.823783e-24</td>\n",
       "      <td>-1.354949e-23</td>\n",
       "      <td>1.347719e-23</td>\n",
       "      <td>-1.309464e-23</td>\n",
       "      <td>-2.694636e-25</td>\n",
       "      <td>3.112800e-29</td>\n",
       "      <td>-4.978104e-16</td>\n",
       "    </tr>\n",
       "    <tr>\n",
       "      <th>Cafeteria cenidet</th>\n",
       "      <td>1.274304e-01</td>\n",
       "      <td>2.225535e-02</td>\n",
       "      <td>3.397300e-01</td>\n",
       "      <td>2.149691e-01</td>\n",
       "      <td>-1.333624e-04</td>\n",
       "      <td>-1.081254e-02</td>\n",
       "      <td>-2.538654e-03</td>\n",
       "      <td>-3.687456e-03</td>\n",
       "      <td>6.549870e-03</td>\n",
       "      <td>-7.005429e-02</td>\n",
       "      <td>...</td>\n",
       "      <td>-6.099326e-24</td>\n",
       "      <td>1.126350e-23</td>\n",
       "      <td>-4.293044e-25</td>\n",
       "      <td>-4.693260e-24</td>\n",
       "      <td>1.924751e-23</td>\n",
       "      <td>-5.596679e-24</td>\n",
       "      <td>3.098843e-24</td>\n",
       "      <td>2.224243e-24</td>\n",
       "      <td>-2.718071e-30</td>\n",
       "      <td>8.561965e-17</td>\n",
       "    </tr>\n",
       "  </tbody>\n",
       "</table>\n",
       "<p>5 rows × 129 columns</p>\n",
       "</div>"
      ],
      "text/plain": [
       "                                    0             1             2    \\\n",
       "names                                                                 \n",
       "Abondance Restaurante Bar  1.422166e-16 -1.766348e-16 -3.731299e-16   \n",
       "Arrachela Grill            4.356184e-03 -1.962324e-03  3.191575e-02   \n",
       "Cabana Huasteca            1.469613e-02 -3.687838e-03 -5.336589e-03   \n",
       "Cafe Chaires               7.169961e-01 -3.313638e-01  6.586748e-01   \n",
       "Cafeteria cenidet          1.274304e-01  2.225535e-02  3.397300e-01   \n",
       "\n",
       "                                    3             4             5    \\\n",
       "names                                                                 \n",
       "Abondance Restaurante Bar -3.050232e-16  5.162869e-16  5.920111e-17   \n",
       "Arrachela Grill            2.955450e-02 -1.911935e-05  4.975730e-05   \n",
       "Cabana Huasteca           -2.183872e-02  1.527005e-05  2.969554e-03   \n",
       "Cafe Chaires               1.122478e-01 -5.173801e-05  1.355701e-02   \n",
       "Cafeteria cenidet          2.149691e-01 -1.333624e-04 -1.081254e-02   \n",
       "\n",
       "                                    6             7             8    \\\n",
       "names                                                                 \n",
       "Abondance Restaurante Bar -2.162009e-16 -8.672837e-17  2.706566e-16   \n",
       "Arrachela Grill            3.105977e-02  3.059644e-03 -1.932894e-03   \n",
       "Cabana Huasteca           -4.713000e-04  3.757643e-04 -3.258289e-03   \n",
       "Cafe Chaires              -7.666534e-03 -1.484314e-02 -1.020942e-02   \n",
       "Cafeteria cenidet         -2.538654e-03 -3.687456e-03  6.549870e-03   \n",
       "\n",
       "                                    9    ...           119           120  \\\n",
       "names                                    ...                               \n",
       "Abondance Restaurante Bar -7.599888e-16  ...  6.938894e-18 -5.551115e-17   \n",
       "Arrachela Grill            1.617761e-02  ... -7.731076e-25  1.796079e-23   \n",
       "Cabana Huasteca            3.238584e-02  ... -1.214306e-17  6.938894e-18   \n",
       "Cafe Chaires               9.232547e-02  ...  6.457880e-24 -4.389001e-24   \n",
       "Cafeteria cenidet         -7.005429e-02  ... -6.099326e-24  1.126350e-23   \n",
       "\n",
       "                                    121           122           123  \\\n",
       "names                                                                 \n",
       "Abondance Restaurante Bar -1.387779e-17  1.387779e-17 -2.081668e-17   \n",
       "Arrachela Grill           -6.135986e-24 -3.296601e-24  1.315068e-23   \n",
       "Cabana Huasteca           -6.938894e-18  3.469447e-18  4.163336e-17   \n",
       "Cafe Chaires              -2.943026e-24  3.823783e-24 -1.354949e-23   \n",
       "Cafeteria cenidet         -4.293044e-25 -4.693260e-24  1.924751e-23   \n",
       "\n",
       "                                    124           125           126  \\\n",
       "names                                                                 \n",
       "Abondance Restaurante Bar -6.938894e-18 -1.734723e-17  2.775558e-17   \n",
       "Arrachela Grill            6.339124e-24 -1.086095e-23  3.508661e-24   \n",
       "Cabana Huasteca           -6.938894e-18 -6.938894e-18  4.336809e-19   \n",
       "Cafe Chaires               1.347719e-23 -1.309464e-23 -2.694636e-25   \n",
       "Cafeteria cenidet         -5.596679e-24  3.098843e-24  2.224243e-24   \n",
       "\n",
       "                                    127           128  \n",
       "names                                                  \n",
       "Abondance Restaurante Bar -7.703720e-34 -1.387779e-17  \n",
       "Arrachela Grill            6.719869e-30 -5.425870e-17  \n",
       "Cabana Huasteca            1.473375e-29  1.491862e-16  \n",
       "Cafe Chaires               3.112800e-29 -4.978104e-16  \n",
       "Cafeteria cenidet         -2.718071e-30  8.561965e-17  \n",
       "\n",
       "[5 rows x 129 columns]"
      ]
     },
     "execution_count": 108,
     "metadata": {},
     "output_type": "execute_result"
    }
   ],
   "source": [
    "# saving results into a dataframe\n",
    "componentes = pd.DataFrame(result, index=X.index)\n",
    "componentes.head()"
   ]
  },
  {
   "cell_type": "code",
   "execution_count": 109,
   "metadata": {},
   "outputs": [
    {
     "name": "stdout",
     "output_type": "stream",
     "text": [
      "[[ 1.42216636e-16 -1.76634823e-16 -3.73129875e-16 ...  2.77555756e-17\n",
      "  -7.70371978e-34 -1.38777878e-17]\n",
      " [ 4.35618360e-03 -1.96232427e-03  3.19157455e-02 ...  3.50866146e-24\n",
      "   6.71986907e-30 -5.42586968e-17]\n",
      " [ 1.46961345e-02 -3.68783757e-03 -5.33658867e-03 ...  4.33680869e-19\n",
      "   1.47337493e-29  1.49186219e-16]\n",
      " ...\n",
      " [ 1.04597649e+00 -4.89791413e-01  1.02941383e+00 ...  1.28284879e-24\n",
      "  -1.98011170e-29  1.76885235e-16]\n",
      " [ 3.00771079e-02 -9.04745450e-03 -1.66968380e-01 ... -2.05167992e-25\n",
      "   4.15476782e-29 -2.07673678e-16]\n",
      " [ 8.82267436e-03 -3.98066591e-03  6.51438469e-02 ...  1.49152177e-24\n",
      "  -1.66193309e-29 -2.04201915e-17]]\n"
     ]
    }
   ],
   "source": [
    "# Valores singulares\n",
    "print(result)"
   ]
  },
  {
   "cell_type": "markdown",
   "metadata": {
    "id": "NCunuooTC2W3"
   },
   "source": [
    "#**Ejercicio-3.**"
   ]
  },
  {
   "cell_type": "code",
   "execution_count": 110,
   "metadata": {
    "id": "YXlcSWA-C4Dj"
   },
   "outputs": [
    {
     "name": "stderr",
     "output_type": "stream",
     "text": [
      "/Users/dmeneses/opt/anaconda3/lib/python3.9/site-packages/numpy/lib/function_base.py:2691: RuntimeWarning: invalid value encountered in true_divide\n",
      "  c /= stddev[:, None]\n",
      "/Users/dmeneses/opt/anaconda3/lib/python3.9/site-packages/numpy/lib/function_base.py:2692: RuntimeWarning: invalid value encountered in true_divide\n",
      "  c /= stddev[None, :]\n"
     ]
    },
    {
     "data": {
      "text/plain": [
       "(129, 129)"
      ]
     },
     "execution_count": 110,
     "metadata": {},
     "output_type": "execute_result"
    }
   ],
   "source": [
    "# Pearon correlation\n",
    "corr = np.corrcoef(result)\n",
    "corr.shape\n"
   ]
  },
  {
   "cell_type": "code",
   "execution_count": 111,
   "metadata": {
    "id": "BKI80-YdC4HN"
   },
   "outputs": [
    {
     "data": {
      "text/plain": [
       "88"
      ]
     },
     "execution_count": 111,
     "metadata": {},
     "output_type": "execute_result"
    }
   ],
   "source": [
    "# getting the top 10 best recommendations for subway place\n",
    "names_restaurants = UtMx.columns\n",
    "names_restaurants_list = list(names_restaurants)\n",
    "subway = names_restaurants_list.index('Subway')\n",
    "subway"
   ]
  },
  {
   "cell_type": "markdown",
   "metadata": {},
   "source": [
    "Obteniendo los valores de  correlacion de Subway y los 10 restaurantes mas relacionados."
   ]
  },
  {
   "cell_type": "code",
   "execution_count": 112,
   "metadata": {},
   "outputs": [
    {
     "name": "stdout",
     "output_type": "stream",
     "text": [
      "  la Cochinita Pibil Restaurante Yucateco  -  nan\n",
      "  Restaurante la Cantina  -  nan\n",
      "  rockabilly   -  nan\n",
      "  La Cantina Restaurante  -  0.42999993411230725\n",
      "  Carls Jr  -  0.27228599915440604\n",
      "  Hamburguesas saul  -  0.26139034949621465\n",
      "  Restaurante Versalles  -  0.17637810328113696\n",
      "  la parroquia  -  0.13687898844240518\n",
      "  Luna Cafe  -  0.13511715765926172\n",
      "  Hamburguesas La perica  -  0.0110295872177046\n"
     ]
    }
   ],
   "source": [
    "# getting the correlation values for subway\n",
    "corr_subway = corr[subway]\n",
    "corr_subway.shape\n",
    "\n",
    "# getting the correlation values for subway and filtering nan values\n",
    "# corr_subway = corr_subway[~np.isnan(corr_subway)]\n",
    "corr_list = list(names_restaurants[(corr_subway<1.0)])\n",
    "corr_list_values=list()\n",
    "# printing the top 10 restaurants correlation values for subway and the other restaurants\n",
    "for i in corr_subway.argsort()[::-1][:11]:\n",
    "    if i == subway:\n",
    "        continue\n",
    "    print('  %s' % names_restaurants_list[i], ' - ', corr_subway[i])\n",
    "\n"
   ]
  },
  {
   "cell_type": "code",
   "execution_count": null,
   "metadata": {},
   "outputs": [],
   "source": []
  },
  {
   "cell_type": "markdown",
   "metadata": {
    "id": "chqk9jIDC5Pq"
   },
   "source": [
    "#**Ejercicio-4.**"
   ]
  },
  {
   "cell_type": "code",
   "execution_count": 113,
   "metadata": {
    "id": "RBVSFwK4C6g9"
   },
   "outputs": [],
   "source": [
    "None"
   ]
  },
  {
   "cell_type": "code",
   "execution_count": null,
   "metadata": {
    "id": "7KXnlNzAC69Y"
   },
   "outputs": [],
   "source": []
  },
  {
   "cell_type": "markdown",
   "metadata": {
    "id": "Rv7KFq-mC7PS"
   },
   "source": [
    "#**Ejercicio-5.**"
   ]
  },
  {
   "cell_type": "code",
   "execution_count": 114,
   "metadata": {
    "id": "jaDj3kawC9B6"
   },
   "outputs": [],
   "source": [
    "None"
   ]
  },
  {
   "cell_type": "code",
   "execution_count": null,
   "metadata": {
    "id": "4tQxQROVC9Us"
   },
   "outputs": [],
   "source": []
  },
  {
   "cell_type": "markdown",
   "metadata": {
    "id": "W2S7LI0NC9wE"
   },
   "source": [
    "#**Ejercicio-6.**"
   ]
  },
  {
   "cell_type": "code",
   "execution_count": 115,
   "metadata": {
    "id": "x6uBleJUC_AU"
   },
   "outputs": [],
   "source": [
    "None"
   ]
  },
  {
   "cell_type": "code",
   "execution_count": null,
   "metadata": {
    "id": "n0P_AcyjC_Dh"
   },
   "outputs": [],
   "source": []
  },
  {
   "cell_type": "markdown",
   "metadata": {
    "id": "lUvqUSV5cd-Z"
   },
   "source": [
    "#**Ejercicio-7.**"
   ]
  },
  {
   "cell_type": "code",
   "execution_count": 116,
   "metadata": {
    "id": "TmXidIqtci7D"
   },
   "outputs": [],
   "source": [
    "None"
   ]
  },
  {
   "cell_type": "code",
   "execution_count": null,
   "metadata": {
    "id": "gtaf5rUfcjgX"
   },
   "outputs": [],
   "source": []
  },
  {
   "cell_type": "markdown",
   "metadata": {
    "id": "9h9eDt6fcmBN"
   },
   "source": [
    "#**Ejercicio-8.**"
   ]
  },
  {
   "cell_type": "code",
   "execution_count": 117,
   "metadata": {
    "id": "pPkwyHHMcrk0"
   },
   "outputs": [],
   "source": [
    "None"
   ]
  },
  {
   "cell_type": "code",
   "execution_count": null,
   "metadata": {
    "id": "H5Tc3QpEcrfo"
   },
   "outputs": [],
   "source": []
  },
  {
   "cell_type": "markdown",
   "metadata": {
    "id": "7ql_r2G-DB_m"
   },
   "source": [
    "###**Fin de la Actividad de la semana 10 - Sistemas de Recomendación y Reducción de Dimensionalidad con SVD.**"
   ]
  }
 ],
 "metadata": {
  "colab": {
   "collapsed_sections": [],
   "provenance": []
  },
  "kernelspec": {
   "display_name": "Python 3.9.13 ('base')",
   "language": "python",
   "name": "python3"
  },
  "language_info": {
   "codemirror_mode": {
    "name": "ipython",
    "version": 3
   },
   "file_extension": ".py",
   "mimetype": "text/x-python",
   "name": "python",
   "nbconvert_exporter": "python",
   "pygments_lexer": "ipython3",
   "version": "3.9.13"
  },
  "vscode": {
   "interpreter": {
    "hash": "c80dfec55d3a835118a35308426821e2e42521e31601159ea49a55eb05e62fdb"
   }
  }
 },
 "nbformat": 4,
 "nbformat_minor": 0
}
