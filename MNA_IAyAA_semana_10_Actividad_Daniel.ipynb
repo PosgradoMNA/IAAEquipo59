{
 "cells": [
  {
   "cell_type": "markdown",
   "metadata": {
    "id": "VFj0sSM06dYa"
   },
   "source": [
    "#**Maestría en Inteligencia Artificial Aplicada**\n",
    "##**Curso: Inteligencia Artificial y Aprendizaje Automático**\n",
    "###Tecnológico de Monterrey\n",
    "###Prof Luis Eduardo Falcón Morales\n",
    "\n",
    "## **Adtividad de la Semana 10**\n",
    "###**Reducción de Dimensionalidad - Descomposición en Valores Singulares (SVD) y Sistemas de Recomendación**\n"
   ]
  },
  {
   "cell_type": "markdown",
   "metadata": {
    "id": "Qgrvy0RGB9XI"
   },
   "source": [
    "**Nombres y matrículas de los integrantes del equipo:**\n",
    "\n",
    "*   Elber Aguilar Pérez - A01793568\n",
    "*   José Francisco Muñoz Del Angel - A01794174\n",
    "*   Daniel Roberto Meneses Leon - A01794274\n",
    "*   \n",
    "*   \n"
   ]
  },
  {
   "cell_type": "markdown",
   "metadata": {
    "id": "FrJ2ahMODVj1"
   },
   "source": [
    "En cada sección deberás incluir todas las líneas de código necesarias para responder a cada uno de los ejercicios."
   ]
  },
  {
   "cell_type": "code",
   "execution_count": 190,
   "metadata": {
    "id": "exXsscs-Dh-2"
   },
   "outputs": [],
   "source": [
    "# Incluye aquí todos módulos, librerías y paquetes que requieras.\n",
    "import pandas as pd\n",
    "import numpy as np\n",
    "import matplotlib.pyplot as plt\n",
    "\n",
    "from sklearn.decomposition import TruncatedSVD"
   ]
  },
  {
   "cell_type": "markdown",
   "metadata": {
    "id": "X25brD-gQdZM"
   },
   "source": [
    "#**Ejercicio-1.** "
   ]
  },
  {
   "cell_type": "code",
   "execution_count": 191,
   "metadata": {
    "id": "3nU2GuWYCy6C"
   },
   "outputs": [
    {
     "name": "stdout",
     "output_type": "stream",
     "text": [
      "ratings:  (1161, 3)\n"
     ]
    },
    {
     "data": {
      "text/html": [
       "<div>\n",
       "<style scoped>\n",
       "    .dataframe tbody tr th:only-of-type {\n",
       "        vertical-align: middle;\n",
       "    }\n",
       "\n",
       "    .dataframe tbody tr th {\n",
       "        vertical-align: top;\n",
       "    }\n",
       "\n",
       "    .dataframe thead th {\n",
       "        text-align: right;\n",
       "    }\n",
       "</style>\n",
       "<table border=\"1\" class=\"dataframe\">\n",
       "  <thead>\n",
       "    <tr style=\"text-align: right;\">\n",
       "      <th></th>\n",
       "      <th>userID</th>\n",
       "      <th>placeID</th>\n",
       "      <th>rating</th>\n",
       "    </tr>\n",
       "  </thead>\n",
       "  <tbody>\n",
       "    <tr>\n",
       "      <th>0</th>\n",
       "      <td>U1077</td>\n",
       "      <td>135085</td>\n",
       "      <td>2</td>\n",
       "    </tr>\n",
       "    <tr>\n",
       "      <th>1</th>\n",
       "      <td>U1077</td>\n",
       "      <td>135038</td>\n",
       "      <td>2</td>\n",
       "    </tr>\n",
       "    <tr>\n",
       "      <th>2</th>\n",
       "      <td>U1077</td>\n",
       "      <td>132825</td>\n",
       "      <td>2</td>\n",
       "    </tr>\n",
       "    <tr>\n",
       "      <th>3</th>\n",
       "      <td>U1077</td>\n",
       "      <td>135060</td>\n",
       "      <td>1</td>\n",
       "    </tr>\n",
       "    <tr>\n",
       "      <th>4</th>\n",
       "      <td>U1068</td>\n",
       "      <td>135104</td>\n",
       "      <td>1</td>\n",
       "    </tr>\n",
       "  </tbody>\n",
       "</table>\n",
       "</div>"
      ],
      "text/plain": [
       "  userID  placeID  rating\n",
       "0  U1077   135085       2\n",
       "1  U1077   135038       2\n",
       "2  U1077   132825       2\n",
       "3  U1077   135060       1\n",
       "4  U1068   135104       1"
      ]
     },
     "execution_count": 191,
     "metadata": {},
     "output_type": "execute_result"
    }
   ],
   "source": [
    "ratings_url=\"https://raw.githubusercontent.com/PosgradoMNA/IAAEquipo59/main/rating_final.csv?token=GHSAT0AAAAAABW3GV3I5XETEVXZID5CG3D2Y34FGOQ\"\n",
    "geoplaces_url=\"https://raw.githubusercontent.com/PosgradoMNA/IAAEquipo59/main/geoplaces2.csv?token=GHSAT0AAAAAABW3GV3I5XETEVXZID5CG3D2Y34FGOQ\"\n",
    "df_ratings = pd.read_csv(ratings_url, usecols = [\"userID\", \"placeID\", \"rating\"], encoding=\"latin-1\")\n",
    "df_geoplaces = pd.read_csv(geoplaces_url, usecols = [\"placeID\", \"name\"], encoding=\"latin-1\")\n",
    "print('ratings: ', df_ratings.shape)\n",
    "df_ratings.head()\n"
   ]
  },
  {
   "cell_type": "code",
   "execution_count": 192,
   "metadata": {
    "collapsed": false
   },
   "outputs": [
    {
     "name": "stdout",
     "output_type": "stream",
     "text": [
      "geoplaces:  (130, 2)\n"
     ]
    },
    {
     "data": {
      "text/html": [
       "<div>\n",
       "<style scoped>\n",
       "    .dataframe tbody tr th:only-of-type {\n",
       "        vertical-align: middle;\n",
       "    }\n",
       "\n",
       "    .dataframe tbody tr th {\n",
       "        vertical-align: top;\n",
       "    }\n",
       "\n",
       "    .dataframe thead th {\n",
       "        text-align: right;\n",
       "    }\n",
       "</style>\n",
       "<table border=\"1\" class=\"dataframe\">\n",
       "  <thead>\n",
       "    <tr style=\"text-align: right;\">\n",
       "      <th></th>\n",
       "      <th>placeID</th>\n",
       "      <th>name</th>\n",
       "    </tr>\n",
       "  </thead>\n",
       "  <tbody>\n",
       "    <tr>\n",
       "      <th>0</th>\n",
       "      <td>134999</td>\n",
       "      <td>Kiku Cuernavaca</td>\n",
       "    </tr>\n",
       "    <tr>\n",
       "      <th>1</th>\n",
       "      <td>132825</td>\n",
       "      <td>puesto de tacos</td>\n",
       "    </tr>\n",
       "    <tr>\n",
       "      <th>2</th>\n",
       "      <td>135106</td>\n",
       "      <td>El Rincón de San Francisco</td>\n",
       "    </tr>\n",
       "    <tr>\n",
       "      <th>3</th>\n",
       "      <td>132667</td>\n",
       "      <td>little pizza Emilio Portes Gil</td>\n",
       "    </tr>\n",
       "    <tr>\n",
       "      <th>4</th>\n",
       "      <td>132613</td>\n",
       "      <td>carnitas_mata</td>\n",
       "    </tr>\n",
       "  </tbody>\n",
       "</table>\n",
       "</div>"
      ],
      "text/plain": [
       "   placeID                            name\n",
       "0   134999                 Kiku Cuernavaca\n",
       "1   132825                 puesto de tacos\n",
       "2   135106      El Rincón de San Francisco\n",
       "3   132667  little pizza Emilio Portes Gil\n",
       "4   132613                   carnitas_mata"
      ]
     },
     "execution_count": 192,
     "metadata": {},
     "output_type": "execute_result"
    }
   ],
   "source": [
    "print('geoplaces: ', df_geoplaces.shape)\n",
    "df_geoplaces.head()"
   ]
  },
  {
   "cell_type": "code",
   "execution_count": 193,
   "metadata": {
    "id": "0ulkqXVGCy97"
   },
   "outputs": [
    {
     "name": "stdout",
     "output_type": "stream",
     "text": [
      "(1161, 4)\n"
     ]
    },
    {
     "data": {
      "text/html": [
       "<div>\n",
       "<style scoped>\n",
       "    .dataframe tbody tr th:only-of-type {\n",
       "        vertical-align: middle;\n",
       "    }\n",
       "\n",
       "    .dataframe tbody tr th {\n",
       "        vertical-align: top;\n",
       "    }\n",
       "\n",
       "    .dataframe thead th {\n",
       "        text-align: right;\n",
       "    }\n",
       "</style>\n",
       "<table border=\"1\" class=\"dataframe\">\n",
       "  <thead>\n",
       "    <tr style=\"text-align: right;\">\n",
       "      <th></th>\n",
       "      <th>userID</th>\n",
       "      <th>placeID</th>\n",
       "      <th>rating</th>\n",
       "      <th>name</th>\n",
       "    </tr>\n",
       "  </thead>\n",
       "  <tbody>\n",
       "    <tr>\n",
       "      <th>0</th>\n",
       "      <td>U1077</td>\n",
       "      <td>135085</td>\n",
       "      <td>2</td>\n",
       "      <td>Tortas Locas Hipocampo</td>\n",
       "    </tr>\n",
       "    <tr>\n",
       "      <th>1</th>\n",
       "      <td>U1108</td>\n",
       "      <td>135085</td>\n",
       "      <td>1</td>\n",
       "      <td>Tortas Locas Hipocampo</td>\n",
       "    </tr>\n",
       "    <tr>\n",
       "      <th>2</th>\n",
       "      <td>U1081</td>\n",
       "      <td>135085</td>\n",
       "      <td>1</td>\n",
       "      <td>Tortas Locas Hipocampo</td>\n",
       "    </tr>\n",
       "    <tr>\n",
       "      <th>3</th>\n",
       "      <td>U1056</td>\n",
       "      <td>135085</td>\n",
       "      <td>2</td>\n",
       "      <td>Tortas Locas Hipocampo</td>\n",
       "    </tr>\n",
       "    <tr>\n",
       "      <th>4</th>\n",
       "      <td>U1134</td>\n",
       "      <td>135085</td>\n",
       "      <td>2</td>\n",
       "      <td>Tortas Locas Hipocampo</td>\n",
       "    </tr>\n",
       "  </tbody>\n",
       "</table>\n",
       "</div>"
      ],
      "text/plain": [
       "  userID  placeID  rating                    name\n",
       "0  U1077   135085       2  Tortas Locas Hipocampo\n",
       "1  U1108   135085       1  Tortas Locas Hipocampo\n",
       "2  U1081   135085       1  Tortas Locas Hipocampo\n",
       "3  U1056   135085       2  Tortas Locas Hipocampo\n",
       "4  U1134   135085       2  Tortas Locas Hipocampo"
      ]
     },
     "execution_count": 193,
     "metadata": {},
     "output_type": "execute_result"
    }
   ],
   "source": [
    "# merge df_geoplaces into df_ratings using the placeID in order to obtain the name\n",
    "# df = pd.DataFrame()\n",
    "# df['users'] = df_ratings[['userID']]\n",
    "# df['place_id'] = df_ratings[['placeID']]\n",
    "# df['names'] = df_geoplaces.merge(df_ratings, on='placeID')[['name']]\n",
    "# df['food_rating'] = df_ratings[['food_rating']]\n",
    "df = pd.merge(df_ratings, df_geoplaces, on = \"placeID\")\n",
    "print(df.shape)\n",
    "\n",
    "df.head()"
   ]
  },
  {
   "cell_type": "code",
   "execution_count": null,
   "metadata": {},
   "outputs": [],
   "source": [
    "\n"
   ]
  },
  {
   "cell_type": "markdown",
   "metadata": {
    "id": "xZhr2hkECzVv"
   },
   "source": [
    "#**Ejercicio-2.**"
   ]
  },
  {
   "cell_type": "code",
   "execution_count": 194,
   "metadata": {
    "id": "kGfAoOPkC1PP"
   },
   "outputs": [
    {
     "data": {
      "text/html": [
       "<div>\n",
       "<style scoped>\n",
       "    .dataframe tbody tr th:only-of-type {\n",
       "        vertical-align: middle;\n",
       "    }\n",
       "\n",
       "    .dataframe tbody tr th {\n",
       "        vertical-align: top;\n",
       "    }\n",
       "\n",
       "    .dataframe thead th {\n",
       "        text-align: right;\n",
       "    }\n",
       "</style>\n",
       "<table border=\"1\" class=\"dataframe\">\n",
       "  <thead>\n",
       "    <tr style=\"text-align: right;\">\n",
       "      <th>name</th>\n",
       "      <th>Abondance Restaurante Bar</th>\n",
       "      <th>Arrachela Grill</th>\n",
       "      <th>Cabana Huasteca</th>\n",
       "      <th>Cafe Chaires</th>\n",
       "      <th>Cafeteria cenidet</th>\n",
       "      <th>Cafeteria y Restaurant El Pacifico</th>\n",
       "      <th>Carls Jr</th>\n",
       "      <th>Carnitas Mata  Calle 16 de Septiembre</th>\n",
       "      <th>Carreton de Flautas y Migadas</th>\n",
       "      <th>Cenaduria El RincÃ³n de Tlaquepaque</th>\n",
       "      <th>...</th>\n",
       "      <th>puesto de tacos</th>\n",
       "      <th>rockabilly</th>\n",
       "      <th>shi ro ie</th>\n",
       "      <th>sirloin stockade</th>\n",
       "      <th>tacos abi</th>\n",
       "      <th>tacos de barbacoa enfrente del Tec</th>\n",
       "      <th>tacos de la estacion</th>\n",
       "      <th>tacos los volcanes</th>\n",
       "      <th>tortas hawai</th>\n",
       "      <th>vips</th>\n",
       "    </tr>\n",
       "    <tr>\n",
       "      <th>userID</th>\n",
       "      <th></th>\n",
       "      <th></th>\n",
       "      <th></th>\n",
       "      <th></th>\n",
       "      <th></th>\n",
       "      <th></th>\n",
       "      <th></th>\n",
       "      <th></th>\n",
       "      <th></th>\n",
       "      <th></th>\n",
       "      <th></th>\n",
       "      <th></th>\n",
       "      <th></th>\n",
       "      <th></th>\n",
       "      <th></th>\n",
       "      <th></th>\n",
       "      <th></th>\n",
       "      <th></th>\n",
       "      <th></th>\n",
       "      <th></th>\n",
       "      <th></th>\n",
       "    </tr>\n",
       "  </thead>\n",
       "  <tbody>\n",
       "    <tr>\n",
       "      <th>U1001</th>\n",
       "      <td>0</td>\n",
       "      <td>0</td>\n",
       "      <td>0</td>\n",
       "      <td>0</td>\n",
       "      <td>0</td>\n",
       "      <td>0</td>\n",
       "      <td>0</td>\n",
       "      <td>0</td>\n",
       "      <td>0</td>\n",
       "      <td>0</td>\n",
       "      <td>...</td>\n",
       "      <td>2</td>\n",
       "      <td>0</td>\n",
       "      <td>0</td>\n",
       "      <td>0</td>\n",
       "      <td>0</td>\n",
       "      <td>0</td>\n",
       "      <td>0</td>\n",
       "      <td>0</td>\n",
       "      <td>0</td>\n",
       "      <td>0</td>\n",
       "    </tr>\n",
       "    <tr>\n",
       "      <th>U1002</th>\n",
       "      <td>0</td>\n",
       "      <td>0</td>\n",
       "      <td>0</td>\n",
       "      <td>0</td>\n",
       "      <td>0</td>\n",
       "      <td>0</td>\n",
       "      <td>0</td>\n",
       "      <td>0</td>\n",
       "      <td>0</td>\n",
       "      <td>0</td>\n",
       "      <td>...</td>\n",
       "      <td>2</td>\n",
       "      <td>0</td>\n",
       "      <td>0</td>\n",
       "      <td>0</td>\n",
       "      <td>0</td>\n",
       "      <td>0</td>\n",
       "      <td>0</td>\n",
       "      <td>0</td>\n",
       "      <td>0</td>\n",
       "      <td>0</td>\n",
       "    </tr>\n",
       "    <tr>\n",
       "      <th>U1003</th>\n",
       "      <td>0</td>\n",
       "      <td>0</td>\n",
       "      <td>2</td>\n",
       "      <td>0</td>\n",
       "      <td>0</td>\n",
       "      <td>0</td>\n",
       "      <td>0</td>\n",
       "      <td>0</td>\n",
       "      <td>0</td>\n",
       "      <td>0</td>\n",
       "      <td>...</td>\n",
       "      <td>2</td>\n",
       "      <td>2</td>\n",
       "      <td>0</td>\n",
       "      <td>0</td>\n",
       "      <td>0</td>\n",
       "      <td>0</td>\n",
       "      <td>0</td>\n",
       "      <td>0</td>\n",
       "      <td>0</td>\n",
       "      <td>0</td>\n",
       "    </tr>\n",
       "    <tr>\n",
       "      <th>U1004</th>\n",
       "      <td>0</td>\n",
       "      <td>0</td>\n",
       "      <td>0</td>\n",
       "      <td>0</td>\n",
       "      <td>0</td>\n",
       "      <td>2</td>\n",
       "      <td>0</td>\n",
       "      <td>0</td>\n",
       "      <td>0</td>\n",
       "      <td>0</td>\n",
       "      <td>...</td>\n",
       "      <td>0</td>\n",
       "      <td>0</td>\n",
       "      <td>0</td>\n",
       "      <td>0</td>\n",
       "      <td>0</td>\n",
       "      <td>0</td>\n",
       "      <td>0</td>\n",
       "      <td>2</td>\n",
       "      <td>0</td>\n",
       "      <td>0</td>\n",
       "    </tr>\n",
       "    <tr>\n",
       "      <th>U1005</th>\n",
       "      <td>0</td>\n",
       "      <td>0</td>\n",
       "      <td>0</td>\n",
       "      <td>0</td>\n",
       "      <td>0</td>\n",
       "      <td>2</td>\n",
       "      <td>0</td>\n",
       "      <td>0</td>\n",
       "      <td>0</td>\n",
       "      <td>0</td>\n",
       "      <td>...</td>\n",
       "      <td>0</td>\n",
       "      <td>0</td>\n",
       "      <td>0</td>\n",
       "      <td>0</td>\n",
       "      <td>0</td>\n",
       "      <td>0</td>\n",
       "      <td>0</td>\n",
       "      <td>0</td>\n",
       "      <td>0</td>\n",
       "      <td>0</td>\n",
       "    </tr>\n",
       "    <tr>\n",
       "      <th>U1006</th>\n",
       "      <td>0</td>\n",
       "      <td>0</td>\n",
       "      <td>0</td>\n",
       "      <td>1</td>\n",
       "      <td>0</td>\n",
       "      <td>0</td>\n",
       "      <td>0</td>\n",
       "      <td>0</td>\n",
       "      <td>0</td>\n",
       "      <td>0</td>\n",
       "      <td>...</td>\n",
       "      <td>1</td>\n",
       "      <td>0</td>\n",
       "      <td>2</td>\n",
       "      <td>0</td>\n",
       "      <td>0</td>\n",
       "      <td>0</td>\n",
       "      <td>0</td>\n",
       "      <td>0</td>\n",
       "      <td>0</td>\n",
       "      <td>0</td>\n",
       "    </tr>\n",
       "    <tr>\n",
       "      <th>U1007</th>\n",
       "      <td>0</td>\n",
       "      <td>0</td>\n",
       "      <td>0</td>\n",
       "      <td>1</td>\n",
       "      <td>0</td>\n",
       "      <td>1</td>\n",
       "      <td>0</td>\n",
       "      <td>0</td>\n",
       "      <td>0</td>\n",
       "      <td>0</td>\n",
       "      <td>...</td>\n",
       "      <td>0</td>\n",
       "      <td>0</td>\n",
       "      <td>0</td>\n",
       "      <td>0</td>\n",
       "      <td>0</td>\n",
       "      <td>0</td>\n",
       "      <td>0</td>\n",
       "      <td>0</td>\n",
       "      <td>0</td>\n",
       "      <td>0</td>\n",
       "    </tr>\n",
       "    <tr>\n",
       "      <th>U1008</th>\n",
       "      <td>1</td>\n",
       "      <td>0</td>\n",
       "      <td>0</td>\n",
       "      <td>0</td>\n",
       "      <td>0</td>\n",
       "      <td>0</td>\n",
       "      <td>0</td>\n",
       "      <td>0</td>\n",
       "      <td>0</td>\n",
       "      <td>0</td>\n",
       "      <td>...</td>\n",
       "      <td>0</td>\n",
       "      <td>0</td>\n",
       "      <td>0</td>\n",
       "      <td>0</td>\n",
       "      <td>0</td>\n",
       "      <td>0</td>\n",
       "      <td>0</td>\n",
       "      <td>0</td>\n",
       "      <td>0</td>\n",
       "      <td>0</td>\n",
       "    </tr>\n",
       "    <tr>\n",
       "      <th>U1009</th>\n",
       "      <td>0</td>\n",
       "      <td>0</td>\n",
       "      <td>1</td>\n",
       "      <td>0</td>\n",
       "      <td>0</td>\n",
       "      <td>0</td>\n",
       "      <td>0</td>\n",
       "      <td>0</td>\n",
       "      <td>0</td>\n",
       "      <td>0</td>\n",
       "      <td>...</td>\n",
       "      <td>1</td>\n",
       "      <td>0</td>\n",
       "      <td>0</td>\n",
       "      <td>0</td>\n",
       "      <td>0</td>\n",
       "      <td>0</td>\n",
       "      <td>0</td>\n",
       "      <td>0</td>\n",
       "      <td>0</td>\n",
       "      <td>0</td>\n",
       "    </tr>\n",
       "    <tr>\n",
       "      <th>U1010</th>\n",
       "      <td>0</td>\n",
       "      <td>0</td>\n",
       "      <td>0</td>\n",
       "      <td>0</td>\n",
       "      <td>0</td>\n",
       "      <td>0</td>\n",
       "      <td>0</td>\n",
       "      <td>0</td>\n",
       "      <td>0</td>\n",
       "      <td>0</td>\n",
       "      <td>...</td>\n",
       "      <td>0</td>\n",
       "      <td>0</td>\n",
       "      <td>0</td>\n",
       "      <td>0</td>\n",
       "      <td>0</td>\n",
       "      <td>0</td>\n",
       "      <td>0</td>\n",
       "      <td>0</td>\n",
       "      <td>0</td>\n",
       "      <td>0</td>\n",
       "    </tr>\n",
       "  </tbody>\n",
       "</table>\n",
       "<p>10 rows × 129 columns</p>\n",
       "</div>"
      ],
      "text/plain": [
       "name    Abondance Restaurante Bar  Arrachela Grill  Cabana Huasteca  \\\n",
       "userID                                                                \n",
       "U1001                           0                0                0   \n",
       "U1002                           0                0                0   \n",
       "U1003                           0                0                2   \n",
       "U1004                           0                0                0   \n",
       "U1005                           0                0                0   \n",
       "U1006                           0                0                0   \n",
       "U1007                           0                0                0   \n",
       "U1008                           1                0                0   \n",
       "U1009                           0                0                1   \n",
       "U1010                           0                0                0   \n",
       "\n",
       "name    Cafe Chaires  Cafeteria cenidet  Cafeteria y Restaurant El Pacifico  \\\n",
       "userID                                                                        \n",
       "U1001              0                  0                                   0   \n",
       "U1002              0                  0                                   0   \n",
       "U1003              0                  0                                   0   \n",
       "U1004              0                  0                                   2   \n",
       "U1005              0                  0                                   2   \n",
       "U1006              1                  0                                   0   \n",
       "U1007              1                  0                                   1   \n",
       "U1008              0                  0                                   0   \n",
       "U1009              0                  0                                   0   \n",
       "U1010              0                  0                                   0   \n",
       "\n",
       "name    Carls Jr  Carnitas Mata  Calle 16 de Septiembre  \\\n",
       "userID                                                    \n",
       "U1001          0                                      0   \n",
       "U1002          0                                      0   \n",
       "U1003          0                                      0   \n",
       "U1004          0                                      0   \n",
       "U1005          0                                      0   \n",
       "U1006          0                                      0   \n",
       "U1007          0                                      0   \n",
       "U1008          0                                      0   \n",
       "U1009          0                                      0   \n",
       "U1010          0                                      0   \n",
       "\n",
       "name    Carreton de Flautas y Migadas  Cenaduria El RincÃ³n de Tlaquepaque  \\\n",
       "userID                                                                       \n",
       "U1001                               0                                    0   \n",
       "U1002                               0                                    0   \n",
       "U1003                               0                                    0   \n",
       "U1004                               0                                    0   \n",
       "U1005                               0                                    0   \n",
       "U1006                               0                                    0   \n",
       "U1007                               0                                    0   \n",
       "U1008                               0                                    0   \n",
       "U1009                               0                                    0   \n",
       "U1010                               0                                    0   \n",
       "\n",
       "name    ...  puesto de tacos  rockabilly   shi ro ie  sirloin stockade  \\\n",
       "userID  ...                                                              \n",
       "U1001   ...                2            0          0                 0   \n",
       "U1002   ...                2            0          0                 0   \n",
       "U1003   ...                2            2          0                 0   \n",
       "U1004   ...                0            0          0                 0   \n",
       "U1005   ...                0            0          0                 0   \n",
       "U1006   ...                1            0          2                 0   \n",
       "U1007   ...                0            0          0                 0   \n",
       "U1008   ...                0            0          0                 0   \n",
       "U1009   ...                1            0          0                 0   \n",
       "U1010   ...                0            0          0                 0   \n",
       "\n",
       "name    tacos abi  tacos de barbacoa enfrente del Tec  tacos de la estacion  \\\n",
       "userID                                                                        \n",
       "U1001           0                                   0                     0   \n",
       "U1002           0                                   0                     0   \n",
       "U1003           0                                   0                     0   \n",
       "U1004           0                                   0                     0   \n",
       "U1005           0                                   0                     0   \n",
       "U1006           0                                   0                     0   \n",
       "U1007           0                                   0                     0   \n",
       "U1008           0                                   0                     0   \n",
       "U1009           0                                   0                     0   \n",
       "U1010           0                                   0                     0   \n",
       "\n",
       "name    tacos los volcanes  tortas hawai  vips  \n",
       "userID                                          \n",
       "U1001                    0             0     0  \n",
       "U1002                    0             0     0  \n",
       "U1003                    0             0     0  \n",
       "U1004                    2             0     0  \n",
       "U1005                    0             0     0  \n",
       "U1006                    0             0     0  \n",
       "U1007                    0             0     0  \n",
       "U1008                    0             0     0  \n",
       "U1009                    0             0     0  \n",
       "U1010                    0             0     0  \n",
       "\n",
       "[10 rows x 129 columns]"
      ]
     },
     "execution_count": 194,
     "metadata": {},
     "output_type": "execute_result"
    }
   ],
   "source": [
    "# getting utility matrix using SVD \n",
    "UtMx = df.pivot_table(index='userID', columns='name', values='rating', fill_value=0)\n",
    "#validating Nan values\n",
    "# UtMx.isnull().sum().sum()\n",
    "UtMx.head(10)\n"
   ]
  },
  {
   "cell_type": "code",
   "execution_count": 195,
   "metadata": {
    "id": "GOydw5OGC1MJ"
   },
   "outputs": [
    {
     "data": {
      "text/plain": [
       "(138, 129)"
      ]
     },
     "execution_count": 195,
     "metadata": {},
     "output_type": "execute_result"
    }
   ],
   "source": [
    "UtMx.shape"
   ]
  },
  {
   "cell_type": "code",
   "execution_count": 196,
   "metadata": {},
   "outputs": [
    {
     "data": {
      "text/plain": [
       "(129, 138)"
      ]
     },
     "execution_count": 196,
     "metadata": {},
     "output_type": "execute_result"
    }
   ],
   "source": [
    "X=UtMx.T\n",
    "X.shape"
   ]
  },
  {
   "cell_type": "code",
   "execution_count": 197,
   "metadata": {},
   "outputs": [
    {
     "data": {
      "text/plain": [
       "(129, 129)"
      ]
     },
     "execution_count": 197,
     "metadata": {},
     "output_type": "execute_result"
    }
   ],
   "source": [
    "# SVD\n",
    "SVD = TruncatedSVD(n_components=137, random_state=7)\n",
    "result = SVD.fit_transform(X)\n",
    "result.shape"
   ]
  },
  {
   "cell_type": "code",
   "execution_count": 198,
   "metadata": {},
   "outputs": [
    {
     "data": {
      "text/html": [
       "<div>\n",
       "<style scoped>\n",
       "    .dataframe tbody tr th:only-of-type {\n",
       "        vertical-align: middle;\n",
       "    }\n",
       "\n",
       "    .dataframe tbody tr th {\n",
       "        vertical-align: top;\n",
       "    }\n",
       "\n",
       "    .dataframe thead th {\n",
       "        text-align: right;\n",
       "    }\n",
       "</style>\n",
       "<table border=\"1\" class=\"dataframe\">\n",
       "  <thead>\n",
       "    <tr style=\"text-align: right;\">\n",
       "      <th></th>\n",
       "      <th>0</th>\n",
       "      <th>1</th>\n",
       "      <th>2</th>\n",
       "      <th>3</th>\n",
       "      <th>4</th>\n",
       "      <th>5</th>\n",
       "      <th>6</th>\n",
       "      <th>7</th>\n",
       "      <th>8</th>\n",
       "      <th>9</th>\n",
       "      <th>...</th>\n",
       "      <th>119</th>\n",
       "      <th>120</th>\n",
       "      <th>121</th>\n",
       "      <th>122</th>\n",
       "      <th>123</th>\n",
       "      <th>124</th>\n",
       "      <th>125</th>\n",
       "      <th>126</th>\n",
       "      <th>127</th>\n",
       "      <th>128</th>\n",
       "    </tr>\n",
       "    <tr>\n",
       "      <th>name</th>\n",
       "      <th></th>\n",
       "      <th></th>\n",
       "      <th></th>\n",
       "      <th></th>\n",
       "      <th></th>\n",
       "      <th></th>\n",
       "      <th></th>\n",
       "      <th></th>\n",
       "      <th></th>\n",
       "      <th></th>\n",
       "      <th></th>\n",
       "      <th></th>\n",
       "      <th></th>\n",
       "      <th></th>\n",
       "      <th></th>\n",
       "      <th></th>\n",
       "      <th></th>\n",
       "      <th></th>\n",
       "      <th></th>\n",
       "      <th></th>\n",
       "      <th></th>\n",
       "    </tr>\n",
       "  </thead>\n",
       "  <tbody>\n",
       "    <tr>\n",
       "      <th>Abondance Restaurante Bar</th>\n",
       "      <td>2.231529e-01</td>\n",
       "      <td>-3.351484e-01</td>\n",
       "      <td>9.257169e-01</td>\n",
       "      <td>2.995820e-16</td>\n",
       "      <td>7.654577e-02</td>\n",
       "      <td>7.727232e-01</td>\n",
       "      <td>4.291144e-01</td>\n",
       "      <td>-4.259264e-01</td>\n",
       "      <td>1.299450e-01</td>\n",
       "      <td>8.697081e-02</td>\n",
       "      <td>...</td>\n",
       "      <td>1.008957e-18</td>\n",
       "      <td>-6.397881e-03</td>\n",
       "      <td>1.128958e-02</td>\n",
       "      <td>-2.660192e-02</td>\n",
       "      <td>-1.448532e-18</td>\n",
       "      <td>-5.726135e-03</td>\n",
       "      <td>-6.505213e-19</td>\n",
       "      <td>7.947495e-03</td>\n",
       "      <td>4.303628e-16</td>\n",
       "      <td>1.109336e-31</td>\n",
       "    </tr>\n",
       "    <tr>\n",
       "      <th>Arrachela Grill</th>\n",
       "      <td>-8.001742e-18</td>\n",
       "      <td>-2.244171e-17</td>\n",
       "      <td>1.323026e-16</td>\n",
       "      <td>1.188052e-01</td>\n",
       "      <td>-2.593283e-15</td>\n",
       "      <td>-6.122711e-16</td>\n",
       "      <td>3.423801e-16</td>\n",
       "      <td>-4.722038e-17</td>\n",
       "      <td>4.271307e-16</td>\n",
       "      <td>-1.072855e-16</td>\n",
       "      <td>...</td>\n",
       "      <td>4.424002e-16</td>\n",
       "      <td>-6.470296e-16</td>\n",
       "      <td>-9.457436e-16</td>\n",
       "      <td>1.569894e-16</td>\n",
       "      <td>-1.700456e-02</td>\n",
       "      <td>4.449824e-16</td>\n",
       "      <td>-1.255221e-16</td>\n",
       "      <td>-8.762430e-16</td>\n",
       "      <td>2.503351e-17</td>\n",
       "      <td>-3.981282e-30</td>\n",
       "    </tr>\n",
       "    <tr>\n",
       "      <th>Cabana Huasteca</th>\n",
       "      <td>3.049484e+00</td>\n",
       "      <td>2.564812e+00</td>\n",
       "      <td>-4.808937e-01</td>\n",
       "      <td>2.463533e-14</td>\n",
       "      <td>1.033046e+00</td>\n",
       "      <td>1.388744e+00</td>\n",
       "      <td>4.667691e-01</td>\n",
       "      <td>8.666118e-01</td>\n",
       "      <td>5.738046e-01</td>\n",
       "      <td>-1.522726e+00</td>\n",
       "      <td>...</td>\n",
       "      <td>-4.049402e-17</td>\n",
       "      <td>4.901633e-02</td>\n",
       "      <td>9.998401e-03</td>\n",
       "      <td>-1.765735e-02</td>\n",
       "      <td>-1.537212e-16</td>\n",
       "      <td>-6.973005e-03</td>\n",
       "      <td>-3.556183e-17</td>\n",
       "      <td>-2.015013e-03</td>\n",
       "      <td>-4.023650e-16</td>\n",
       "      <td>-5.614471e-30</td>\n",
       "    </tr>\n",
       "    <tr>\n",
       "      <th>Cafe Chaires</th>\n",
       "      <td>1.233608e+00</td>\n",
       "      <td>1.646569e+00</td>\n",
       "      <td>6.684932e-01</td>\n",
       "      <td>-3.457561e-14</td>\n",
       "      <td>-1.581105e+00</td>\n",
       "      <td>2.951126e-01</td>\n",
       "      <td>-2.725471e-01</td>\n",
       "      <td>5.710053e-01</td>\n",
       "      <td>2.521169e-01</td>\n",
       "      <td>1.208266e+00</td>\n",
       "      <td>...</td>\n",
       "      <td>8.185802e-17</td>\n",
       "      <td>2.046310e-02</td>\n",
       "      <td>-3.889850e-02</td>\n",
       "      <td>2.586656e-02</td>\n",
       "      <td>-3.615420e-16</td>\n",
       "      <td>-1.154981e-02</td>\n",
       "      <td>1.100465e-17</td>\n",
       "      <td>1.052110e-02</td>\n",
       "      <td>6.570969e-16</td>\n",
       "      <td>-1.522255e-30</td>\n",
       "    </tr>\n",
       "    <tr>\n",
       "      <th>Cafeteria cenidet</th>\n",
       "      <td>-6.335079e-17</td>\n",
       "      <td>-6.207628e-16</td>\n",
       "      <td>1.686773e-15</td>\n",
       "      <td>9.032935e-01</td>\n",
       "      <td>-2.084422e-14</td>\n",
       "      <td>-2.398039e-15</td>\n",
       "      <td>6.236465e-16</td>\n",
       "      <td>3.849474e-16</td>\n",
       "      <td>-4.454000e-16</td>\n",
       "      <td>1.432794e-15</td>\n",
       "      <td>...</td>\n",
       "      <td>-4.605806e-16</td>\n",
       "      <td>4.326402e-16</td>\n",
       "      <td>1.642904e-16</td>\n",
       "      <td>-4.199490e-16</td>\n",
       "      <td>1.244610e-02</td>\n",
       "      <td>-1.967408e-16</td>\n",
       "      <td>-1.631015e-16</td>\n",
       "      <td>-3.448149e-16</td>\n",
       "      <td>-1.961889e-16</td>\n",
       "      <td>-1.011961e-29</td>\n",
       "    </tr>\n",
       "    <tr>\n",
       "      <th>Cafeteria y Restaurant El Pacifico</th>\n",
       "      <td>4.370779e+00</td>\n",
       "      <td>-3.125994e+00</td>\n",
       "      <td>2.078290e+00</td>\n",
       "      <td>-3.845999e-14</td>\n",
       "      <td>-1.188305e+00</td>\n",
       "      <td>-5.183410e-01</td>\n",
       "      <td>3.803262e-01</td>\n",
       "      <td>2.064875e+00</td>\n",
       "      <td>-4.445472e-01</td>\n",
       "      <td>2.407878e-01</td>\n",
       "      <td>...</td>\n",
       "      <td>5.457595e-17</td>\n",
       "      <td>3.286131e-04</td>\n",
       "      <td>2.654188e-03</td>\n",
       "      <td>9.432424e-03</td>\n",
       "      <td>1.433513e-16</td>\n",
       "      <td>5.809620e-03</td>\n",
       "      <td>2.059984e-17</td>\n",
       "      <td>1.662516e-03</td>\n",
       "      <td>5.720647e-17</td>\n",
       "      <td>-4.868751e-30</td>\n",
       "    </tr>\n",
       "    <tr>\n",
       "      <th>Carls Jr</th>\n",
       "      <td>8.061034e-01</td>\n",
       "      <td>1.064833e+00</td>\n",
       "      <td>8.995174e-01</td>\n",
       "      <td>-1.216320e-14</td>\n",
       "      <td>-2.875079e-01</td>\n",
       "      <td>-1.670696e+00</td>\n",
       "      <td>9.933775e-02</td>\n",
       "      <td>-4.363860e-01</td>\n",
       "      <td>2.133681e-01</td>\n",
       "      <td>-2.543727e-01</td>\n",
       "      <td>...</td>\n",
       "      <td>2.208917e-16</td>\n",
       "      <td>-3.148481e-02</td>\n",
       "      <td>-2.038360e-02</td>\n",
       "      <td>-1.107087e-02</td>\n",
       "      <td>2.374608e-16</td>\n",
       "      <td>-2.103277e-03</td>\n",
       "      <td>-2.069471e-17</td>\n",
       "      <td>-2.675221e-03</td>\n",
       "      <td>1.832538e-16</td>\n",
       "      <td>-6.908696e-30</td>\n",
       "    </tr>\n",
       "    <tr>\n",
       "      <th>Carnitas Mata  Calle 16 de Septiembre</th>\n",
       "      <td>1.887034e-17</td>\n",
       "      <td>8.229256e-17</td>\n",
       "      <td>2.391069e-17</td>\n",
       "      <td>8.129627e-18</td>\n",
       "      <td>-9.731579e-17</td>\n",
       "      <td>-3.178021e-17</td>\n",
       "      <td>-1.480507e-16</td>\n",
       "      <td>-3.084905e-17</td>\n",
       "      <td>1.881307e-16</td>\n",
       "      <td>-1.218486e-16</td>\n",
       "      <td>...</td>\n",
       "      <td>9.430589e-02</td>\n",
       "      <td>7.152830e-16</td>\n",
       "      <td>1.132038e-16</td>\n",
       "      <td>4.508047e-16</td>\n",
       "      <td>-9.095662e-17</td>\n",
       "      <td>1.153808e-16</td>\n",
       "      <td>3.257372e-03</td>\n",
       "      <td>-2.622143e-16</td>\n",
       "      <td>2.656540e-16</td>\n",
       "      <td>-2.443620e-30</td>\n",
       "    </tr>\n",
       "    <tr>\n",
       "      <th>Carreton de Flautas y Migadas</th>\n",
       "      <td>2.325878e-16</td>\n",
       "      <td>4.408512e-17</td>\n",
       "      <td>5.426636e-16</td>\n",
       "      <td>1.596299e-16</td>\n",
       "      <td>-6.273974e-16</td>\n",
       "      <td>1.919543e-16</td>\n",
       "      <td>-4.494871e-16</td>\n",
       "      <td>-6.466965e-16</td>\n",
       "      <td>2.005694e-15</td>\n",
       "      <td>-1.501999e-15</td>\n",
       "      <td>...</td>\n",
       "      <td>3.241566e-03</td>\n",
       "      <td>9.219862e-17</td>\n",
       "      <td>9.545796e-17</td>\n",
       "      <td>-1.129878e-15</td>\n",
       "      <td>3.454509e-16</td>\n",
       "      <td>-2.550589e-16</td>\n",
       "      <td>-2.545870e-03</td>\n",
       "      <td>-7.541710e-16</td>\n",
       "      <td>1.889168e-16</td>\n",
       "      <td>9.372057e-31</td>\n",
       "    </tr>\n",
       "    <tr>\n",
       "      <th>Cenaduria El RincÃ³n de Tlaquepaque</th>\n",
       "      <td>4.280239e-02</td>\n",
       "      <td>-8.279257e-02</td>\n",
       "      <td>4.381380e-01</td>\n",
       "      <td>-5.036459e-15</td>\n",
       "      <td>-1.749965e-01</td>\n",
       "      <td>4.048219e-01</td>\n",
       "      <td>6.431516e-01</td>\n",
       "      <td>-3.435401e-01</td>\n",
       "      <td>1.458466e-01</td>\n",
       "      <td>-2.866280e-01</td>\n",
       "      <td>...</td>\n",
       "      <td>2.252533e-16</td>\n",
       "      <td>-3.782371e-02</td>\n",
       "      <td>-5.123229e-03</td>\n",
       "      <td>-2.626066e-03</td>\n",
       "      <td>6.776560e-16</td>\n",
       "      <td>1.848321e-02</td>\n",
       "      <td>7.415943e-17</td>\n",
       "      <td>1.032700e-02</td>\n",
       "      <td>1.491444e-15</td>\n",
       "      <td>3.475918e-30</td>\n",
       "    </tr>\n",
       "  </tbody>\n",
       "</table>\n",
       "<p>10 rows × 129 columns</p>\n",
       "</div>"
      ],
      "text/plain": [
       "                                                0             1    \\\n",
       "name                                                                \n",
       "Abondance Restaurante Bar              2.231529e-01 -3.351484e-01   \n",
       "Arrachela Grill                       -8.001742e-18 -2.244171e-17   \n",
       "Cabana Huasteca                        3.049484e+00  2.564812e+00   \n",
       "Cafe Chaires                           1.233608e+00  1.646569e+00   \n",
       "Cafeteria cenidet                     -6.335079e-17 -6.207628e-16   \n",
       "Cafeteria y Restaurant El Pacifico     4.370779e+00 -3.125994e+00   \n",
       "Carls Jr                               8.061034e-01  1.064833e+00   \n",
       "Carnitas Mata  Calle 16 de Septiembre  1.887034e-17  8.229256e-17   \n",
       "Carreton de Flautas y Migadas          2.325878e-16  4.408512e-17   \n",
       "Cenaduria El RincÃ³n de Tlaquepaque    4.280239e-02 -8.279257e-02   \n",
       "\n",
       "                                                2             3    \\\n",
       "name                                                                \n",
       "Abondance Restaurante Bar              9.257169e-01  2.995820e-16   \n",
       "Arrachela Grill                        1.323026e-16  1.188052e-01   \n",
       "Cabana Huasteca                       -4.808937e-01  2.463533e-14   \n",
       "Cafe Chaires                           6.684932e-01 -3.457561e-14   \n",
       "Cafeteria cenidet                      1.686773e-15  9.032935e-01   \n",
       "Cafeteria y Restaurant El Pacifico     2.078290e+00 -3.845999e-14   \n",
       "Carls Jr                               8.995174e-01 -1.216320e-14   \n",
       "Carnitas Mata  Calle 16 de Septiembre  2.391069e-17  8.129627e-18   \n",
       "Carreton de Flautas y Migadas          5.426636e-16  1.596299e-16   \n",
       "Cenaduria El RincÃ³n de Tlaquepaque    4.381380e-01 -5.036459e-15   \n",
       "\n",
       "                                                4             5    \\\n",
       "name                                                                \n",
       "Abondance Restaurante Bar              7.654577e-02  7.727232e-01   \n",
       "Arrachela Grill                       -2.593283e-15 -6.122711e-16   \n",
       "Cabana Huasteca                        1.033046e+00  1.388744e+00   \n",
       "Cafe Chaires                          -1.581105e+00  2.951126e-01   \n",
       "Cafeteria cenidet                     -2.084422e-14 -2.398039e-15   \n",
       "Cafeteria y Restaurant El Pacifico    -1.188305e+00 -5.183410e-01   \n",
       "Carls Jr                              -2.875079e-01 -1.670696e+00   \n",
       "Carnitas Mata  Calle 16 de Septiembre -9.731579e-17 -3.178021e-17   \n",
       "Carreton de Flautas y Migadas         -6.273974e-16  1.919543e-16   \n",
       "Cenaduria El RincÃ³n de Tlaquepaque   -1.749965e-01  4.048219e-01   \n",
       "\n",
       "                                                6             7    \\\n",
       "name                                                                \n",
       "Abondance Restaurante Bar              4.291144e-01 -4.259264e-01   \n",
       "Arrachela Grill                        3.423801e-16 -4.722038e-17   \n",
       "Cabana Huasteca                        4.667691e-01  8.666118e-01   \n",
       "Cafe Chaires                          -2.725471e-01  5.710053e-01   \n",
       "Cafeteria cenidet                      6.236465e-16  3.849474e-16   \n",
       "Cafeteria y Restaurant El Pacifico     3.803262e-01  2.064875e+00   \n",
       "Carls Jr                               9.933775e-02 -4.363860e-01   \n",
       "Carnitas Mata  Calle 16 de Septiembre -1.480507e-16 -3.084905e-17   \n",
       "Carreton de Flautas y Migadas         -4.494871e-16 -6.466965e-16   \n",
       "Cenaduria El RincÃ³n de Tlaquepaque    6.431516e-01 -3.435401e-01   \n",
       "\n",
       "                                                8             9    ...  \\\n",
       "name                                                               ...   \n",
       "Abondance Restaurante Bar              1.299450e-01  8.697081e-02  ...   \n",
       "Arrachela Grill                        4.271307e-16 -1.072855e-16  ...   \n",
       "Cabana Huasteca                        5.738046e-01 -1.522726e+00  ...   \n",
       "Cafe Chaires                           2.521169e-01  1.208266e+00  ...   \n",
       "Cafeteria cenidet                     -4.454000e-16  1.432794e-15  ...   \n",
       "Cafeteria y Restaurant El Pacifico    -4.445472e-01  2.407878e-01  ...   \n",
       "Carls Jr                               2.133681e-01 -2.543727e-01  ...   \n",
       "Carnitas Mata  Calle 16 de Septiembre  1.881307e-16 -1.218486e-16  ...   \n",
       "Carreton de Flautas y Migadas          2.005694e-15 -1.501999e-15  ...   \n",
       "Cenaduria El RincÃ³n de Tlaquepaque    1.458466e-01 -2.866280e-01  ...   \n",
       "\n",
       "                                                119           120  \\\n",
       "name                                                                \n",
       "Abondance Restaurante Bar              1.008957e-18 -6.397881e-03   \n",
       "Arrachela Grill                        4.424002e-16 -6.470296e-16   \n",
       "Cabana Huasteca                       -4.049402e-17  4.901633e-02   \n",
       "Cafe Chaires                           8.185802e-17  2.046310e-02   \n",
       "Cafeteria cenidet                     -4.605806e-16  4.326402e-16   \n",
       "Cafeteria y Restaurant El Pacifico     5.457595e-17  3.286131e-04   \n",
       "Carls Jr                               2.208917e-16 -3.148481e-02   \n",
       "Carnitas Mata  Calle 16 de Septiembre  9.430589e-02  7.152830e-16   \n",
       "Carreton de Flautas y Migadas          3.241566e-03  9.219862e-17   \n",
       "Cenaduria El RincÃ³n de Tlaquepaque    2.252533e-16 -3.782371e-02   \n",
       "\n",
       "                                                121           122  \\\n",
       "name                                                                \n",
       "Abondance Restaurante Bar              1.128958e-02 -2.660192e-02   \n",
       "Arrachela Grill                       -9.457436e-16  1.569894e-16   \n",
       "Cabana Huasteca                        9.998401e-03 -1.765735e-02   \n",
       "Cafe Chaires                          -3.889850e-02  2.586656e-02   \n",
       "Cafeteria cenidet                      1.642904e-16 -4.199490e-16   \n",
       "Cafeteria y Restaurant El Pacifico     2.654188e-03  9.432424e-03   \n",
       "Carls Jr                              -2.038360e-02 -1.107087e-02   \n",
       "Carnitas Mata  Calle 16 de Septiembre  1.132038e-16  4.508047e-16   \n",
       "Carreton de Flautas y Migadas          9.545796e-17 -1.129878e-15   \n",
       "Cenaduria El RincÃ³n de Tlaquepaque   -5.123229e-03 -2.626066e-03   \n",
       "\n",
       "                                                123           124  \\\n",
       "name                                                                \n",
       "Abondance Restaurante Bar             -1.448532e-18 -5.726135e-03   \n",
       "Arrachela Grill                       -1.700456e-02  4.449824e-16   \n",
       "Cabana Huasteca                       -1.537212e-16 -6.973005e-03   \n",
       "Cafe Chaires                          -3.615420e-16 -1.154981e-02   \n",
       "Cafeteria cenidet                      1.244610e-02 -1.967408e-16   \n",
       "Cafeteria y Restaurant El Pacifico     1.433513e-16  5.809620e-03   \n",
       "Carls Jr                               2.374608e-16 -2.103277e-03   \n",
       "Carnitas Mata  Calle 16 de Septiembre -9.095662e-17  1.153808e-16   \n",
       "Carreton de Flautas y Migadas          3.454509e-16 -2.550589e-16   \n",
       "Cenaduria El RincÃ³n de Tlaquepaque    6.776560e-16  1.848321e-02   \n",
       "\n",
       "                                                125           126  \\\n",
       "name                                                                \n",
       "Abondance Restaurante Bar             -6.505213e-19  7.947495e-03   \n",
       "Arrachela Grill                       -1.255221e-16 -8.762430e-16   \n",
       "Cabana Huasteca                       -3.556183e-17 -2.015013e-03   \n",
       "Cafe Chaires                           1.100465e-17  1.052110e-02   \n",
       "Cafeteria cenidet                     -1.631015e-16 -3.448149e-16   \n",
       "Cafeteria y Restaurant El Pacifico     2.059984e-17  1.662516e-03   \n",
       "Carls Jr                              -2.069471e-17 -2.675221e-03   \n",
       "Carnitas Mata  Calle 16 de Septiembre  3.257372e-03 -2.622143e-16   \n",
       "Carreton de Flautas y Migadas         -2.545870e-03 -7.541710e-16   \n",
       "Cenaduria El RincÃ³n de Tlaquepaque    7.415943e-17  1.032700e-02   \n",
       "\n",
       "                                                127           128  \n",
       "name                                                               \n",
       "Abondance Restaurante Bar              4.303628e-16  1.109336e-31  \n",
       "Arrachela Grill                        2.503351e-17 -3.981282e-30  \n",
       "Cabana Huasteca                       -4.023650e-16 -5.614471e-30  \n",
       "Cafe Chaires                           6.570969e-16 -1.522255e-30  \n",
       "Cafeteria cenidet                     -1.961889e-16 -1.011961e-29  \n",
       "Cafeteria y Restaurant El Pacifico     5.720647e-17 -4.868751e-30  \n",
       "Carls Jr                               1.832538e-16 -6.908696e-30  \n",
       "Carnitas Mata  Calle 16 de Septiembre  2.656540e-16 -2.443620e-30  \n",
       "Carreton de Flautas y Migadas          1.889168e-16  9.372057e-31  \n",
       "Cenaduria El RincÃ³n de Tlaquepaque    1.491444e-15  3.475918e-30  \n",
       "\n",
       "[10 rows x 129 columns]"
      ]
     },
     "execution_count": 198,
     "metadata": {},
     "output_type": "execute_result"
    }
   ],
   "source": [
    "# saving results into a dataframe\n",
    "componentes = pd.DataFrame(result, index=X.index)\n",
    "componentes.head(10)"
   ]
  },
  {
   "cell_type": "code",
   "execution_count": 199,
   "metadata": {},
   "outputs": [
    {
     "name": "stdout",
     "output_type": "stream",
     "text": [
      "[[ 2.23152914e-01 -3.35148397e-01  9.25716874e-01 ...  7.94749489e-03\n",
      "   4.30362805e-16  1.10933565e-31]\n",
      " [-8.00174232e-18 -2.24417122e-17  1.32302559e-16 ... -8.76242984e-16\n",
      "   2.50335111e-17 -3.98128238e-30]\n",
      " [ 3.04948374e+00  2.56481245e+00 -4.80893676e-01 ... -2.01501322e-03\n",
      "  -4.02364995e-16 -5.61447097e-30]\n",
      " ...\n",
      " [ 8.68871858e-01  1.45545704e+00  1.81260610e+00 ...  3.94017886e-03\n",
      "  -5.37848865e-17 -3.45126646e-30]\n",
      " [ 4.58257283e-17  1.06924839e-16  1.29572849e-16 ... -5.59448321e-16\n",
      "   2.82677267e-16 -9.26911564e-30]\n",
      " [ 1.44638913e-16 -1.22312019e-16  4.88831057e-16 ...  6.66567496e-16\n",
      "  -2.33525786e-16 -1.25227335e-29]]\n"
     ]
    },
    {
     "data": {
      "text/plain": [
       "0"
      ]
     },
     "execution_count": 199,
     "metadata": {},
     "output_type": "execute_result"
    }
   ],
   "source": [
    "# singular values\n",
    "#result = SVD.singular_values_\n",
    "print(result)\n",
    "\n",
    "# check if results contains NaN values\n",
    "componentes.isnull().sum().sum()"
   ]
  },
  {
   "cell_type": "markdown",
   "metadata": {
    "id": "NCunuooTC2W3"
   },
   "source": [
    "#**Ejercicio-3.**"
   ]
  },
  {
   "cell_type": "code",
   "execution_count": 200,
   "metadata": {
    "id": "YXlcSWA-C4Dj"
   },
   "outputs": [
    {
     "name": "stdout",
     "output_type": "stream",
     "text": [
      "(129, 129)\n"
     ]
    },
    {
     "data": {
      "text/plain": [
       "False"
      ]
     },
     "execution_count": 200,
     "metadata": {},
     "output_type": "execute_result"
    }
   ],
   "source": [
    "# Pearon correlation\n",
    "corr = np.corrcoef(componentes)\n",
    "print(corr.shape)\n",
    "\n",
    "# check if corr contains NaN values\n",
    "np.isnan(corr).any()\n"
   ]
  },
  {
   "cell_type": "code",
   "execution_count": 201,
   "metadata": {
    "id": "BKI80-YdC4HN"
   },
   "outputs": [
    {
     "data": {
      "text/plain": [
       "88"
      ]
     },
     "execution_count": 201,
     "metadata": {},
     "output_type": "execute_result"
    }
   ],
   "source": [
    "# getting the top 10 best recommendations for subway place\n",
    "names_restaurants = UtMx.columns\n",
    "names_restaurants_list = list(names_restaurants)\n",
    "subway = names_restaurants_list.index('Subway')\n",
    "subway"
   ]
  },
  {
   "cell_type": "markdown",
   "metadata": {},
   "source": [
    "Obteniendo los valores de  correlacion de Subway y los 10 restaurantes mas relacionados."
   ]
  },
  {
   "cell_type": "code",
   "execution_count": 202,
   "metadata": {},
   "outputs": [
    {
     "name": "stdout",
     "output_type": "stream",
     "text": [
      "  Restaurant Teely  -  0.6095208746935303\n",
      "  Vips  -  0.5062776799761075\n",
      "  Rincon del Bife  -  0.42982383085591547\n",
      "  Restaurant and Bar and Clothesline Carlos N Charlies  -  0.4254671689089219\n",
      "  Sanborns Casa Piedra  -  0.4172185013479357\n",
      "  Mariscos Tia Licha  -  0.38817800185257806\n",
      "  Chilis Cuernavaca  -  0.3010904910449623\n",
      "  Mikasa  -  0.30100247854976303\n",
      "  Restaurant los Pinos  -  0.28514921973296736\n",
      "  Log Yin  -  0.23463429773399364\n"
     ]
    }
   ],
   "source": [
    "# getting the correlation values for subway\n",
    "corr_subway = corr[subway]\n",
    "# corr_subway.dropna(inplace=True)\n",
    "corr_subway.shape\n",
    "\n",
    "# getting the correlation values for subway and filtering nan values\n",
    "corr_list = list(names_restaurants[(corr_subway<1.0)])\n",
    "corr_list_values=list()\n",
    "# printing the top 10 restaurants correlation values for subway and the other restaurants\n",
    "for i in corr_subway.argsort()[::-1][:11]:\n",
    "    if i == subway:\n",
    "        continue\n",
    "    print('  %s' % names_restaurants_list[i], ' - ', corr_subway[i])\n",
    "\n"
   ]
  },
  {
   "cell_type": "code",
   "execution_count": null,
   "metadata": {},
   "outputs": [],
   "source": []
  },
  {
   "cell_type": "markdown",
   "metadata": {
    "id": "chqk9jIDC5Pq"
   },
   "source": [
    "#**Ejercicio-4.**\n",
    "\n",
    "Disminuye ahora la dimensión de la factorización con un número de componentes tal, que las\n",
    "recomendaciones con esta menor cantidad de información coincidan en al menos 9 de las 10\n",
    "recomendaciones dadas con todos los valores singulares. Indica la cantidad de valores singulares\n",
    "encontrado y la cantidad de información que contienen."
   ]
  },
  {
   "cell_type": "markdown",
   "metadata": {},
   "source": []
  },
  {
   "cell_type": "code",
   "execution_count": 203,
   "metadata": {
    "id": "7KXnlNzAC69Y"
   },
   "outputs": [
    {
     "name": "stdout",
     "output_type": "stream",
     "text": [
      "  la Cochinita Pibil Restaurante Yucateco  -  -0.008600775897593336\n",
      "  Restaurant Wu Zhuo Yi  -  -0.006433640642641582\n",
      "  El angel Restaurante  -  -0.006204451335028414\n",
      "  Restaurante El Chivero S.A. de C.V.  -  -0.006059929419398664\n",
      "  Restaurante Bar El Gallinero  -  -0.005613753679960684\n",
      "  Gorditas Dona Tota  -  -0.005488011412444842\n",
      "  Carnitas Mata  Calle 16 de Septiembre  -  -0.005293471448207875\n",
      "  Cabana Huasteca  -  -0.00527330974962166\n",
      "  Pollo_Frito_Buenos_Aires  -  -0.004744805963524834\n",
      "  La Virreina  -  -0.004518374005913023\n"
     ]
    }
   ],
   "source": [
    "# lower correlation values\n",
    "for i in corr_subway.argsort()[:10]:\n",
    "    if i == subway:\n",
    "        continue\n",
    "    print('  %s' % names_restaurants_list[i], ' - ', corr_subway[i])"
   ]
  },
  {
   "cell_type": "markdown",
   "metadata": {
    "id": "Rv7KFq-mC7PS"
   },
   "source": [
    "#**Ejercicio-5.**"
   ]
  },
  {
   "cell_type": "code",
   "execution_count": 204,
   "metadata": {
    "id": "jaDj3kawC9B6"
   },
   "outputs": [
    {
     "name": "stdout",
     "output_type": "stream",
     "text": [
      "tacos de barbacoa enfrente del Tec\n"
     ]
    },
    {
     "data": {
      "text/plain": [
       "124"
      ]
     },
     "execution_count": 204,
     "metadata": {},
     "output_type": "execute_result"
    }
   ],
   "source": [
    "# getting the top 10 best recommendations for 'Tacos de barbacoa enfrente del Tec' place\n",
    "names_restaurants = UtMx.columns\n",
    "names_restaurants_list = list(names_restaurants)\n",
    "# print(names_restaurants_list.dtype)\n",
    "possible = filter(lambda x: 'Tec' in x, names_restaurants_list)\n",
    "for i in possible:\n",
    "    print(i)\n",
    "tacos_tec = names_restaurants_list.index('tacos de barbacoa enfrente del Tec')\n",
    "tacos_tec"
   ]
  },
  {
   "cell_type": "code",
   "execution_count": 205,
   "metadata": {
    "id": "4tQxQROVC9Us"
   },
   "outputs": [
    {
     "name": "stdout",
     "output_type": "stream",
     "text": [
      "  tacos de barbacoa enfrente del Tec  -  0.9999999999999998\n",
      "  vips  -  0.8171889849105267\n",
      "  tacos abi  -  0.6653053654632697\n",
      "  little pizza Emilio Portes Gil  -  0.6538492684416526\n",
      "  Taqueria EL amigo   -  0.43718420842635525\n",
      "  puesto de gorditas  -  0.4127645231848389\n",
      "  Carreton de Flautas y Migadas  -  0.40779492018129415\n",
      "  Little Cesarz  -  0.2584793854262742\n",
      "  palomo tec  -  0.19517408801078806\n",
      "  Hamburguesas La perica  -  0.19112045068235362\n",
      "  carnitas mata calle Emilio Portes Gil  -  0.17093947240846638\n"
     ]
    }
   ],
   "source": [
    "# getting the correlation values for subway\n",
    "corr_tacos = corr[tacos_tec]\n",
    "corr_tacos.shape\n",
    "\n",
    "# printing the top 10 restaurants correlation values for subway and the other restaurants\n",
    "for i in corr_tacos.argsort()[::-1][:11]:\n",
    "    if i == subway:\n",
    "        continue\n",
    "    print('  %s' % names_restaurants_list[i], ' - ', corr_tacos[i])"
   ]
  },
  {
   "cell_type": "markdown",
   "metadata": {
    "id": "W2S7LI0NC9wE"
   },
   "source": [
    "#**Ejercicio-6.**\n",
    "\n",
    "Repite los ejercicios 1 a 4 generando ahora la matriz de utilidad en la cual los renglones son los \n",
    "usuarios (user_ID), las columnas los nombres de los restaurantes (name) y las entradas la \n",
    "evaluación dada a la comida (food_rating). Incluye tus conclusiones"
   ]
  },
  {
   "cell_type": "code",
   "execution_count": 206,
   "metadata": {
    "id": "x6uBleJUC_AU"
   },
   "outputs": [
    {
     "ename": "KeyError",
     "evalue": "'food_rating'",
     "output_type": "error",
     "traceback": [
      "\u001b[0;31m---------------------------------------------------------------------------\u001b[0m",
      "\u001b[0;31mKeyError\u001b[0m                                  Traceback (most recent call last)",
      "\u001b[0;32m/var/folders/x6/ddpwbkv57sj_wps8lhjx7fn40000gn/T/ipykernel_3851/791368583.py\u001b[0m in \u001b[0;36m<module>\u001b[0;34m\u001b[0m\n\u001b[0;32m----> 1\u001b[0;31m \u001b[0mUtMx\u001b[0m \u001b[0;34m=\u001b[0m \u001b[0mdf\u001b[0m\u001b[0;34m.\u001b[0m\u001b[0mpivot_table\u001b[0m\u001b[0;34m(\u001b[0m\u001b[0mindex\u001b[0m\u001b[0;34m=\u001b[0m\u001b[0;34m'users'\u001b[0m\u001b[0;34m,\u001b[0m \u001b[0mcolumns\u001b[0m\u001b[0;34m=\u001b[0m\u001b[0;34m'names'\u001b[0m\u001b[0;34m,\u001b[0m \u001b[0mvalues\u001b[0m\u001b[0;34m=\u001b[0m\u001b[0;34m'food_rating'\u001b[0m\u001b[0;34m,\u001b[0m \u001b[0mfill_value\u001b[0m\u001b[0;34m=\u001b[0m\u001b[0;36m0\u001b[0m\u001b[0;34m)\u001b[0m\u001b[0;34m\u001b[0m\u001b[0;34m\u001b[0m\u001b[0m\n\u001b[0m\u001b[1;32m      2\u001b[0m \u001b[0;31m# UtMx = df.pivot_table(index='users', columns='names', values='food_rating', fill_value=0)\u001b[0m\u001b[0;34m\u001b[0m\u001b[0;34m\u001b[0m\u001b[0m\n\u001b[1;32m      3\u001b[0m \u001b[0;31m#validating Nan values\u001b[0m\u001b[0;34m\u001b[0m\u001b[0;34m\u001b[0m\u001b[0m\n\u001b[1;32m      4\u001b[0m \u001b[0;31m# UtMx.isnull().sum().sum()\u001b[0m\u001b[0;34m\u001b[0m\u001b[0;34m\u001b[0m\u001b[0m\n\u001b[1;32m      5\u001b[0m \u001b[0;31m# UtMx.head(10)\u001b[0m\u001b[0;34m\u001b[0m\u001b[0;34m\u001b[0m\u001b[0m\n",
      "\u001b[0;32m~/opt/anaconda3/lib/python3.9/site-packages/pandas/core/frame.py\u001b[0m in \u001b[0;36mpivot_table\u001b[0;34m(self, values, index, columns, aggfunc, fill_value, margins, dropna, margins_name, observed, sort)\u001b[0m\n\u001b[1;32m   8045\u001b[0m         \u001b[0;32mfrom\u001b[0m \u001b[0mpandas\u001b[0m\u001b[0;34m.\u001b[0m\u001b[0mcore\u001b[0m\u001b[0;34m.\u001b[0m\u001b[0mreshape\u001b[0m\u001b[0;34m.\u001b[0m\u001b[0mpivot\u001b[0m \u001b[0;32mimport\u001b[0m \u001b[0mpivot_table\u001b[0m\u001b[0;34m\u001b[0m\u001b[0;34m\u001b[0m\u001b[0m\n\u001b[1;32m   8046\u001b[0m \u001b[0;34m\u001b[0m\u001b[0m\n\u001b[0;32m-> 8047\u001b[0;31m         return pivot_table(\n\u001b[0m\u001b[1;32m   8048\u001b[0m             \u001b[0mself\u001b[0m\u001b[0;34m,\u001b[0m\u001b[0;34m\u001b[0m\u001b[0;34m\u001b[0m\u001b[0m\n\u001b[1;32m   8049\u001b[0m             \u001b[0mvalues\u001b[0m\u001b[0;34m=\u001b[0m\u001b[0mvalues\u001b[0m\u001b[0;34m,\u001b[0m\u001b[0;34m\u001b[0m\u001b[0;34m\u001b[0m\u001b[0m\n",
      "\u001b[0;32m~/opt/anaconda3/lib/python3.9/site-packages/pandas/core/reshape/pivot.py\u001b[0m in \u001b[0;36mpivot_table\u001b[0;34m(data, values, index, columns, aggfunc, fill_value, margins, dropna, margins_name, observed, sort)\u001b[0m\n\u001b[1;32m     93\u001b[0m         \u001b[0;32mreturn\u001b[0m \u001b[0mtable\u001b[0m\u001b[0;34m.\u001b[0m\u001b[0m__finalize__\u001b[0m\u001b[0;34m(\u001b[0m\u001b[0mdata\u001b[0m\u001b[0;34m,\u001b[0m \u001b[0mmethod\u001b[0m\u001b[0;34m=\u001b[0m\u001b[0;34m\"pivot_table\"\u001b[0m\u001b[0;34m)\u001b[0m\u001b[0;34m\u001b[0m\u001b[0;34m\u001b[0m\u001b[0m\n\u001b[1;32m     94\u001b[0m \u001b[0;34m\u001b[0m\u001b[0m\n\u001b[0;32m---> 95\u001b[0;31m     table = __internal_pivot_table(\n\u001b[0m\u001b[1;32m     96\u001b[0m         \u001b[0mdata\u001b[0m\u001b[0;34m,\u001b[0m\u001b[0;34m\u001b[0m\u001b[0;34m\u001b[0m\u001b[0m\n\u001b[1;32m     97\u001b[0m         \u001b[0mvalues\u001b[0m\u001b[0;34m,\u001b[0m\u001b[0;34m\u001b[0m\u001b[0;34m\u001b[0m\u001b[0m\n",
      "\u001b[0;32m~/opt/anaconda3/lib/python3.9/site-packages/pandas/core/reshape/pivot.py\u001b[0m in \u001b[0;36m__internal_pivot_table\u001b[0;34m(data, values, index, columns, aggfunc, fill_value, margins, dropna, margins_name, observed, sort)\u001b[0m\n\u001b[1;32m    139\u001b[0m         \u001b[0;32mfor\u001b[0m \u001b[0mi\u001b[0m \u001b[0;32min\u001b[0m \u001b[0mvalues\u001b[0m\u001b[0;34m:\u001b[0m\u001b[0;34m\u001b[0m\u001b[0;34m\u001b[0m\u001b[0m\n\u001b[1;32m    140\u001b[0m             \u001b[0;32mif\u001b[0m \u001b[0mi\u001b[0m \u001b[0;32mnot\u001b[0m \u001b[0;32min\u001b[0m \u001b[0mdata\u001b[0m\u001b[0;34m:\u001b[0m\u001b[0;34m\u001b[0m\u001b[0;34m\u001b[0m\u001b[0m\n\u001b[0;32m--> 141\u001b[0;31m                 \u001b[0;32mraise\u001b[0m \u001b[0mKeyError\u001b[0m\u001b[0;34m(\u001b[0m\u001b[0mi\u001b[0m\u001b[0;34m)\u001b[0m\u001b[0;34m\u001b[0m\u001b[0;34m\u001b[0m\u001b[0m\n\u001b[0m\u001b[1;32m    142\u001b[0m \u001b[0;34m\u001b[0m\u001b[0m\n\u001b[1;32m    143\u001b[0m         \u001b[0mto_filter\u001b[0m \u001b[0;34m=\u001b[0m \u001b[0;34m[\u001b[0m\u001b[0;34m]\u001b[0m\u001b[0;34m\u001b[0m\u001b[0;34m\u001b[0m\u001b[0m\n",
      "\u001b[0;31mKeyError\u001b[0m: 'food_rating'"
     ]
    }
   ],
   "source": [
    "UtMx = df.pivot_table(index='users', columns='names', values='food_rating', fill_value=0)\n",
    "# UtMx = df.pivot_table(index='users', columns='names', values='food_rating', fill_value=0)\n",
    "#validating Nan values\n",
    "# UtMx.isnull().sum().sum()\n",
    "# UtMx.head(10)"
   ]
  },
  {
   "cell_type": "code",
   "execution_count": null,
   "metadata": {
    "id": "n0P_AcyjC_Dh"
   },
   "outputs": [],
   "source": []
  },
  {
   "cell_type": "markdown",
   "metadata": {
    "id": "lUvqUSV5cd-Z"
   },
   "source": [
    "#**Ejercicio-7.**"
   ]
  },
  {
   "cell_type": "code",
   "execution_count": null,
   "metadata": {
    "id": "TmXidIqtci7D"
   },
   "outputs": [],
   "source": [
    "None"
   ]
  },
  {
   "cell_type": "code",
   "execution_count": null,
   "metadata": {
    "id": "gtaf5rUfcjgX"
   },
   "outputs": [],
   "source": []
  },
  {
   "cell_type": "markdown",
   "metadata": {
    "id": "9h9eDt6fcmBN"
   },
   "source": [
    "#**Ejercicio-8.**"
   ]
  },
  {
   "cell_type": "code",
   "execution_count": null,
   "metadata": {
    "id": "pPkwyHHMcrk0"
   },
   "outputs": [],
   "source": [
    "None"
   ]
  },
  {
   "cell_type": "code",
   "execution_count": null,
   "metadata": {
    "id": "H5Tc3QpEcrfo"
   },
   "outputs": [],
   "source": []
  },
  {
   "cell_type": "markdown",
   "metadata": {
    "id": "7ql_r2G-DB_m"
   },
   "source": [
    "###**Fin de la Actividad de la semana 10 - Sistemas de Recomendación y Reducción de Dimensionalidad con SVD.**"
   ]
  }
 ],
 "metadata": {
  "colab": {
   "collapsed_sections": [],
   "provenance": []
  },
  "kernelspec": {
   "display_name": "Python 3.9.13 ('base')",
   "language": "python",
   "name": "python3"
  },
  "language_info": {
   "codemirror_mode": {
    "name": "ipython",
    "version": 3
   },
   "file_extension": ".py",
   "mimetype": "text/x-python",
   "name": "python",
   "nbconvert_exporter": "python",
   "pygments_lexer": "ipython3",
   "version": "3.9.13"
  },
  "vscode": {
   "interpreter": {
    "hash": "c80dfec55d3a835118a35308426821e2e42521e31601159ea49a55eb05e62fdb"
   }
  }
 },
 "nbformat": 4,
 "nbformat_minor": 0
}
