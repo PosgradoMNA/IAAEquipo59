{
 "cells": [
  {
   "cell_type": "markdown",
   "metadata": {
    "id": "VFj0sSM06dYa"
   },
   "source": [
    "#**Maestría en Inteligencia Artificial Aplicada**\n",
    "##**Curso: Inteligencia Artificial y Aprendizaje Automático**\n",
    "###Tecnológico de Monterrey\n",
    "###Prof Luis Eduardo Falcón Morales\n",
    "\n",
    "## **Adtividad de la Semana 7**\n",
    "###**Red Neuronal Artificial - Perceptrón Multicapa : Multilayer Perceptrón (MLP)**\n"
   ]
  },
  {
   "cell_type": "markdown",
   "metadata": {
    "id": "Qgrvy0RGB9XI"
   },
   "source": [
    "**Nombres y matrículas de los integrantes del equipo:**\n",
    "\n",
    "*   \n",
    "*   \n",
    "*   \n",
    "*   \n",
    "*   \n"
   ]
  },
  {
   "cell_type": "markdown",
   "metadata": {
    "id": "FrJ2ahMODVj1"
   },
   "source": [
    "En cada sección deberás incluir todas las líneas de código necesarias para responder a cada uno de los ejercicios."
   ]
  },
  {
   "cell_type": "code",
   "execution_count": 74,
   "metadata": {
    "id": "exXsscs-Dh-2"
   },
   "outputs": [],
   "source": [
    "# Incluye aquí todos módulos, librerías y paquetes que requieras.\n",
    "import pandas as pd\n",
    "import numpy as np\n",
    "import seaborn as sns\n",
    "\n",
    "from sklearn.pipeline import Pipeline\n",
    "from sklearn.compose import ColumnTransformer\n",
    "from sklearn.impute import SimpleImputer\n",
    "from sklearn.preprocessing import MinMaxScaler, OneHotEncoder\n",
    "\n",
    "from sklearn.neural_network import MLPRegressor\n",
    "from sklearn.datasets import make_regression\n",
    "from sklearn.metrics import mean_squared_error, mean_absolute_percentage_error\n",
    "\n",
    "\n",
    "from sklearn.tree import DecisionTreeClassifier\n",
    "from sklearn.linear_model import LogisticRegression\n",
    "from sklearn.ensemble import RandomForestClassifier \n",
    "from sklearn.dummy import DummyRegressor\n",
    "\n",
    "from sklearn.model_selection import train_test_split \n",
    "from sklearn.metrics import confusion_matrix\n",
    "\n",
    "from sklearn.model_selection import cross_val_score\n",
    "from sklearn.model_selection import cross_val_predict\n",
    "from sklearn.model_selection import  cross_validate,  RepeatedStratifiedKFold, learning_curve, validation_curve \n",
    "from sklearn.metrics import fbeta_score, make_scorer\n",
    "\n",
    "import matplotlib.pyplot as plt\n"
   ]
  },
  {
   "cell_type": "markdown",
   "metadata": {
    "id": "X25brD-gQdZM"
   },
   "source": [
    "#**Ejercicio-1.** "
   ]
  },
  {
   "cell_type": "code",
   "execution_count": 16,
   "metadata": {
    "id": "3nU2GuWYCy6C"
   },
   "outputs": [
    {
     "data": {
      "text/html": [
       "<div>\n",
       "<style scoped>\n",
       "    .dataframe tbody tr th:only-of-type {\n",
       "        vertical-align: middle;\n",
       "    }\n",
       "\n",
       "    .dataframe tbody tr th {\n",
       "        vertical-align: top;\n",
       "    }\n",
       "\n",
       "    .dataframe thead th {\n",
       "        text-align: right;\n",
       "    }\n",
       "</style>\n",
       "<table border=\"1\" class=\"dataframe\">\n",
       "  <thead>\n",
       "    <tr style=\"text-align: right;\">\n",
       "      <th></th>\n",
       "      <th>Page total likes</th>\n",
       "      <th>Type</th>\n",
       "      <th>Category</th>\n",
       "      <th>Post Month</th>\n",
       "      <th>Post Weekday</th>\n",
       "      <th>Post Hour</th>\n",
       "      <th>Paid</th>\n",
       "      <th>Lifetime Post Total Reach</th>\n",
       "      <th>Lifetime Post Total Impressions</th>\n",
       "      <th>Lifetime Engaged Users</th>\n",
       "      <th>Lifetime Post Consumers</th>\n",
       "      <th>Lifetime Post Consumptions</th>\n",
       "      <th>Lifetime Post Impressions by people who have liked your Page</th>\n",
       "      <th>Lifetime Post reach by people who like your Page</th>\n",
       "      <th>Lifetime People who have liked your Page and engaged with your post</th>\n",
       "      <th>comment</th>\n",
       "      <th>like</th>\n",
       "      <th>share</th>\n",
       "      <th>Total Interactions</th>\n",
       "    </tr>\n",
       "  </thead>\n",
       "  <tbody>\n",
       "    <tr>\n",
       "      <th>0</th>\n",
       "      <td>139441</td>\n",
       "      <td>Photo</td>\n",
       "      <td>2</td>\n",
       "      <td>12</td>\n",
       "      <td>4</td>\n",
       "      <td>3</td>\n",
       "      <td>0.0</td>\n",
       "      <td>2752</td>\n",
       "      <td>5091</td>\n",
       "      <td>178</td>\n",
       "      <td>109</td>\n",
       "      <td>159</td>\n",
       "      <td>3078</td>\n",
       "      <td>1640</td>\n",
       "      <td>119</td>\n",
       "      <td>4</td>\n",
       "      <td>79.0</td>\n",
       "      <td>17.0</td>\n",
       "      <td>100</td>\n",
       "    </tr>\n",
       "    <tr>\n",
       "      <th>1</th>\n",
       "      <td>139441</td>\n",
       "      <td>Status</td>\n",
       "      <td>2</td>\n",
       "      <td>12</td>\n",
       "      <td>3</td>\n",
       "      <td>10</td>\n",
       "      <td>0.0</td>\n",
       "      <td>10460</td>\n",
       "      <td>19057</td>\n",
       "      <td>1457</td>\n",
       "      <td>1361</td>\n",
       "      <td>1674</td>\n",
       "      <td>11710</td>\n",
       "      <td>6112</td>\n",
       "      <td>1108</td>\n",
       "      <td>5</td>\n",
       "      <td>130.0</td>\n",
       "      <td>29.0</td>\n",
       "      <td>164</td>\n",
       "    </tr>\n",
       "    <tr>\n",
       "      <th>2</th>\n",
       "      <td>139441</td>\n",
       "      <td>Photo</td>\n",
       "      <td>3</td>\n",
       "      <td>12</td>\n",
       "      <td>3</td>\n",
       "      <td>3</td>\n",
       "      <td>0.0</td>\n",
       "      <td>2413</td>\n",
       "      <td>4373</td>\n",
       "      <td>177</td>\n",
       "      <td>113</td>\n",
       "      <td>154</td>\n",
       "      <td>2812</td>\n",
       "      <td>1503</td>\n",
       "      <td>132</td>\n",
       "      <td>0</td>\n",
       "      <td>66.0</td>\n",
       "      <td>14.0</td>\n",
       "      <td>80</td>\n",
       "    </tr>\n",
       "    <tr>\n",
       "      <th>3</th>\n",
       "      <td>139441</td>\n",
       "      <td>Photo</td>\n",
       "      <td>2</td>\n",
       "      <td>12</td>\n",
       "      <td>2</td>\n",
       "      <td>10</td>\n",
       "      <td>1.0</td>\n",
       "      <td>50128</td>\n",
       "      <td>87991</td>\n",
       "      <td>2211</td>\n",
       "      <td>790</td>\n",
       "      <td>1119</td>\n",
       "      <td>61027</td>\n",
       "      <td>32048</td>\n",
       "      <td>1386</td>\n",
       "      <td>58</td>\n",
       "      <td>1572.0</td>\n",
       "      <td>147.0</td>\n",
       "      <td>1777</td>\n",
       "    </tr>\n",
       "    <tr>\n",
       "      <th>4</th>\n",
       "      <td>139441</td>\n",
       "      <td>Photo</td>\n",
       "      <td>2</td>\n",
       "      <td>12</td>\n",
       "      <td>2</td>\n",
       "      <td>3</td>\n",
       "      <td>0.0</td>\n",
       "      <td>7244</td>\n",
       "      <td>13594</td>\n",
       "      <td>671</td>\n",
       "      <td>410</td>\n",
       "      <td>580</td>\n",
       "      <td>6228</td>\n",
       "      <td>3200</td>\n",
       "      <td>396</td>\n",
       "      <td>19</td>\n",
       "      <td>325.0</td>\n",
       "      <td>49.0</td>\n",
       "      <td>393</td>\n",
       "    </tr>\n",
       "  </tbody>\n",
       "</table>\n",
       "</div>"
      ],
      "text/plain": [
       "   Page total likes    Type  Category  Post Month  Post Weekday  Post Hour  \\\n",
       "0            139441   Photo         2          12             4          3   \n",
       "1            139441  Status         2          12             3         10   \n",
       "2            139441   Photo         3          12             3          3   \n",
       "3            139441   Photo         2          12             2         10   \n",
       "4            139441   Photo         2          12             2          3   \n",
       "\n",
       "   Paid  Lifetime Post Total Reach  Lifetime Post Total Impressions  \\\n",
       "0   0.0                       2752                             5091   \n",
       "1   0.0                      10460                            19057   \n",
       "2   0.0                       2413                             4373   \n",
       "3   1.0                      50128                            87991   \n",
       "4   0.0                       7244                            13594   \n",
       "\n",
       "   Lifetime Engaged Users  Lifetime Post Consumers  \\\n",
       "0                     178                      109   \n",
       "1                    1457                     1361   \n",
       "2                     177                      113   \n",
       "3                    2211                      790   \n",
       "4                     671                      410   \n",
       "\n",
       "   Lifetime Post Consumptions  \\\n",
       "0                         159   \n",
       "1                        1674   \n",
       "2                         154   \n",
       "3                        1119   \n",
       "4                         580   \n",
       "\n",
       "   Lifetime Post Impressions by people who have liked your Page  \\\n",
       "0                                               3078              \n",
       "1                                              11710              \n",
       "2                                               2812              \n",
       "3                                              61027              \n",
       "4                                               6228              \n",
       "\n",
       "   Lifetime Post reach by people who like your Page  \\\n",
       "0                                              1640   \n",
       "1                                              6112   \n",
       "2                                              1503   \n",
       "3                                             32048   \n",
       "4                                              3200   \n",
       "\n",
       "   Lifetime People who have liked your Page and engaged with your post  \\\n",
       "0                                                119                     \n",
       "1                                               1108                     \n",
       "2                                                132                     \n",
       "3                                               1386                     \n",
       "4                                                396                     \n",
       "\n",
       "   comment    like  share  Total Interactions  \n",
       "0        4    79.0   17.0                 100  \n",
       "1        5   130.0   29.0                 164  \n",
       "2        0    66.0   14.0                  80  \n",
       "3       58  1572.0  147.0                1777  \n",
       "4       19   325.0   49.0                 393  "
      ]
     },
     "execution_count": 16,
     "metadata": {},
     "output_type": "execute_result"
    }
   ],
   "source": [
    "# Cargamos el data set \n",
    "data = 'dataset_Facebook.csv'\n",
    "df = pd.read_csv(data, sep=\";\")\n",
    "df.head()"
   ]
  },
  {
   "cell_type": "code",
   "execution_count": 23,
   "metadata": {},
   "outputs": [
    {
     "data": {
      "text/html": [
       "<div>\n",
       "<style scoped>\n",
       "    .dataframe tbody tr th:only-of-type {\n",
       "        vertical-align: middle;\n",
       "    }\n",
       "\n",
       "    .dataframe tbody tr th {\n",
       "        vertical-align: top;\n",
       "    }\n",
       "\n",
       "    .dataframe thead th {\n",
       "        text-align: right;\n",
       "    }\n",
       "</style>\n",
       "<table border=\"1\" class=\"dataframe\">\n",
       "  <thead>\n",
       "    <tr style=\"text-align: right;\">\n",
       "      <th></th>\n",
       "      <th>Page total likes</th>\n",
       "      <th>Type</th>\n",
       "      <th>Category</th>\n",
       "      <th>Post Month</th>\n",
       "      <th>Post Weekday</th>\n",
       "      <th>Post Hour</th>\n",
       "      <th>Paid</th>\n",
       "      <th>Lifetime Post Total Reach</th>\n",
       "      <th>Lifetime Post Total Impressions</th>\n",
       "      <th>Lifetime Engaged Users</th>\n",
       "      <th>Lifetime Post Consumers</th>\n",
       "      <th>Lifetime Post Consumptions</th>\n",
       "      <th>Lifetime Post Impressions by people who have liked your Page</th>\n",
       "      <th>Lifetime Post reach by people who like your Page</th>\n",
       "      <th>LPE</th>\n",
       "      <th>comment</th>\n",
       "      <th>like</th>\n",
       "      <th>share</th>\n",
       "      <th>Total Interactions</th>\n",
       "    </tr>\n",
       "  </thead>\n",
       "  <tbody>\n",
       "    <tr>\n",
       "      <th>0</th>\n",
       "      <td>139441</td>\n",
       "      <td>Photo</td>\n",
       "      <td>2</td>\n",
       "      <td>12</td>\n",
       "      <td>4</td>\n",
       "      <td>3</td>\n",
       "      <td>0.0</td>\n",
       "      <td>2752</td>\n",
       "      <td>5091</td>\n",
       "      <td>178</td>\n",
       "      <td>109</td>\n",
       "      <td>159</td>\n",
       "      <td>3078</td>\n",
       "      <td>1640</td>\n",
       "      <td>119</td>\n",
       "      <td>4</td>\n",
       "      <td>79.0</td>\n",
       "      <td>17.0</td>\n",
       "      <td>100</td>\n",
       "    </tr>\n",
       "    <tr>\n",
       "      <th>1</th>\n",
       "      <td>139441</td>\n",
       "      <td>Status</td>\n",
       "      <td>2</td>\n",
       "      <td>12</td>\n",
       "      <td>3</td>\n",
       "      <td>10</td>\n",
       "      <td>0.0</td>\n",
       "      <td>10460</td>\n",
       "      <td>19057</td>\n",
       "      <td>1457</td>\n",
       "      <td>1361</td>\n",
       "      <td>1674</td>\n",
       "      <td>11710</td>\n",
       "      <td>6112</td>\n",
       "      <td>1108</td>\n",
       "      <td>5</td>\n",
       "      <td>130.0</td>\n",
       "      <td>29.0</td>\n",
       "      <td>164</td>\n",
       "    </tr>\n",
       "    <tr>\n",
       "      <th>2</th>\n",
       "      <td>139441</td>\n",
       "      <td>Photo</td>\n",
       "      <td>3</td>\n",
       "      <td>12</td>\n",
       "      <td>3</td>\n",
       "      <td>3</td>\n",
       "      <td>0.0</td>\n",
       "      <td>2413</td>\n",
       "      <td>4373</td>\n",
       "      <td>177</td>\n",
       "      <td>113</td>\n",
       "      <td>154</td>\n",
       "      <td>2812</td>\n",
       "      <td>1503</td>\n",
       "      <td>132</td>\n",
       "      <td>0</td>\n",
       "      <td>66.0</td>\n",
       "      <td>14.0</td>\n",
       "      <td>80</td>\n",
       "    </tr>\n",
       "    <tr>\n",
       "      <th>3</th>\n",
       "      <td>139441</td>\n",
       "      <td>Photo</td>\n",
       "      <td>2</td>\n",
       "      <td>12</td>\n",
       "      <td>2</td>\n",
       "      <td>10</td>\n",
       "      <td>1.0</td>\n",
       "      <td>50128</td>\n",
       "      <td>87991</td>\n",
       "      <td>2211</td>\n",
       "      <td>790</td>\n",
       "      <td>1119</td>\n",
       "      <td>61027</td>\n",
       "      <td>32048</td>\n",
       "      <td>1386</td>\n",
       "      <td>58</td>\n",
       "      <td>1572.0</td>\n",
       "      <td>147.0</td>\n",
       "      <td>1777</td>\n",
       "    </tr>\n",
       "    <tr>\n",
       "      <th>4</th>\n",
       "      <td>139441</td>\n",
       "      <td>Photo</td>\n",
       "      <td>2</td>\n",
       "      <td>12</td>\n",
       "      <td>2</td>\n",
       "      <td>3</td>\n",
       "      <td>0.0</td>\n",
       "      <td>7244</td>\n",
       "      <td>13594</td>\n",
       "      <td>671</td>\n",
       "      <td>410</td>\n",
       "      <td>580</td>\n",
       "      <td>6228</td>\n",
       "      <td>3200</td>\n",
       "      <td>396</td>\n",
       "      <td>19</td>\n",
       "      <td>325.0</td>\n",
       "      <td>49.0</td>\n",
       "      <td>393</td>\n",
       "    </tr>\n",
       "  </tbody>\n",
       "</table>\n",
       "</div>"
      ],
      "text/plain": [
       "   Page total likes    Type  Category  Post Month  Post Weekday  Post Hour  \\\n",
       "0            139441   Photo         2          12             4          3   \n",
       "1            139441  Status         2          12             3         10   \n",
       "2            139441   Photo         3          12             3          3   \n",
       "3            139441   Photo         2          12             2         10   \n",
       "4            139441   Photo         2          12             2          3   \n",
       "\n",
       "   Paid  Lifetime Post Total Reach  Lifetime Post Total Impressions  \\\n",
       "0   0.0                       2752                             5091   \n",
       "1   0.0                      10460                            19057   \n",
       "2   0.0                       2413                             4373   \n",
       "3   1.0                      50128                            87991   \n",
       "4   0.0                       7244                            13594   \n",
       "\n",
       "   Lifetime Engaged Users  Lifetime Post Consumers  \\\n",
       "0                     178                      109   \n",
       "1                    1457                     1361   \n",
       "2                     177                      113   \n",
       "3                    2211                      790   \n",
       "4                     671                      410   \n",
       "\n",
       "   Lifetime Post Consumptions  \\\n",
       "0                         159   \n",
       "1                        1674   \n",
       "2                         154   \n",
       "3                        1119   \n",
       "4                         580   \n",
       "\n",
       "   Lifetime Post Impressions by people who have liked your Page  \\\n",
       "0                                               3078              \n",
       "1                                              11710              \n",
       "2                                               2812              \n",
       "3                                              61027              \n",
       "4                                               6228              \n",
       "\n",
       "   Lifetime Post reach by people who like your Page   LPE  comment    like  \\\n",
       "0                                              1640   119        4    79.0   \n",
       "1                                              6112  1108        5   130.0   \n",
       "2                                              1503   132        0    66.0   \n",
       "3                                             32048  1386       58  1572.0   \n",
       "4                                              3200   396       19   325.0   \n",
       "\n",
       "   share  Total Interactions  \n",
       "0   17.0                 100  \n",
       "1   29.0                 164  \n",
       "2   14.0                  80  \n",
       "3  147.0                1777  \n",
       "4   49.0                 393  "
      ]
     },
     "execution_count": 23,
     "metadata": {},
     "output_type": "execute_result"
    }
   ],
   "source": [
    "# Cambiamos el nombre del feature Lifetime People who have liked a Page and engaged with a post'.\n",
    "\n",
    "ndf = df.copy()\n",
    "ndf.rename(columns={'Lifetime People who have liked your Page and engaged with your post': 'LPE'}, inplace=True)\n",
    "ndf.head()"
   ]
  },
  {
   "cell_type": "code",
   "execution_count": 49,
   "metadata": {},
   "outputs": [
    {
     "data": {
      "text/html": [
       "<div>\n",
       "<style scoped>\n",
       "    .dataframe tbody tr th:only-of-type {\n",
       "        vertical-align: middle;\n",
       "    }\n",
       "\n",
       "    .dataframe tbody tr th {\n",
       "        vertical-align: top;\n",
       "    }\n",
       "\n",
       "    .dataframe thead th {\n",
       "        text-align: right;\n",
       "    }\n",
       "</style>\n",
       "<table border=\"1\" class=\"dataframe\">\n",
       "  <thead>\n",
       "    <tr style=\"text-align: right;\">\n",
       "      <th></th>\n",
       "      <th>Page total likes</th>\n",
       "      <th>Type</th>\n",
       "      <th>Category</th>\n",
       "      <th>Post Month</th>\n",
       "      <th>Post Weekday</th>\n",
       "      <th>Post Hour</th>\n",
       "      <th>Paid</th>\n",
       "    </tr>\n",
       "  </thead>\n",
       "  <tbody>\n",
       "    <tr>\n",
       "      <th>0</th>\n",
       "      <td>139441</td>\n",
       "      <td>Photo</td>\n",
       "      <td>2</td>\n",
       "      <td>12</td>\n",
       "      <td>4</td>\n",
       "      <td>3</td>\n",
       "      <td>0.0</td>\n",
       "    </tr>\n",
       "    <tr>\n",
       "      <th>1</th>\n",
       "      <td>139441</td>\n",
       "      <td>Status</td>\n",
       "      <td>2</td>\n",
       "      <td>12</td>\n",
       "      <td>3</td>\n",
       "      <td>10</td>\n",
       "      <td>0.0</td>\n",
       "    </tr>\n",
       "    <tr>\n",
       "      <th>2</th>\n",
       "      <td>139441</td>\n",
       "      <td>Photo</td>\n",
       "      <td>3</td>\n",
       "      <td>12</td>\n",
       "      <td>3</td>\n",
       "      <td>3</td>\n",
       "      <td>0.0</td>\n",
       "    </tr>\n",
       "    <tr>\n",
       "      <th>3</th>\n",
       "      <td>139441</td>\n",
       "      <td>Photo</td>\n",
       "      <td>2</td>\n",
       "      <td>12</td>\n",
       "      <td>2</td>\n",
       "      <td>10</td>\n",
       "      <td>1.0</td>\n",
       "    </tr>\n",
       "    <tr>\n",
       "      <th>4</th>\n",
       "      <td>139441</td>\n",
       "      <td>Photo</td>\n",
       "      <td>2</td>\n",
       "      <td>12</td>\n",
       "      <td>2</td>\n",
       "      <td>3</td>\n",
       "      <td>0.0</td>\n",
       "    </tr>\n",
       "    <tr>\n",
       "      <th>...</th>\n",
       "      <td>...</td>\n",
       "      <td>...</td>\n",
       "      <td>...</td>\n",
       "      <td>...</td>\n",
       "      <td>...</td>\n",
       "      <td>...</td>\n",
       "      <td>...</td>\n",
       "    </tr>\n",
       "    <tr>\n",
       "      <th>495</th>\n",
       "      <td>85093</td>\n",
       "      <td>Photo</td>\n",
       "      <td>3</td>\n",
       "      <td>1</td>\n",
       "      <td>7</td>\n",
       "      <td>2</td>\n",
       "      <td>0.0</td>\n",
       "    </tr>\n",
       "    <tr>\n",
       "      <th>496</th>\n",
       "      <td>81370</td>\n",
       "      <td>Photo</td>\n",
       "      <td>2</td>\n",
       "      <td>1</td>\n",
       "      <td>5</td>\n",
       "      <td>8</td>\n",
       "      <td>0.0</td>\n",
       "    </tr>\n",
       "    <tr>\n",
       "      <th>497</th>\n",
       "      <td>81370</td>\n",
       "      <td>Photo</td>\n",
       "      <td>1</td>\n",
       "      <td>1</td>\n",
       "      <td>5</td>\n",
       "      <td>2</td>\n",
       "      <td>0.0</td>\n",
       "    </tr>\n",
       "    <tr>\n",
       "      <th>498</th>\n",
       "      <td>81370</td>\n",
       "      <td>Photo</td>\n",
       "      <td>3</td>\n",
       "      <td>1</td>\n",
       "      <td>4</td>\n",
       "      <td>11</td>\n",
       "      <td>0.0</td>\n",
       "    </tr>\n",
       "    <tr>\n",
       "      <th>499</th>\n",
       "      <td>81370</td>\n",
       "      <td>Photo</td>\n",
       "      <td>2</td>\n",
       "      <td>1</td>\n",
       "      <td>4</td>\n",
       "      <td>4</td>\n",
       "      <td>NaN</td>\n",
       "    </tr>\n",
       "  </tbody>\n",
       "</table>\n",
       "<p>500 rows × 7 columns</p>\n",
       "</div>"
      ],
      "text/plain": [
       "     Page total likes    Type  Category  Post Month  Post Weekday  Post Hour  \\\n",
       "0              139441   Photo         2          12             4          3   \n",
       "1              139441  Status         2          12             3         10   \n",
       "2              139441   Photo         3          12             3          3   \n",
       "3              139441   Photo         2          12             2         10   \n",
       "4              139441   Photo         2          12             2          3   \n",
       "..                ...     ...       ...         ...           ...        ...   \n",
       "495             85093   Photo         3           1             7          2   \n",
       "496             81370   Photo         2           1             5          8   \n",
       "497             81370   Photo         1           1             5          2   \n",
       "498             81370   Photo         3           1             4         11   \n",
       "499             81370   Photo         2           1             4          4   \n",
       "\n",
       "     Paid  \n",
       "0     0.0  \n",
       "1     0.0  \n",
       "2     0.0  \n",
       "3     1.0  \n",
       "4     0.0  \n",
       "..    ...  \n",
       "495   0.0  \n",
       "496   0.0  \n",
       "497   0.0  \n",
       "498   0.0  \n",
       "499   NaN  \n",
       "\n",
       "[500 rows x 7 columns]"
      ]
     },
     "execution_count": 49,
     "metadata": {},
     "output_type": "execute_result"
    }
   ],
   "source": [
    "# Seleccionamos las variables de entrada X\n",
    "# variable de salida Lifetime People who have liked your Page and engaged with your post - LPE\n",
    "\n",
    "X, y = ndf.iloc[:,:7], ndf.iloc[:,14]\n",
    "X"
   ]
  },
  {
   "cell_type": "markdown",
   "metadata": {
    "id": "xZhr2hkECzVv"
   },
   "source": [
    "#**Ejercicio-2.**"
   ]
  },
  {
   "cell_type": "code",
   "execution_count": 50,
   "metadata": {
    "id": "kGfAoOPkC1PP"
   },
   "outputs": [
    {
     "name": "stdout",
     "output_type": "stream",
     "text": [
      "(400, 7) : dimensión de datos de entrada para entrenamiento\n",
      "(100, 7) : dimensión de datos de entrada para prueba\n",
      "(400,) : dimensión de variable de salida para entrenamiento\n",
      "(100,) : dimensión de variable de salida para prueba\n"
     ]
    }
   ],
   "source": [
    "#Partición de datos\n",
    "Xtrain, Xtest, Ytrain, Ytest = train_test_split(X, y, test_size = 0.20, random_state = 7)\n",
    " \n",
    "\n",
    "print(Xtrain.shape, ': dimensión de datos de entrada para entrenamiento')\n",
    "print(Xtest.shape, ': dimensión de datos de entrada para prueba')  \n",
    "\n",
    "print(Ytrain.shape, ': dimensión de variable de salida para entrenamiento')\n",
    "print(Ytest.shape, ': dimensión de variable de salida para prueba')"
   ]
  },
  {
   "cell_type": "markdown",
   "metadata": {
    "id": "NCunuooTC2W3"
   },
   "source": [
    "#**Ejercicio-3.**"
   ]
  },
  {
   "cell_type": "code",
   "execution_count": 80,
   "metadata": {
    "id": "YXlcSWA-C4Dj"
   },
   "outputs": [],
   "source": [
    "# Incluye aquí las líneas de código que definan a la función: mi_RMSE:\n",
    "def mi_RMSE(y_true, y_pred):\n",
    "    return (np.mean(np.square(y_true - y_pred)))**(1/2)\n",
    "\n",
    "\n",
    "# Incluye aquí las líneas de código que definan a la función: mi_MAE:\n",
    "def mi_MAE(y_true, y_pred): \n",
    "    return np.mean(np.abs(y_true - y_pred))\n",
    "\n",
    "\n",
    "# Incluye aquí las líneas de código que definan a la función: mi_MAPE:\n",
    "def mi_MAPE(y_true, y_pred):\n",
    "    return (np.mean((np.abs(y_true - y_pred)/y_true)))*100"
   ]
  },
  {
   "cell_type": "markdown",
   "metadata": {
    "id": "chqk9jIDC5Pq"
   },
   "source": [
    "#**Ejercicio-4.**"
   ]
  },
  {
   "cell_type": "code",
   "execution_count": 52,
   "metadata": {
    "id": "RBVSFwK4C6g9"
   },
   "outputs": [
    {
     "data": {
      "text/plain": [
       "Page total likes                                                0\n",
       "Type                                                            0\n",
       "Category                                                        0\n",
       "Post Month                                                      0\n",
       "Post Weekday                                                    0\n",
       "Post Hour                                                       0\n",
       "Paid                                                            1\n",
       "Lifetime Post Total Reach                                       0\n",
       "Lifetime Post Total Impressions                                 0\n",
       "Lifetime Engaged Users                                          0\n",
       "Lifetime Post Consumers                                         0\n",
       "Lifetime Post Consumptions                                      0\n",
       "Lifetime Post Impressions by people who have liked your Page    0\n",
       "Lifetime Post reach by people who like your Page                0\n",
       "LPE                                                             0\n",
       "comment                                                         0\n",
       "like                                                            1\n",
       "share                                                           4\n",
       "Total Interactions                                              0\n",
       "dtype: int64"
      ]
     },
     "execution_count": 52,
     "metadata": {},
     "output_type": "execute_result"
    }
   ],
   "source": [
    "# Exploración variables \n",
    "# Buscamos valores nulos - NA \n",
    "ndf.isna().sum()"
   ]
  },
  {
   "cell_type": "code",
   "execution_count": 65,
   "metadata": {},
   "outputs": [
    {
     "data": {
      "image/png": "[encoded data removed]",
      "text/plain": [
       "<Figure size 648x432 with 2 Axes>"
      ]
     },
     "metadata": {},
     "output_type": "display_data"
    }
   ],
   "source": [
    "# Calculamos matriz de correlación entre las variables de entrada \n",
    "\n",
    "sns.set(rc={'figure.figsize':(9,6)})\n",
    "\n",
    "sns.heatmap(X.corr(), vmin=-1, vmax=1, annot=True, cmap='BuGn')\n",
    "plt.show()"
   ]
  },
  {
   "cell_type": "code",
   "execution_count": 53,
   "metadata": {},
   "outputs": [
    {
     "name": "stdout",
     "output_type": "stream",
     "text": [
      "<class 'pandas.core.frame.DataFrame'>\n",
      "RangeIndex: 500 entries, 0 to 499\n",
      "Data columns (total 19 columns):\n",
      " #   Column                                                        Non-Null Count  Dtype  \n",
      "---  ------                                                        --------------  -----  \n",
      " 0   Page total likes                                              500 non-null    int64  \n",
      " 1   Type                                                          500 non-null    object \n",
      " 2   Category                                                      500 non-null    int64  \n",
      " 3   Post Month                                                    500 non-null    int64  \n",
      " 4   Post Weekday                                                  500 non-null    int64  \n",
      " 5   Post Hour                                                     500 non-null    int64  \n",
      " 6   Paid                                                          499 non-null    float64\n",
      " 7   Lifetime Post Total Reach                                     500 non-null    int64  \n",
      " 8   Lifetime Post Total Impressions                               500 non-null    int64  \n",
      " 9   Lifetime Engaged Users                                        500 non-null    int64  \n",
      " 10  Lifetime Post Consumers                                       500 non-null    int64  \n",
      " 11  Lifetime Post Consumptions                                    500 non-null    int64  \n",
      " 12  Lifetime Post Impressions by people who have liked your Page  500 non-null    int64  \n",
      " 13  Lifetime Post reach by people who like your Page              500 non-null    int64  \n",
      " 14  LPE                                                           500 non-null    int64  \n",
      " 15  comment                                                       500 non-null    int64  \n",
      " 16  like                                                          499 non-null    float64\n",
      " 17  share                                                         496 non-null    float64\n",
      " 18  Total Interactions                                            500 non-null    int64  \n",
      "dtypes: float64(3), int64(15), object(1)\n",
      "memory usage: 74.3+ KB\n"
     ]
    }
   ],
   "source": [
    "# \n",
    "ndf.info()"
   ]
  },
  {
   "cell_type": "code",
   "execution_count": 68,
   "metadata": {
    "id": "7KXnlNzAC69Y"
   },
   "outputs": [
    {
     "data": {
      "image/png": "[encoded data removed]",
      "text/plain": [
       "<Figure size 1080x1080 with 5 Axes>"
      ]
     },
     "metadata": {},
     "output_type": "display_data"
    }
   ],
   "source": [
    "# Agregamos histogramas para validar distribución de las variables de entrada\n",
    "\n",
    "variables = ['Page total likes', 'Post Month', 'Post Hour', 'Post Weekday', 'Paid']\n",
    "sns.set(rc={'figure.figsize':(15,15)}) \n",
    "\n",
    "for x in range(0,5):\n",
    "    plt.subplot(3,3, x+1) \n",
    "    var = ndf[variables[x]]\n",
    "    \n",
    "    plt.hist(var, bins=20)\n",
    "    plt.xlabel(variables[x])\n",
    "plt.show()"
   ]
  },
  {
   "cell_type": "markdown",
   "metadata": {},
   "source": [
    "- Podemos observar que la variable 'Page total likes' tiene una distribución ajustada a la derecha, debemos aplicar un ajuste para tener una distribución homogénea, así como un escalamiento en los datos para que estos no tengan mayor peso en las ponderaciones de los modelos.\n",
    "- La variable Post Hour con una distribución ajustada a la izquierda con algunas ondulaciones.\n",
    "- Post Month y Post Weekday cuentan con una distribución con multiples variaciones, lo que nos indica "
   ]
  },
  {
   "cell_type": "code",
   "execution_count": 66,
   "metadata": {},
   "outputs": [
    {
     "data": {
      "image/png": "[encoded data removed]",
      "text/plain": [
       "<Figure size 648x432 with 1 Axes>"
      ]
     },
     "metadata": {},
     "output_type": "display_data"
    }
   ],
   "source": [
    "# Analizamos distribución variable de salisa - LPE\n",
    "\n",
    "plt.hist(y, bins=20)\n",
    "plt.xlabel('LPE')\n",
    "plt.show()"
   ]
  },
  {
   "cell_type": "markdown",
   "metadata": {},
   "source": [
    "- La variable de salida LPE tiene distribución ajustada a la izquierda."
   ]
  },
  {
   "cell_type": "code",
   "execution_count": 101,
   "metadata": {},
   "outputs": [],
   "source": [
    "# Se realizan transformaciones e imputaciones sobre las variables\n",
    "var_numericas = ['Page total likes']\n",
    "var_ordinales = ['Post Month', 'Post Hour','Post Weekday']\n",
    "var_binarias = ['Paid']\n",
    "var_categoricas = ['Type']\n",
    "\n",
    "# Imputación variables númericas de entrada- media\n",
    "\n",
    "num_pipeline = Pipeline(steps = [('impMediana', SimpleImputer(strategy='median')),\n",
    "                                ('escalaNum', MinMaxScaler(feature_range=(1,2)))])\n",
    "\n",
    "\n",
    "# Imputación variables discretas de entrada\n",
    "\n",
    "ord_pipeline = Pipeline(steps = [('impModa', SimpleImputer(strategy='most_frequent'))])\n",
    "\n",
    "# Imputación variables binarias de entrada\n",
    "\n",
    "bin_pipeline = Pipeline(steps = [('impModa', SimpleImputer(strategy='most_frequent')),\n",
    "                                 ('oneHotE', OneHotEncoder(handle_unknown='ignore'))])\n",
    "\n",
    "# Imputación variables catégoricas de entrada - One-Hot encoding\n",
    "\n",
    "cat_pipeline = Pipeline(steps = [('impModa', SimpleImputer(strategy='most_frequent')),\n",
    "                                 ('oneHotE', OneHotEncoder(handle_unknown='ignore'))])\n",
    "\n",
    "# Aplicamos las tranformaciones definidas en los pipelines para las variables de entrada\n",
    "\n",
    "colunmTransformer = ColumnTransformer(transformers= [('numpipe', num_pipeline, var_numericas),\n",
    "                                                     ('ordpipe', ord_pipeline, var_ordinales),\n",
    "                                                     ('catpipe', cat_pipeline, var_categoricas),\n",
    "                                                     ('catbin', bin_pipeline, var_binarias),],\n",
    "                                     remainder='passthrough')\n"
   ]
  },
  {
   "cell_type": "markdown",
   "metadata": {
    "id": "Rv7KFq-mC7PS"
   },
   "source": [
    "#**Ejercicio-5.**"
   ]
  },
  {
   "cell_type": "code",
   "execution_count": 111,
   "metadata": {
    "id": "jaDj3kawC9B6"
   },
   "outputs": [
    {
     "name": "stdout",
     "output_type": "stream",
     "text": [
      "(300, 7) : dimensión de datos de entrada para entrenamiento\n",
      "(100,) : dimensión de datos de entrada para prueba\n"
     ]
    }
   ],
   "source": [
    "# Dividimos nuestros datos de entrenamiento y validación \n",
    "\n",
    "#Partición de datos\n",
    "X_train, X_test, Y_train, Y_test = train_test_split(Xtrain, Ytrain, test_size = 0.25, random_state = 7)\n",
    " \n",
    "\n",
    "print(X_train.shape, ': dimensión de datos de entrada para entrenamiento')\n",
    "print(Y_test.shape, ': dimensión de datos de entrada para prueba')"
   ]
  },
  {
   "cell_type": "code",
   "execution_count": 120,
   "metadata": {},
   "outputs": [
    {
     "name": "stdout",
     "output_type": "stream",
     "text": [
      "***** Entrenamiento *****\n",
      "mean RMSE: 565.661 (57.1001) \n",
      "mean MAE: 386.273 (29.7952) \n",
      "mean MAPE: 92.720 (7.3850)\n",
      "\n",
      "***** Validación *****\n",
      "mean RMSE: 565.123 (57.1545) \n",
      "mean MAE: 384.359 (17.0836) \n",
      "mean MAPE: 92.225 (1.5604)\n",
      "\n"
     ]
    },
    {
     "name": "stderr",
     "output_type": "stream",
     "text": [
      "/Users/elberaguilar/opt/anaconda3/lib/python3.9/site-packages/sklearn/model_selection/_split.py:684: UserWarning: The least populated class in y has only 1 members, which is less than n_splits=2.\n",
      "  warnings.warn(\n",
      "/Users/elberaguilar/opt/anaconda3/lib/python3.9/site-packages/sklearn/model_selection/_split.py:684: UserWarning: The least populated class in y has only 1 members, which is less than n_splits=2.\n",
      "  warnings.warn(\n"
     ]
    }
   ],
   "source": [
    "# Utilizamos la función DummyRegressor\n",
    "resultados = list()\n",
    "\n",
    "model = DummyRegressor(strategy=\"mean\")\n",
    "pipeline = Pipeline(steps=[('ct', colunmTransformer), ('m', model)])\n",
    "    \n",
    "kfold = RepeatedStratifiedKFold(n_splits=2, n_repeats=2, random_state=0)\n",
    "                       \n",
    "mismetricas = {'RMSE': make_scorer(mi_RMSE),\n",
    "               'MAE': make_scorer(mi_MAE),\n",
    "               'MAPE': make_scorer(mi_MAPE)}\n",
    "                        \n",
    "resultadosImp = cross_validate(pipeline,\n",
    "                               X_test, Y_test,\n",
    "                               scoring=mismetricas,\n",
    "                               cv=kfold,\n",
    "                               return_train_score=True)\n",
    "                        \n",
    "resultados.append(resultadosImp)\n",
    "                        \n",
    "print(\"***** Entrenamiento *****\")\n",
    "    \n",
    "    \n",
    "print('mean RMSE: %.3f (%.4f) \\nmean MAE: %.3f (%.4f) \\nmean MAPE: %.3f (%.4f)\\n' % (np.mean(resultadosImp['test_RMSE']),\n",
    "                                                                          np.std(resultadosImp['test_RMSE']),\n",
    "                                                                          np.mean(resultadosImp['test_MAE']),\n",
    "                                                                          np.std(resultadosImp['test_MAE']),\n",
    "                                                                          np.mean(resultadosImp['test_MAPE']),\n",
    "                                                                          np.std(resultadosImp['test_MAPE']), \n",
    "                                                                          ))\n",
    "\n",
    "    \n",
    "print(\"***** Validación *****\")\n",
    "    \n",
    "print('mean RMSE: %.3f (%.4f) \\nmean MAE: %.3f (%.4f) \\nmean MAPE: %.3f (%.4f)\\n' % (np.mean(resultadosImp['train_RMSE']),\n",
    "                                                                          np.std(resultadosImp['train_RMSE']),\n",
    "                                                                          np.mean(resultadosImp['train_MAE']),\n",
    "                                                                          np.std(resultadosImp['train_MAE']),\n",
    "                                                                          np.mean(resultadosImp['train_MAPE']),\n",
    "                                                                          np.std(resultadosImp['train_MAPE']), \n",
    "                                                                          ))"
   ]
  },
  {
   "cell_type": "code",
   "execution_count": null,
   "metadata": {
    "id": "4tQxQROVC9Us"
   },
   "outputs": [],
   "source": []
  },
  {
   "cell_type": "markdown",
   "metadata": {
    "id": "W2S7LI0NC9wE"
   },
   "source": [
    "#**Ejercicio-6.**"
   ]
  },
  {
   "cell_type": "code",
   "execution_count": 121,
   "metadata": {
    "id": "x6uBleJUC_AU"
   },
   "outputs": [],
   "source": [
    "# Definición modelos a implementar\n",
    "\n",
    "def getModelos():\n",
    "    modelos, nombres = list(), list()\n",
    "    \n",
    "    # Regresión Logística\n",
    "    modelos.append(LogisticRegression())\n",
    "    nombres.append('LR')\n",
    "    \n",
    "    # Bosque Aleatorio\n",
    "    modelos.append(RandomForestClassifier())\n",
    "    nombres.append('RFC')\n",
    "    \n",
    "    # Perceptrón multicapa\n",
    "    modelos.append(MLPRegressor())\n",
    "    nombres.append('MLP')\n",
    "    \n",
    "    return modelos, nombres"
   ]
  },
  {
   "cell_type": "code",
   "execution_count": 126,
   "metadata": {
    "id": "n0P_AcyjC_Dh"
   },
   "outputs": [
    {
     "name": "stderr",
     "output_type": "stream",
     "text": [
      "/Users/elberaguilar/opt/anaconda3/lib/python3.9/site-packages/sklearn/model_selection/_split.py:684: UserWarning: The least populated class in y has only 1 members, which is less than n_splits=5.\n",
      "  warnings.warn(\n",
      "/Users/elberaguilar/opt/anaconda3/lib/python3.9/site-packages/sklearn/linear_model/_logistic.py:444: ConvergenceWarning: lbfgs failed to converge (status=1):\n",
      "STOP: TOTAL NO. of ITERATIONS REACHED LIMIT.\n",
      "\n",
      "Increase the number of iterations (max_iter) or scale the data as shown in:\n",
      "    https://scikit-learn.org/stable/modules/preprocessing.html\n",
      "Please also refer to the documentation for alternative solver options:\n",
      "    https://scikit-learn.org/stable/modules/linear_model.html#logistic-regression\n",
      "  n_iter_i = _check_optimize_result(\n",
      "/Users/elberaguilar/opt/anaconda3/lib/python3.9/site-packages/sklearn/linear_model/_logistic.py:444: ConvergenceWarning: lbfgs failed to converge (status=1):\n",
      "STOP: TOTAL NO. of ITERATIONS REACHED LIMIT.\n",
      "\n",
      "Increase the number of iterations (max_iter) or scale the data as shown in:\n",
      "    https://scikit-learn.org/stable/modules/preprocessing.html\n",
      "Please also refer to the documentation for alternative solver options:\n",
      "    https://scikit-learn.org/stable/modules/linear_model.html#logistic-regression\n",
      "  n_iter_i = _check_optimize_result(\n",
      "/Users/elberaguilar/opt/anaconda3/lib/python3.9/site-packages/sklearn/linear_model/_logistic.py:444: ConvergenceWarning: lbfgs failed to converge (status=1):\n",
      "STOP: TOTAL NO. of ITERATIONS REACHED LIMIT.\n",
      "\n",
      "Increase the number of iterations (max_iter) or scale the data as shown in:\n",
      "    https://scikit-learn.org/stable/modules/preprocessing.html\n",
      "Please also refer to the documentation for alternative solver options:\n",
      "    https://scikit-learn.org/stable/modules/linear_model.html#logistic-regression\n",
      "  n_iter_i = _check_optimize_result(\n",
      "/Users/elberaguilar/opt/anaconda3/lib/python3.9/site-packages/sklearn/linear_model/_logistic.py:444: ConvergenceWarning: lbfgs failed to converge (status=1):\n",
      "STOP: TOTAL NO. of ITERATIONS REACHED LIMIT.\n",
      "\n",
      "Increase the number of iterations (max_iter) or scale the data as shown in:\n",
      "    https://scikit-learn.org/stable/modules/preprocessing.html\n",
      "Please also refer to the documentation for alternative solver options:\n",
      "    https://scikit-learn.org/stable/modules/linear_model.html#logistic-regression\n",
      "  n_iter_i = _check_optimize_result(\n",
      "/Users/elberaguilar/opt/anaconda3/lib/python3.9/site-packages/sklearn/linear_model/_logistic.py:444: ConvergenceWarning: lbfgs failed to converge (status=1):\n",
      "STOP: TOTAL NO. of ITERATIONS REACHED LIMIT.\n",
      "\n",
      "Increase the number of iterations (max_iter) or scale the data as shown in:\n",
      "    https://scikit-learn.org/stable/modules/preprocessing.html\n",
      "Please also refer to the documentation for alternative solver options:\n",
      "    https://scikit-learn.org/stable/modules/linear_model.html#logistic-regression\n",
      "  n_iter_i = _check_optimize_result(\n",
      "/Users/elberaguilar/opt/anaconda3/lib/python3.9/site-packages/sklearn/model_selection/_split.py:684: UserWarning: The least populated class in y has only 1 members, which is less than n_splits=5.\n",
      "  warnings.warn(\n",
      "/Users/elberaguilar/opt/anaconda3/lib/python3.9/site-packages/sklearn/linear_model/_logistic.py:444: ConvergenceWarning: lbfgs failed to converge (status=1):\n",
      "STOP: TOTAL NO. of ITERATIONS REACHED LIMIT.\n",
      "\n",
      "Increase the number of iterations (max_iter) or scale the data as shown in:\n",
      "    https://scikit-learn.org/stable/modules/preprocessing.html\n",
      "Please also refer to the documentation for alternative solver options:\n",
      "    https://scikit-learn.org/stable/modules/linear_model.html#logistic-regression\n",
      "  n_iter_i = _check_optimize_result(\n",
      "/Users/elberaguilar/opt/anaconda3/lib/python3.9/site-packages/sklearn/linear_model/_logistic.py:444: ConvergenceWarning: lbfgs failed to converge (status=1):\n",
      "STOP: TOTAL NO. of ITERATIONS REACHED LIMIT.\n",
      "\n",
      "Increase the number of iterations (max_iter) or scale the data as shown in:\n",
      "    https://scikit-learn.org/stable/modules/preprocessing.html\n",
      "Please also refer to the documentation for alternative solver options:\n",
      "    https://scikit-learn.org/stable/modules/linear_model.html#logistic-regression\n",
      "  n_iter_i = _check_optimize_result(\n",
      "/Users/elberaguilar/opt/anaconda3/lib/python3.9/site-packages/sklearn/linear_model/_logistic.py:444: ConvergenceWarning: lbfgs failed to converge (status=1):\n",
      "STOP: TOTAL NO. of ITERATIONS REACHED LIMIT.\n",
      "\n",
      "Increase the number of iterations (max_iter) or scale the data as shown in:\n",
      "    https://scikit-learn.org/stable/modules/preprocessing.html\n",
      "Please also refer to the documentation for alternative solver options:\n",
      "    https://scikit-learn.org/stable/modules/linear_model.html#logistic-regression\n",
      "  n_iter_i = _check_optimize_result(\n",
      "/Users/elberaguilar/opt/anaconda3/lib/python3.9/site-packages/sklearn/linear_model/_logistic.py:444: ConvergenceWarning: lbfgs failed to converge (status=1):\n",
      "STOP: TOTAL NO. of ITERATIONS REACHED LIMIT.\n",
      "\n",
      "Increase the number of iterations (max_iter) or scale the data as shown in:\n",
      "    https://scikit-learn.org/stable/modules/preprocessing.html\n",
      "Please also refer to the documentation for alternative solver options:\n",
      "    https://scikit-learn.org/stable/modules/linear_model.html#logistic-regression\n",
      "  n_iter_i = _check_optimize_result(\n",
      "/Users/elberaguilar/opt/anaconda3/lib/python3.9/site-packages/sklearn/linear_model/_logistic.py:444: ConvergenceWarning: lbfgs failed to converge (status=1):\n",
      "STOP: TOTAL NO. of ITERATIONS REACHED LIMIT.\n",
      "\n",
      "Increase the number of iterations (max_iter) or scale the data as shown in:\n",
      "    https://scikit-learn.org/stable/modules/preprocessing.html\n",
      "Please also refer to the documentation for alternative solver options:\n",
      "    https://scikit-learn.org/stable/modules/linear_model.html#logistic-regression\n",
      "  n_iter_i = _check_optimize_result(\n",
      "/Users/elberaguilar/opt/anaconda3/lib/python3.9/site-packages/sklearn/model_selection/_split.py:684: UserWarning: The least populated class in y has only 1 members, which is less than n_splits=5.\n",
      "  warnings.warn(\n",
      "/Users/elberaguilar/opt/anaconda3/lib/python3.9/site-packages/sklearn/linear_model/_logistic.py:444: ConvergenceWarning: lbfgs failed to converge (status=1):\n",
      "STOP: TOTAL NO. of ITERATIONS REACHED LIMIT.\n",
      "\n",
      "Increase the number of iterations (max_iter) or scale the data as shown in:\n",
      "    https://scikit-learn.org/stable/modules/preprocessing.html\n",
      "Please also refer to the documentation for alternative solver options:\n",
      "    https://scikit-learn.org/stable/modules/linear_model.html#logistic-regression\n",
      "  n_iter_i = _check_optimize_result(\n",
      "/Users/elberaguilar/opt/anaconda3/lib/python3.9/site-packages/sklearn/linear_model/_logistic.py:444: ConvergenceWarning: lbfgs failed to converge (status=1):\n",
      "STOP: TOTAL NO. of ITERATIONS REACHED LIMIT.\n",
      "\n",
      "Increase the number of iterations (max_iter) or scale the data as shown in:\n",
      "    https://scikit-learn.org/stable/modules/preprocessing.html\n",
      "Please also refer to the documentation for alternative solver options:\n",
      "    https://scikit-learn.org/stable/modules/linear_model.html#logistic-regression\n",
      "  n_iter_i = _check_optimize_result(\n",
      "/Users/elberaguilar/opt/anaconda3/lib/python3.9/site-packages/sklearn/linear_model/_logistic.py:444: ConvergenceWarning: lbfgs failed to converge (status=1):\n",
      "STOP: TOTAL NO. of ITERATIONS REACHED LIMIT.\n",
      "\n",
      "Increase the number of iterations (max_iter) or scale the data as shown in:\n",
      "    https://scikit-learn.org/stable/modules/preprocessing.html\n",
      "Please also refer to the documentation for alternative solver options:\n",
      "    https://scikit-learn.org/stable/modules/linear_model.html#logistic-regression\n",
      "  n_iter_i = _check_optimize_result(\n",
      "/Users/elberaguilar/opt/anaconda3/lib/python3.9/site-packages/sklearn/linear_model/_logistic.py:444: ConvergenceWarning: lbfgs failed to converge (status=1):\n",
      "STOP: TOTAL NO. of ITERATIONS REACHED LIMIT.\n",
      "\n",
      "Increase the number of iterations (max_iter) or scale the data as shown in:\n",
      "    https://scikit-learn.org/stable/modules/preprocessing.html\n",
      "Please also refer to the documentation for alternative solver options:\n",
      "    https://scikit-learn.org/stable/modules/linear_model.html#logistic-regression\n",
      "  n_iter_i = _check_optimize_result(\n",
      "/Users/elberaguilar/opt/anaconda3/lib/python3.9/site-packages/sklearn/linear_model/_logistic.py:444: ConvergenceWarning: lbfgs failed to converge (status=1):\n",
      "STOP: TOTAL NO. of ITERATIONS REACHED LIMIT.\n",
      "\n",
      "Increase the number of iterations (max_iter) or scale the data as shown in:\n",
      "    https://scikit-learn.org/stable/modules/preprocessing.html\n",
      "Please also refer to the documentation for alternative solver options:\n",
      "    https://scikit-learn.org/stable/modules/linear_model.html#logistic-regression\n",
      "  n_iter_i = _check_optimize_result(\n",
      "/Users/elberaguilar/opt/anaconda3/lib/python3.9/site-packages/sklearn/model_selection/_split.py:684: UserWarning: The least populated class in y has only 1 members, which is less than n_splits=5.\n",
      "  warnings.warn(\n"
     ]
    },
    {
     "name": "stdout",
     "output_type": "stream",
     "text": [
      "***** Entrenamiento *****\n",
      "LR:\n",
      "mean RMSE: 583.329 (89.4513) \n",
      "mean MAE: 330.198 (55.2734) \n",
      "mean MAPE: 86.910 (23.2666)\n",
      "\n",
      "***** Validación *****\n",
      "LR:\n",
      "mean RMSE: 354.492 (24.4871) \n",
      "mean MAE: 154.900 (11.3436) \n",
      "mean MAPE: 48.037 (5.8040)\n",
      "\n"
     ]
    },
    {
     "name": "stderr",
     "output_type": "stream",
     "text": [
      "/Users/elberaguilar/opt/anaconda3/lib/python3.9/site-packages/sklearn/model_selection/_split.py:684: UserWarning: The least populated class in y has only 1 members, which is less than n_splits=5.\n",
      "  warnings.warn(\n",
      "/Users/elberaguilar/opt/anaconda3/lib/python3.9/site-packages/sklearn/model_selection/_split.py:684: UserWarning: The least populated class in y has only 1 members, which is less than n_splits=5.\n",
      "  warnings.warn(\n"
     ]
    },
    {
     "name": "stdout",
     "output_type": "stream",
     "text": [
      "***** Entrenamiento *****\n",
      "RFC:\n",
      "mean RMSE: 641.047 (82.1547) \n",
      "mean MAE: 358.970 (50.5595) \n",
      "mean MAPE: 114.649 (52.2502)\n",
      "\n",
      "***** Validación *****\n",
      "RFC:\n",
      "mean RMSE: 28.328 (19.9976) \n",
      "mean MAE: 2.167 (1.5440) \n",
      "mean MAPE: 1.070 (1.0065)\n",
      "\n"
     ]
    },
    {
     "name": "stderr",
     "output_type": "stream",
     "text": [
      "/Users/elberaguilar/opt/anaconda3/lib/python3.9/site-packages/sklearn/model_selection/_split.py:684: UserWarning: The least populated class in y has only 1 members, which is less than n_splits=5.\n",
      "  warnings.warn(\n",
      "/Users/elberaguilar/opt/anaconda3/lib/python3.9/site-packages/sklearn/neural_network/_multilayer_perceptron.py:702: ConvergenceWarning: Stochastic Optimizer: Maximum iterations (200) reached and the optimization hasn't converged yet.\n",
      "  warnings.warn(\n",
      "/Users/elberaguilar/opt/anaconda3/lib/python3.9/site-packages/sklearn/neural_network/_multilayer_perceptron.py:702: ConvergenceWarning: Stochastic Optimizer: Maximum iterations (200) reached and the optimization hasn't converged yet.\n",
      "  warnings.warn(\n",
      "/Users/elberaguilar/opt/anaconda3/lib/python3.9/site-packages/sklearn/neural_network/_multilayer_perceptron.py:702: ConvergenceWarning: Stochastic Optimizer: Maximum iterations (200) reached and the optimization hasn't converged yet.\n",
      "  warnings.warn(\n",
      "/Users/elberaguilar/opt/anaconda3/lib/python3.9/site-packages/sklearn/neural_network/_multilayer_perceptron.py:702: ConvergenceWarning: Stochastic Optimizer: Maximum iterations (200) reached and the optimization hasn't converged yet.\n",
      "  warnings.warn(\n",
      "/Users/elberaguilar/opt/anaconda3/lib/python3.9/site-packages/sklearn/neural_network/_multilayer_perceptron.py:702: ConvergenceWarning: Stochastic Optimizer: Maximum iterations (200) reached and the optimization hasn't converged yet.\n",
      "  warnings.warn(\n",
      "/Users/elberaguilar/opt/anaconda3/lib/python3.9/site-packages/sklearn/model_selection/_split.py:684: UserWarning: The least populated class in y has only 1 members, which is less than n_splits=5.\n",
      "  warnings.warn(\n",
      "/Users/elberaguilar/opt/anaconda3/lib/python3.9/site-packages/sklearn/neural_network/_multilayer_perceptron.py:702: ConvergenceWarning: Stochastic Optimizer: Maximum iterations (200) reached and the optimization hasn't converged yet.\n",
      "  warnings.warn(\n",
      "/Users/elberaguilar/opt/anaconda3/lib/python3.9/site-packages/sklearn/neural_network/_multilayer_perceptron.py:702: ConvergenceWarning: Stochastic Optimizer: Maximum iterations (200) reached and the optimization hasn't converged yet.\n",
      "  warnings.warn(\n",
      "/Users/elberaguilar/opt/anaconda3/lib/python3.9/site-packages/sklearn/neural_network/_multilayer_perceptron.py:702: ConvergenceWarning: Stochastic Optimizer: Maximum iterations (200) reached and the optimization hasn't converged yet.\n",
      "  warnings.warn(\n",
      "/Users/elberaguilar/opt/anaconda3/lib/python3.9/site-packages/sklearn/neural_network/_multilayer_perceptron.py:702: ConvergenceWarning: Stochastic Optimizer: Maximum iterations (200) reached and the optimization hasn't converged yet.\n",
      "  warnings.warn(\n",
      "/Users/elberaguilar/opt/anaconda3/lib/python3.9/site-packages/sklearn/neural_network/_multilayer_perceptron.py:702: ConvergenceWarning: Stochastic Optimizer: Maximum iterations (200) reached and the optimization hasn't converged yet.\n",
      "  warnings.warn(\n",
      "/Users/elberaguilar/opt/anaconda3/lib/python3.9/site-packages/sklearn/model_selection/_split.py:684: UserWarning: The least populated class in y has only 1 members, which is less than n_splits=5.\n",
      "  warnings.warn(\n",
      "/Users/elberaguilar/opt/anaconda3/lib/python3.9/site-packages/sklearn/neural_network/_multilayer_perceptron.py:702: ConvergenceWarning: Stochastic Optimizer: Maximum iterations (200) reached and the optimization hasn't converged yet.\n",
      "  warnings.warn(\n",
      "/Users/elberaguilar/opt/anaconda3/lib/python3.9/site-packages/sklearn/neural_network/_multilayer_perceptron.py:702: ConvergenceWarning: Stochastic Optimizer: Maximum iterations (200) reached and the optimization hasn't converged yet.\n",
      "  warnings.warn(\n",
      "/Users/elberaguilar/opt/anaconda3/lib/python3.9/site-packages/sklearn/neural_network/_multilayer_perceptron.py:702: ConvergenceWarning: Stochastic Optimizer: Maximum iterations (200) reached and the optimization hasn't converged yet.\n",
      "  warnings.warn(\n",
      "/Users/elberaguilar/opt/anaconda3/lib/python3.9/site-packages/sklearn/neural_network/_multilayer_perceptron.py:702: ConvergenceWarning: Stochastic Optimizer: Maximum iterations (200) reached and the optimization hasn't converged yet.\n",
      "  warnings.warn(\n"
     ]
    },
    {
     "name": "stdout",
     "output_type": "stream",
     "text": [
      "***** Entrenamiento *****\n",
      "MLP:\n",
      "mean RMSE: 650.401 (83.4681) \n",
      "mean MAE: 366.570 (39.5864) \n",
      "mean MAPE: 107.030 (18.9608)\n",
      "\n",
      "***** Validación *****\n",
      "MLP:\n",
      "mean RMSE: 655.640 (23.4092) \n",
      "mean MAE: 366.520 (9.9551) \n",
      "mean MAPE: 106.790 (8.6985)\n",
      "\n"
     ]
    },
    {
     "name": "stderr",
     "output_type": "stream",
     "text": [
      "/Users/elberaguilar/opt/anaconda3/lib/python3.9/site-packages/sklearn/neural_network/_multilayer_perceptron.py:702: ConvergenceWarning: Stochastic Optimizer: Maximum iterations (200) reached and the optimization hasn't converged yet.\n",
      "  warnings.warn(\n"
     ]
    }
   ],
   "source": [
    "# aplicamos los modelos \n",
    "\n",
    "modelos, nombres = getModelos()\n",
    "resultados = list()\n",
    "\n",
    "for i in range(len(modelos)):\n",
    "    \n",
    "    pipeline = Pipeline(steps=[('ct', colunmTransformer), ('m', modelos[i])])\n",
    "    kfold = RepeatedStratifiedKFold(n_splits=5, n_repeats=3, random_state=0)\n",
    "    \n",
    "    mismetricas = {'RMSE': make_scorer(mi_RMSE),\n",
    "               'MAE': make_scorer(mi_MAE),\n",
    "               'MAPE': make_scorer(mi_MAPE)}\n",
    "                        \n",
    "    resultadosImp = cross_validate(pipeline,\n",
    "                                   Xtrain, Ytrain,\n",
    "                                   scoring=mismetricas,\n",
    "                                   cv=kfold,\n",
    "                                   return_train_score=True)\n",
    "\n",
    "    resultados.append(resultadosImp)\n",
    "\n",
    "    print(\"***** Entrenamiento *****\")\n",
    "\n",
    "\n",
    "    print('%s:\\nmean RMSE: %.3f (%.4f) \\nmean MAE: %.3f (%.4f) \\nmean MAPE: %.3f (%.4f)\\n' % (nombres[i],\n",
    "                                                                              np.mean(resultadosImp['test_RMSE']),\n",
    "                                                                              np.std(resultadosImp['test_RMSE']),\n",
    "                                                                              np.mean(resultadosImp['test_MAE']),\n",
    "                                                                              np.std(resultadosImp['test_MAE']),\n",
    "                                                                              np.mean(resultadosImp['test_MAPE']),\n",
    "                                                                              np.std(resultadosImp['test_MAPE']), \n",
    "                                                                              ))\n",
    "\n",
    "\n",
    "    print(\"***** Validación *****\")\n",
    "\n",
    "    print('%s:\\nmean RMSE: %.3f (%.4f) \\nmean MAE: %.3f (%.4f) \\nmean MAPE: %.3f (%.4f)\\n' % (nombres[i],\n",
    "                                                                              np.mean(resultadosImp['train_RMSE']),\n",
    "                                                                              np.std(resultadosImp['train_RMSE']),\n",
    "                                                                              np.mean(resultadosImp['train_MAE']),\n",
    "                                                                              np.std(resultadosImp['train_MAE']),\n",
    "                                                                              np.mean(resultadosImp['train_MAPE']),\n",
    "                                                                              np.std(resultadosImp['train_MAPE']), \n",
    "                                                                              ))\n"
   ]
  },
  {
   "cell_type": "markdown",
   "metadata": {
    "id": "iCNGx4TQ8CFI"
   },
   "source": [
    "#**Ejercicio-7.**"
   ]
  },
  {
   "cell_type": "code",
   "execution_count": 127,
   "metadata": {
    "id": "ewvwUcJX78y1"
   },
   "outputs": [
    {
     "data": {
      "image/png": "[encoded data removed]",
      "text/plain": [
       "<Figure size 720x504 with 1 Axes>"
      ]
     },
     "metadata": {},
     "output_type": "display_data"
    }
   ],
   "source": [
    "## Diagramas de cajas y bigotes modelos\n",
    "\n",
    "sns.set(rc={'figure.figsize':(10,7)})\n",
    "bpRecall=list()\n",
    "\n",
    "for i in range(len(resultados)):\n",
    "    bpRecall.append(resultados[i][\"test_MAPE\"])\n",
    "\n",
    "plt.boxplot(bpRecall, labels=nombres, showmeans=True)\n",
    "\n",
    "plt.show()"
   ]
  },
  {
   "cell_type": "markdown",
   "metadata": {
    "id": "F1aW0dQX8BLL"
   },
   "source": [
    "**FALTAN Conclusiones**"
   ]
  },
  {
   "cell_type": "markdown",
   "metadata": {
    "id": "tzQn5NR78GFg"
   },
   "source": [
    "#**Ejercicio-8.**"
   ]
  },
  {
   "cell_type": "code",
   "execution_count": null,
   "metadata": {
    "id": "EBKcp0278IQV"
   },
   "outputs": [],
   "source": [
    "None"
   ]
  },
  {
   "cell_type": "code",
   "execution_count": null,
   "metadata": {
    "id": "vp8S0PFs8IMR"
   },
   "outputs": [],
   "source": []
  },
  {
   "cell_type": "markdown",
   "metadata": {
    "id": "mASNrZWs8JTh"
   },
   "source": [
    "#**Ejercicio-9.**"
   ]
  },
  {
   "cell_type": "code",
   "execution_count": null,
   "metadata": {
    "id": "X6HJP9hb8LCp"
   },
   "outputs": [],
   "source": [
    "None"
   ]
  },
  {
   "cell_type": "code",
   "execution_count": null,
   "metadata": {
    "id": "Xr6oe1VF8K_A"
   },
   "outputs": [],
   "source": []
  },
  {
   "cell_type": "markdown",
   "metadata": {
    "id": "VUIcDshs8MzG"
   },
   "source": [
    "#**Ejercicio-10.**"
   ]
  },
  {
   "cell_type": "code",
   "execution_count": null,
   "metadata": {
    "id": "0lKNJNIt8N88"
   },
   "outputs": [],
   "source": [
    "None"
   ]
  },
  {
   "cell_type": "code",
   "execution_count": null,
   "metadata": {
    "id": "Inkq5YQe8PED"
   },
   "outputs": [],
   "source": []
  },
  {
   "cell_type": "markdown",
   "metadata": {
    "id": "5LJl6oql8Pc8"
   },
   "source": [
    "#**Ejercicio-11.**"
   ]
  },
  {
   "cell_type": "code",
   "execution_count": null,
   "metadata": {
    "id": "-YiSnt9t8RfN"
   },
   "outputs": [],
   "source": [
    "None"
   ]
  },
  {
   "cell_type": "code",
   "execution_count": null,
   "metadata": {
    "id": "2iRA78ZC8Rbm"
   },
   "outputs": [],
   "source": []
  },
  {
   "cell_type": "markdown",
   "metadata": {
    "id": "IKW72uyk8Sbc"
   },
   "source": [
    "#**Ejercicio-12.**"
   ]
  },
  {
   "cell_type": "code",
   "execution_count": null,
   "metadata": {
    "id": "gwpz77W38Uq0"
   },
   "outputs": [],
   "source": [
    "None"
   ]
  },
  {
   "cell_type": "code",
   "execution_count": null,
   "metadata": {
    "id": "8v8HL02W8UmW"
   },
   "outputs": [],
   "source": []
  },
  {
   "cell_type": "markdown",
   "metadata": {
    "id": "7ql_r2G-DB_m"
   },
   "source": [
    "###**Fin de la Actividad de la semana 7.**"
   ]
  }
 ],
 "metadata": {
  "colab": {
   "collapsed_sections": [],
   "provenance": []
  },
  "kernelspec": {
   "display_name": "Python 3 (ipykernel)",
   "language": "python",
   "name": "python3"
  },
  "language_info": {
   "codemirror_mode": {
    "name": "ipython",
    "version": 3
   },
   "file_extension": ".py",
   "mimetype": "text/x-python",
   "name": "python",
   "nbconvert_exporter": "python",
   "pygments_lexer": "ipython3",
   "version": "3.9.12"
  }
 },
 "nbformat": 4,
 "nbformat_minor": 1
}
